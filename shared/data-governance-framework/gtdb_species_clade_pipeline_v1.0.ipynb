{
 "cells": [
  {
   "cell_type": "code",
   "execution_count": 1,
   "id": "09de6280",
   "metadata": {},
   "outputs": [
    {
     "name": "stdout",
     "output_type": "stream",
     "text": [
      "{\"time\": \"2025-07-09 21:45:00,842\", \"pipeline\": \"pangenome\", \"schema\": \"pangenome\", \"table\": \"gtdb_species_clade\", \"level\": \"INFO\", \"module\": \"927176468\", \"msg\": \"Notebook started\"}\n",
      "{\"time\": \"2025-07-09 21:45:00,854\", \"pipeline\": \"pangenome\", \"schema\": \"pangenome\", \"table\": \"gtdb_species_clade\", \"level\": \"INFO\", \"module\": \"config_loader\", \"msg\": \"ConfigLoader initialized for target table: gtdb_species_clade\"}\n",
      "{\"time\": \"2025-07-09 21:45:00,854\", \"pipeline\": \"pangenome\", \"schema\": \"pangenome\", \"table\": \"gtdb_species_clade\", \"level\": \"INFO\", \"module\": \"config_loader\", \"msg\": \"Resolved config path: s3a://cdm-lake/config-json/gtdb_species_clade.json\"}\n",
      "{\"time\": \"2025-07-09 21:45:00,858\", \"pipeline\": \"pangenome\", \"schema\": \"pangenome\", \"table\": \"gtdb_species_clade\", \"level\": \"INFO\", \"module\": \"config_loader\", \"msg\": \"Loading config from MinIO: bucket=cdm-lake, key=config-json/gtdb_species_clade.json\"}\n",
      "{\"time\": \"2025-07-09 21:45:01,025\", \"pipeline\": \"pangenome\", \"schema\": \"pangenome\", \"table\": \"gtdb_species_clade\", \"level\": \"INFO\", \"module\": \"config_loader\", \"msg\": \"Config loaded successfully from MinIO\"}\n",
      "{\"time\": \"2025-07-09 21:45:01,026\", \"pipeline\": \"pangenome\", \"schema\": \"pangenome\", \"table\": \"gtdb_species_clade\", \"level\": \"INFO\", \"module\": \"config_loader\", \"msg\": \"All required fields are present in the config\"}\n",
      "{\"time\": \"2025-07-09 21:45:01,027\", \"pipeline\": \"pangenome\", \"schema\": \"pangenome\", \"table\": \"gtdb_species_clade\", \"level\": \"DEBUG\", \"module\": \"config_loader\", \"msg\": \"Target table: pangenome.gtdb_species_clade\"}\n",
      "pangenome.gtdb_species_clade\n",
      "{\"time\": \"2025-07-09 21:45:01,352\", \"pipeline\": \"pangenome\", \"schema\": \"pangenome\", \"table\": \"gtdb_species_clade\", \"level\": \"INFO\", \"module\": \"spark_session\", \"msg\": \"Found 4 JARs in /home/jovyan/jars\"}\n",
      "{\"time\": \"2025-07-09 21:45:01,352\", \"pipeline\": \"pangenome\", \"schema\": \"pangenome\", \"table\": \"gtdb_species_clade\", \"level\": \"DEBUG\", \"module\": \"spark_session\", \"msg\": \"JARs: ['/home/jovyan/jars/aws-java-sdk-bundle-1.12.367.jar', '/home/jovyan/jars/delta-core_2.12-2.4.0.jar', '/home/jovyan/jars/delta-storage-2.4.0.jar', '/home/jovyan/jars/hadoop-aws-3.3.4.jar']\"}\n",
      "{\"time\": \"2025-07-09 21:45:01,353\", \"pipeline\": \"pangenome\", \"schema\": \"pangenome\", \"table\": \"gtdb_species_clade\", \"level\": \"INFO\", \"module\": \"spark_session\", \"msg\": \"Starting Spark session...\"}\n",
      "{\"time\": \"2025-07-09 21:45:06,360\", \"pipeline\": \"pangenome\", \"schema\": \"pangenome\", \"table\": \"gtdb_species_clade\", \"level\": \"INFO\", \"module\": \"spark_session\", \"msg\": \"Spark session started successfully\"}\n"
     ]
    }
   ],
   "source": [
    "import boto3\n",
    "import yaml\n",
    "from src.logger import setup_logger\n",
    "from src.minio_uploader import upload_to_minio\n",
    "\n",
    "# Set up logger\n",
    "pipeline_name = \"pangenome\"\n",
    "target_table = \"gtdb_species_clade\"\n",
    "schema = \"pangenome\"\n",
    "\n",
    "logger = setup_logger(\n",
    "    pipeline_name=pipeline_name,\n",
    "    target_table=target_table,\n",
    "    schema=schema\n",
    ")\n",
    "\n",
    "logger.info(\"Notebook started\")\n",
    "\n",
    "from config.config_loader import ConfigLoader\n",
    "\n",
    "# Path to config file in MinIO\n",
    "config_path = \"gtdb_species_clade\"\n",
    "\n",
    "# Load config\n",
    "loader = ConfigLoader(config_path, logger)\n",
    "loader.load_and_validate()\n",
    "\n",
    "# (Optional) Print something\n",
    "print(loader.get_target_table())\n",
    "\n",
    "# Start Spark\n",
    "from src.spark_session import start_spark_session\n",
    "spark = start_spark_session(logger=logger)"
   ]
  },
  {
   "cell_type": "code",
   "execution_count": 2,
   "id": "a5d3f825",
   "metadata": {},
   "outputs": [
    {
     "name": "stdout",
     "output_type": "stream",
     "text": [
      "{\"time\": \"2025-07-09 21:45:06,384\", \"pipeline\": \"pangenome\", \"schema\": \"pangenome\", \"table\": \"gtdb_species_clade\", \"level\": \"INFO\", \"module\": \"validate_schema\", \"msg\": \"Starting schema vs. file validation\"}\n",
      "{\"time\": \"2025-07-09 21:45:06,390\", \"pipeline\": \"pangenome\", \"schema\": \"pangenome\", \"table\": \"gtdb_species_clade\", \"level\": \"DEBUG\", \"module\": \"config_loader\", \"msg\": \"Output file: {'output_file_path': 's3a://cdm-lake/pangenome-source/table_gtdb_species_clade_V1.1.tsv', 'file_type': 'tsv', 'delimiter': '\\t', 'ignore_first_line': 'no'}\"}\n",
      "{\"time\": \"2025-07-09 21:45:06,391\", \"pipeline\": \"pangenome\", \"schema\": \"pangenome\", \"table\": \"gtdb_species_clade\", \"level\": \"INFO\", \"module\": \"validate_schema\", \"msg\": \"Output file: s3a://cdm-lake/pangenome-source/table_gtdb_species_clade_V1.1.tsv\"}\n",
      "{\"time\": \"2025-07-09 21:45:06,392\", \"pipeline\": \"pangenome\", \"schema\": \"pangenome\", \"table\": \"gtdb_species_clade\", \"level\": \"DEBUG\", \"module\": \"validate_schema\", \"msg\": \"Delimiter: \t, Ignore first line: False\"}\n",
      "{\"time\": \"2025-07-09 21:45:06,449\", \"pipeline\": \"pangenome\", \"schema\": \"pangenome\", \"table\": \"gtdb_species_clade\", \"level\": \"INFO\", \"module\": \"validate_schema\", \"msg\": \"Header columns successfully extracted from output file\"}\n",
      "{\"time\": \"2025-07-09 21:45:06,450\", \"pipeline\": \"pangenome\", \"schema\": \"pangenome\", \"table\": \"gtdb_species_clade\", \"level\": \"DEBUG\", \"module\": \"validate_schema\", \"msg\": \"Header columns: ['gtdb_species_clade_id', 'representative_genome_id', 'GTDB_species', 'GTDB_taxonomy', 'ANI_circumscription_radius', 'mean_intra_species_ANI', 'min_intra_species_ANI', 'mean_intra_species_AF', 'min_intra_species_AF', 'no_clustered_genomes_unfiltered', 'no_clustered_genomes_filtered']\"}\n",
      "{\"time\": \"2025-07-09 21:45:06,451\", \"pipeline\": \"pangenome\", \"schema\": \"pangenome\", \"table\": \"gtdb_species_clade\", \"level\": \"DEBUG\", \"module\": \"config_loader\", \"msg\": \"Schema file path: s3a://cdm-lake/schemas/pangenome-schema.yaml\"}\n",
      "{\"time\": \"2025-07-09 21:45:06,451\", \"pipeline\": \"pangenome\", \"schema\": \"pangenome\", \"table\": \"gtdb_species_clade\", \"level\": \"INFO\", \"module\": \"validate_schema\", \"msg\": \"Schema file: s3a://cdm-lake/schemas/pangenome-schema.yaml\"}\n",
      "{\"time\": \"2025-07-09 21:45:06,465\", \"pipeline\": \"pangenome\", \"schema\": \"pangenome\", \"table\": \"gtdb_species_clade\", \"level\": \"DEBUG\", \"module\": \"config_loader\", \"msg\": \"Target table: pangenome.gtdb_species_clade\"}\n",
      "{\"time\": \"2025-07-09 21:45:06,466\", \"pipeline\": \"pangenome\", \"schema\": \"pangenome\", \"table\": \"gtdb_species_clade\", \"level\": \"INFO\", \"module\": \"validate_schema\", \"msg\": \"Derived schema class name: gtdb_species_clade\"}\n",
      "{\"time\": \"2025-07-09 21:45:06,467\", \"pipeline\": \"pangenome\", \"schema\": \"pangenome\", \"table\": \"gtdb_species_clade\", \"level\": \"INFO\", \"module\": \"validate_schema\", \"msg\": \"Schema loaded and class found successfully\"}\n",
      "{\"time\": \"2025-07-09 21:45:06,467\", \"pipeline\": \"pangenome\", \"schema\": \"pangenome\", \"table\": \"gtdb_species_clade\", \"level\": \"DEBUG\", \"module\": \"validate_schema\", \"msg\": \"Schema columns: ['gtdb_species_clade_id', 'representative_genome_id', 'GTDB_species', 'GTDB_taxonomy', 'ANI_circumscription_radius', 'mean_intra_species_ANI', 'min_intra_species_ANI', 'mean_intra_species_AF', 'min_intra_species_AF', 'no_clustered_genomes_unfiltered', 'no_clustered_genomes_filtered']\"}\n",
      "{\"time\": \"2025-07-09 21:45:06,468\", \"pipeline\": \"pangenome\", \"schema\": \"pangenome\", \"table\": \"gtdb_species_clade\", \"level\": \"INFO\", \"module\": \"validate_schema\", \"msg\": \"Comparison between schema and file header completed\"}\n",
      "{\"time\": \"2025-07-09 21:45:06,469\", \"pipeline\": \"pangenome\", \"schema\": \"pangenome\", \"table\": \"gtdb_species_clade\", \"level\": \"INFO\", \"module\": \"validate_schema\", \"msg\": \"All schema columns are present in the file\"}\n",
      "{\"time\": \"2025-07-09 21:45:06,470\", \"pipeline\": \"pangenome\", \"schema\": \"pangenome\", \"table\": \"gtdb_species_clade\", \"level\": \"INFO\", \"module\": \"validate_schema\", \"msg\": \"No extra columns in the file\"}\n",
      "🔹 Header columns from file:\n",
      "['gtdb_species_clade_id', 'representative_genome_id', 'GTDB_species', 'GTDB_taxonomy', 'ANI_circumscription_radius', 'mean_intra_species_ANI', 'min_intra_species_ANI', 'mean_intra_species_AF', 'min_intra_species_AF', 'no_clustered_genomes_unfiltered', 'no_clustered_genomes_filtered']\n",
      "\n",
      "✅ Columns in schema class 'gtdb_species_clade':\n",
      "['gtdb_species_clade_id', 'representative_genome_id', 'GTDB_species', 'GTDB_taxonomy', 'ANI_circumscription_radius', 'mean_intra_species_ANI', 'min_intra_species_ANI', 'mean_intra_species_AF', 'min_intra_species_AF', 'no_clustered_genomes_unfiltered', 'no_clustered_genomes_filtered']\n",
      "\n",
      "🔍 Comparison results:\n",
      "✅ All schema columns are present in file\n",
      "✅ No extra columns in file\n"
     ]
    },
    {
     "data": {
      "text/plain": [
       "{'file_columns': ['gtdb_species_clade_id',\n",
       "  'representative_genome_id',\n",
       "  'GTDB_species',\n",
       "  'GTDB_taxonomy',\n",
       "  'ANI_circumscription_radius',\n",
       "  'mean_intra_species_ANI',\n",
       "  'min_intra_species_ANI',\n",
       "  'mean_intra_species_AF',\n",
       "  'min_intra_species_AF',\n",
       "  'no_clustered_genomes_unfiltered',\n",
       "  'no_clustered_genomes_filtered'],\n",
       " 'schema_columns': ['gtdb_species_clade_id',\n",
       "  'representative_genome_id',\n",
       "  'GTDB_species',\n",
       "  'GTDB_taxonomy',\n",
       "  'ANI_circumscription_radius',\n",
       "  'mean_intra_species_ANI',\n",
       "  'min_intra_species_ANI',\n",
       "  'mean_intra_species_AF',\n",
       "  'min_intra_species_AF',\n",
       "  'no_clustered_genomes_unfiltered',\n",
       "  'no_clustered_genomes_filtered'],\n",
       " 'missing_in_file': [],\n",
       " 'extra_in_file': []}"
      ]
     },
     "execution_count": 2,
     "metadata": {},
     "output_type": "execute_result"
    }
   ],
   "source": [
    "# Check schema headers\n",
    "from src.validate_schema import validate_schema_against_file\n",
    "validate_schema_against_file(loader, logger)"
   ]
  },
  {
   "cell_type": "code",
   "execution_count": 3,
   "id": "9ec38515",
   "metadata": {},
   "outputs": [
    {
     "name": "stdout",
     "output_type": "stream",
     "text": [
      "{\"time\": \"2025-07-09 21:45:06,482\", \"pipeline\": \"pangenome\", \"schema\": \"pangenome\", \"table\": \"gtdb_species_clade\", \"level\": \"DEBUG\", \"module\": \"config_loader\", \"msg\": \"Output file: {'output_file_path': 's3a://cdm-lake/pangenome-source/table_gtdb_species_clade_V1.1.tsv', 'file_type': 'tsv', 'delimiter': '\\t', 'ignore_first_line': 'no'}\"}\n",
      "{\"time\": \"2025-07-09 21:45:06,483\", \"pipeline\": \"pangenome\", \"schema\": \"pangenome\", \"table\": \"gtdb_species_clade\", \"level\": \"INFO\", \"module\": \"run_validations\", \"msg\": \"Starting validation on file: s3a://cdm-lake/pangenome-source/table_gtdb_species_clade_V1.1.tsv\"}\n",
      "{\"time\": \"2025-07-09 21:45:06,484\", \"pipeline\": \"pangenome\", \"schema\": \"pangenome\", \"table\": \"gtdb_species_clade\", \"level\": \"DEBUG\", \"module\": \"run_validations\", \"msg\": \"Delimiter: \t, Ignore first line: False\"}\n",
      "{\"time\": \"2025-07-09 21:45:06,484\", \"pipeline\": \"pangenome\", \"schema\": \"pangenome\", \"table\": \"gtdb_species_clade\", \"level\": \"DEBUG\", \"module\": \"config_loader\", \"msg\": \"Validations: [{'column': 'gtdb_species_clade_id', 'validation_type': 'not_null', 'error_message': 'Missing species clade ID'}, {'column': 'gtdb_species_clade_id', 'validation_type': 'regex_match', 'pattern': '^[A-Za-z0-9_.-]+$', 'error_message': 'Invalid clade ID format'}, {'column': 'ANI_circumscription_radius', 'validation_type': 'numeric_range', 'min': 0, 'max': 100, 'error_message': 'ANI_circumscription_radius must be between 0 and 100'}, {'column': 'mean_intra_species_ANI', 'validation_type': 'numeric_range', 'min': 0, 'max': 100, 'error_message': 'mean_intra_species_ANI must be between 0 and 100'}, {'column': 'min_intra_species_ANI', 'validation_type': 'numeric_range', 'min': 0, 'max': 100, 'error_message': 'min_intra_species_ANI must be between 0 and 100'}]\"}\n",
      "{\"time\": \"2025-07-09 21:45:06,485\", \"pipeline\": \"pangenome\", \"schema\": \"pangenome\", \"table\": \"gtdb_species_clade\", \"level\": \"DEBUG\", \"module\": \"run_validations\", \"msg\": \"Validation rules: [{'column': 'gtdb_species_clade_id', 'validation_type': 'not_null', 'error_message': 'Missing species clade ID'}, {'column': 'gtdb_species_clade_id', 'validation_type': 'regex_match', 'pattern': '^[A-Za-z0-9_.-]+$', 'error_message': 'Invalid clade ID format'}, {'column': 'ANI_circumscription_radius', 'validation_type': 'numeric_range', 'min': 0, 'max': 100, 'error_message': 'ANI_circumscription_radius must be between 0 and 100'}, {'column': 'mean_intra_species_ANI', 'validation_type': 'numeric_range', 'min': 0, 'max': 100, 'error_message': 'mean_intra_species_ANI must be between 0 and 100'}, {'column': 'min_intra_species_ANI', 'validation_type': 'numeric_range', 'min': 0, 'max': 100, 'error_message': 'min_intra_species_ANI must be between 0 and 100'}]\"}\n",
      "\n",
      "🔍 Running validations:\n",
      "\n",
      "{\"time\": \"2025-07-09 21:45:06,683\", \"pipeline\": \"pangenome\", \"schema\": \"pangenome\", \"table\": \"gtdb_species_clade\", \"level\": \"INFO\", \"module\": \"run_validations\", \"msg\": \"Running validations...\"}\n",
      "{\"time\": \"2025-07-09 21:45:06,684\", \"pipeline\": \"pangenome\", \"schema\": \"pangenome\", \"table\": \"gtdb_species_clade\", \"level\": \"DEBUG\", \"module\": \"run_validations\", \"msg\": \"Header columns: ['gtdb_species_clade_id', 'representative_genome_id', 'GTDB_species', 'GTDB_taxonomy', 'ANI_circumscription_radius', 'mean_intra_species_ANI', 'min_intra_species_ANI', 'mean_intra_species_AF', 'min_intra_species_AF', 'no_clustered_genomes_unfiltered', 'no_clustered_genomes_filtered']\"}\n",
      "\n",
      "📋 Validation Summary:\n",
      "{\"time\": \"2025-07-09 21:45:06,717\", \"pipeline\": \"pangenome\", \"schema\": \"pangenome\", \"table\": \"gtdb_species_clade\", \"level\": \"INFO\", \"module\": \"run_validations\", \"msg\": \"Validation summary:\"}\n",
      "✅ All validation rules ran successfully. No issues found.\n",
      "{\"time\": \"2025-07-09 21:45:06,718\", \"pipeline\": \"pangenome\", \"schema\": \"pangenome\", \"table\": \"gtdb_species_clade\", \"level\": \"INFO\", \"module\": \"run_validations\", \"msg\": \"All validation rules passed. No issues found.\"}\n"
     ]
    },
    {
     "data": {
      "text/plain": [
       "{'file_path': 's3a://cdm-lake/pangenome-source/table_gtdb_species_clade_V1.1.tsv',\n",
       " 'validation_errors': [],\n",
       " 'success': True}"
      ]
     },
     "execution_count": 3,
     "metadata": {},
     "output_type": "execute_result"
    }
   ],
   "source": [
    "# Run validations\n",
    "from src.run_validations import run_validations_from_config\n",
    "run_validations_from_config(loader, logger)"
   ]
  },
  {
   "cell_type": "code",
   "execution_count": 4,
   "id": "bced3511",
   "metadata": {},
   "outputs": [
    {
     "name": "stdout",
     "output_type": "stream",
     "text": [
      "{\"time\": \"2025-07-09 21:45:06,736\", \"pipeline\": \"pangenome\", \"schema\": \"pangenome\", \"table\": \"gtdb_species_clade\", \"level\": \"INFO\", \"module\": \"config_loader\", \"msg\": \"Loading config from MinIO: bucket=cdm-lake, key=config-json/gtdb_species_clade.json\"}\n",
      "{\"time\": \"2025-07-09 21:45:06,746\", \"pipeline\": \"pangenome\", \"schema\": \"pangenome\", \"table\": \"gtdb_species_clade\", \"level\": \"INFO\", \"module\": \"config_loader\", \"msg\": \"Config loaded successfully from MinIO\"}\n",
      "{\"time\": \"2025-07-09 21:45:06,747\", \"pipeline\": \"pangenome\", \"schema\": \"pangenome\", \"table\": \"gtdb_species_clade\", \"level\": \"INFO\", \"module\": \"config_loader\", \"msg\": \"All required fields are present in the config\"}\n",
      "{\"time\": \"2025-07-09 21:45:06,747\", \"pipeline\": \"pangenome\", \"schema\": \"pangenome\", \"table\": \"gtdb_species_clade\", \"level\": \"DEBUG\", \"module\": \"config_loader\", \"msg\": \"Referential integrity rules: [{'foreign_key': 'representative_genome_id', 'reference_table': 'genome', 'reference_column': 'genome_id', 'database': 'pangenome', 'action': 'log'}]\"}\n",
      "{\"time\": \"2025-07-09 21:45:06,748\", \"pipeline\": \"pangenome\", \"schema\": \"pangenome\", \"table\": \"gtdb_species_clade\", \"level\": \"DEBUG\", \"module\": \"config_loader\", \"msg\": \"Target table: pangenome.gtdb_species_clade\"}\n",
      "{\"time\": \"2025-07-09 21:45:12,456\", \"pipeline\": \"pangenome\", \"schema\": \"pangenome\", \"table\": \"gtdb_species_clade\", \"level\": \"INFO\", \"module\": \"run_referential_integrity_checks\", \"msg\": \"Starting referential integrity checks for table: pangenome.gtdb_species_clade\"}\n",
      "{\"time\": \"2025-07-09 21:45:12,457\", \"pipeline\": \"pangenome\", \"schema\": \"pangenome\", \"table\": \"gtdb_species_clade\", \"level\": \"INFO\", \"module\": \"run_referential_integrity_checks\", \"msg\": \"Checking foreign key: representative_genome_id in pangenome.gtdb_species_clade → genome_id in pangenome.genome\"}\n",
      "\n",
      "🔍 Checking FK `representative_genome_id` in `pangenome.gtdb_species_clade` → `genome_id` in `pangenome.genome`\n",
      "{\"time\": \"2025-07-09 21:45:18,484\", \"pipeline\": \"pangenome\", \"schema\": \"pangenome\", \"table\": \"gtdb_species_clade\", \"level\": \"INFO\", \"module\": \"run_referential_integrity_checks\", \"msg\": \"Violations found: 716\"}\n",
      " → Violations found: 716\n",
      " → Sample violations:\n",
      "{\"time\": \"2025-07-09 21:45:18,486\", \"pipeline\": \"pangenome\", \"schema\": \"pangenome\", \"table\": \"gtdb_species_clade\", \"level\": \"WARNING\", \"module\": \"run_referential_integrity_checks\", \"msg\": \"716 violations found in referential integrity check for FK: representative_genome_id → genome_id in pangenome.genome\"}\n",
      "{\"time\": \"2025-07-09 21:45:20,033\", \"pipeline\": \"pangenome\", \"schema\": \"pangenome\", \"table\": \"gtdb_species_clade\", \"level\": \"ERROR\", \"module\": \"run_referential_integrity_checks\", \"msg\": \"Sample violations for FK 'representative_genome_id': [{'representative_genome_id': 'RS_GCF_001544255.1'}, {'representative_genome_id': 'RS_GCF_002055535.1'}, {'representative_genome_id': 'RS_GCF_000008985.1'}, {'representative_genome_id': 'RS_GCF_001457655.1'}, {'representative_genome_id': 'GB_GCA_900637675.1'}]\"}\n",
      "{\"time\": \"2025-07-09 21:45:20,039\", \"pipeline\": \"pangenome\", \"schema\": \"pangenome\", \"table\": \"gtdb_species_clade\", \"level\": \"DEBUG\", \"module\": \"config_loader\", \"msg\": \"Logging config: {'error_table': 'gtdb_species_clade_errors', 'output_delta_path': 's3a://cdm-lake/logs/errors/gtdb_species_clade'}\"}\n",
      "{\"time\": \"2025-07-09 21:45:23,479\", \"pipeline\": \"pangenome\", \"schema\": \"pangenome\", \"table\": \"gtdb_species_clade\", \"level\": \"ERROR\", \"module\": \"run_referential_integrity_checks\", \"msg\": \"Referential integrity violations written to Delta table: pangenome.gtdb_species_clade_errors at s3a://cdm-lake/logs/errors/gtdb_species_clade\"}\n",
      "\n",
      "🚨 All violations logged to: pangenome.gtdb_species_clade_errors\n",
      "{\"time\": \"2025-07-09 21:45:23,480\", \"pipeline\": \"pangenome\", \"schema\": \"pangenome\", \"table\": \"gtdb_species_clade\", \"level\": \"WARNING\", \"module\": \"run_referential_integrity_checks\", \"msg\": \"Referential integrity check(s) failed.\"}\n",
      "\n",
      "❌ Some referential integrity checks failed.\n"
     ]
    },
    {
     "data": {
      "text/plain": [
       "False"
      ]
     },
     "execution_count": 4,
     "metadata": {},
     "output_type": "execute_result"
    }
   ],
   "source": [
    "# Referential integrity\n",
    "from src.run_referential_integrity_checks import run_referential_integrity_checks\n",
    "run_referential_integrity_checks(spark, loader, logger)"
   ]
  },
  {
   "cell_type": "code",
   "execution_count": 5,
   "id": "a53b1850",
   "metadata": {
    "scrolled": false
   },
   "outputs": [],
   "source": [
    "\n",
    "# Check TSV format\n",
    "#from src.input_file_validator import validate_input_files\n",
    "#validate_input_files(loader)\n",
    "\n",
    "\n",
    "\n",
    "\n",
    "\n",
    "\n",
    "\n",
    "#import importlib\n",
    "#import src.run_great_expectations_validations\n",
    "\n",
    "#importlib.reload(src.run_great_expectations_validations)\n",
    "\n",
    "\n"
   ]
  },
  {
   "cell_type": "code",
   "execution_count": 6,
   "id": "8d8585bf",
   "metadata": {},
   "outputs": [
    {
     "name": "stdout",
     "output_type": "stream",
     "text": [
      "{\"time\": \"2025-07-09 21:45:25,115\", \"pipeline\": \"pangenome\", \"schema\": \"pangenome\", \"table\": \"gtdb_species_clade\", \"level\": \"DEBUG\", \"module\": \"config_loader\", \"msg\": \"Target table: pangenome.gtdb_species_clade\"}\n",
      "{\"time\": \"2025-07-09 21:45:25,116\", \"pipeline\": \"pangenome\", \"schema\": \"pangenome\", \"table\": \"gtdb_species_clade\", \"level\": \"INFO\", \"module\": \"run_great_expectations_validations\", \"msg\": \"Starting Great Expectations validation for table: pangenome.gtdb_species_clade with suite: default_suite\"}\n",
      "{\"time\": \"2025-07-09 21:45:25,169\", \"pipeline\": \"pangenome\", \"schema\": \"pangenome\", \"table\": \"gtdb_species_clade\", \"level\": \"INFO\", \"module\": \"run_great_expectations_validations\", \"msg\": \"Loaded Spark table: pangenome.gtdb_species_clade\"}\n",
      "{\"time\": \"2025-07-09 21:45:25,326\", \"pipeline\": \"pangenome\", \"schema\": \"pangenome\", \"table\": \"gtdb_species_clade\", \"level\": \"INFO\", \"module\": \"run_great_expectations_validations\", \"msg\": \"Great Expectations context initialized.\"}\n",
      "{\"time\": \"2025-07-09 21:45:25,346\", \"pipeline\": \"pangenome\", \"schema\": \"pangenome\", \"table\": \"gtdb_species_clade\", \"level\": \"INFO\", \"module\": \"run_great_expectations_validations\", \"msg\": \"Expectation suite 'default_suite' added or updated.\"}\n",
      "{\"time\": \"2025-07-09 21:45:25,449\", \"pipeline\": \"pangenome\", \"schema\": \"pangenome\", \"table\": \"gtdb_species_clade\", \"level\": \"INFO\", \"module\": \"run_great_expectations_validations\", \"msg\": \"Spark datasource registered in GE context.\"}\n",
      "{\"time\": \"2025-07-09 21:45:25,450\", \"pipeline\": \"pangenome\", \"schema\": \"pangenome\", \"table\": \"gtdb_species_clade\", \"level\": \"DEBUG\", \"module\": \"run_great_expectations_validations\", \"msg\": \"Batch request created for data asset: pangenome_gtdb_species_clade\"}\n",
      "{\"time\": \"2025-07-09 21:45:25,692\", \"pipeline\": \"pangenome\", \"schema\": \"pangenome\", \"table\": \"gtdb_species_clade\", \"level\": \"INFO\", \"module\": \"run_great_expectations_validations\", \"msg\": \"Validator initialized for batch request.\"}\n",
      "{\"time\": \"2025-07-09 21:45:25,694\", \"pipeline\": \"pangenome\", \"schema\": \"pangenome\", \"table\": \"gtdb_species_clade\", \"level\": \"DEBUG\", \"module\": \"run_great_expectations_validations\", \"msg\": \"Found 5 expectations to apply.\"}\n",
      "{\"time\": \"2025-07-09 21:45:25,695\", \"pipeline\": \"pangenome\", \"schema\": \"pangenome\", \"table\": \"gtdb_species_clade\", \"level\": \"DEBUG\", \"module\": \"run_great_expectations_validations\", \"msg\": \"Loaded GE validations config: [{'expectation_type': 'expect_column_values_to_not_be_null', 'params': {'column': 'gtdb_species_clade_id'}}, {'expectation_type': 'expect_column_values_to_match_regex', 'params': {'column': 'gtdb_species_clade_id', 'regex': '^[A-Za-z0-9_.-]+$'}}, {'expectation_type': 'expect_column_values_to_be_between', 'params': {'column': 'ANI_circumscription_radius', 'min_value': 0, 'max_value': 100}}, {'expectation_type': 'expect_column_values_to_be_between', 'params': {'column': 'mean_intra_species_ANI', 'min_value': 0, 'max_value': 100}}, {'expectation_type': 'expect_column_values_to_be_between', 'params': {'column': 'min_intra_species_ANI', 'min_value': 0, 'max_value': 100}}]\"}\n"
     ]
    },
    {
     "data": {
      "application/vnd.jupyter.widget-view+json": {
       "model_id": "88004c5e3c034a3287ebeb5c5fa9db70",
       "version_major": 2,
       "version_minor": 0
      },
      "text/plain": [
       "Calculating Metrics:   0%|          | 0/8 [00:00<?, ?it/s]"
      ]
     },
     "metadata": {},
     "output_type": "display_data"
    },
    {
     "name": "stdout",
     "output_type": "stream",
     "text": [
      "{\"time\": \"2025-07-09 21:45:26,441\", \"pipeline\": \"pangenome\", \"schema\": \"pangenome\", \"table\": \"gtdb_species_clade\", \"level\": \"INFO\", \"module\": \"run_great_expectations_validations\", \"msg\": \"Applied GE expectation: expect_column_values_to_not_be_null with args {'column': 'gtdb_species_clade_id'} → result: True\"}\n"
     ]
    },
    {
     "data": {
      "application/vnd.jupyter.widget-view+json": {
       "model_id": "e5f87d15eb4a48aba14f438b9c83c233",
       "version_major": 2,
       "version_minor": 0
      },
      "text/plain": [
       "Calculating Metrics:   0%|          | 0/11 [00:00<?, ?it/s]"
      ]
     },
     "metadata": {},
     "output_type": "display_data"
    },
    {
     "name": "stdout",
     "output_type": "stream",
     "text": [
      "{\"time\": \"2025-07-09 21:45:26,712\", \"pipeline\": \"pangenome\", \"schema\": \"pangenome\", \"table\": \"gtdb_species_clade\", \"level\": \"INFO\", \"module\": \"run_great_expectations_validations\", \"msg\": \"Applied GE expectation: expect_column_values_to_match_regex with args {'column': 'gtdb_species_clade_id', 'regex': '^[A-Za-z0-9_.-]+$'} → result: True\"}\n"
     ]
    },
    {
     "data": {
      "application/vnd.jupyter.widget-view+json": {
       "model_id": "de3ea7a51ead4efcb522ac7147e26df8",
       "version_major": 2,
       "version_minor": 0
      },
      "text/plain": [
       "Calculating Metrics:   0%|          | 0/11 [00:00<?, ?it/s]"
      ]
     },
     "metadata": {},
     "output_type": "display_data"
    },
    {
     "name": "stdout",
     "output_type": "stream",
     "text": [
      "{\"time\": \"2025-07-09 21:45:26,954\", \"pipeline\": \"pangenome\", \"schema\": \"pangenome\", \"table\": \"gtdb_species_clade\", \"level\": \"INFO\", \"module\": \"run_great_expectations_validations\", \"msg\": \"Applied GE expectation: expect_column_values_to_be_between with args {'column': 'ANI_circumscription_radius', 'min_value': 0, 'max_value': 100} → result: True\"}\n"
     ]
    },
    {
     "data": {
      "application/vnd.jupyter.widget-view+json": {
       "model_id": "dc89114a25a94dea80502cd8da81a326",
       "version_major": 2,
       "version_minor": 0
      },
      "text/plain": [
       "Calculating Metrics:   0%|          | 0/11 [00:00<?, ?it/s]"
      ]
     },
     "metadata": {},
     "output_type": "display_data"
    },
    {
     "name": "stdout",
     "output_type": "stream",
     "text": [
      "{\"time\": \"2025-07-09 21:45:27,173\", \"pipeline\": \"pangenome\", \"schema\": \"pangenome\", \"table\": \"gtdb_species_clade\", \"level\": \"INFO\", \"module\": \"run_great_expectations_validations\", \"msg\": \"Applied GE expectation: expect_column_values_to_be_between with args {'column': 'mean_intra_species_ANI', 'min_value': 0, 'max_value': 100} → result: True\"}\n"
     ]
    },
    {
     "data": {
      "application/vnd.jupyter.widget-view+json": {
       "model_id": "3515d46221734b9ebd56ed286023c50d",
       "version_major": 2,
       "version_minor": 0
      },
      "text/plain": [
       "Calculating Metrics:   0%|          | 0/11 [00:00<?, ?it/s]"
      ]
     },
     "metadata": {},
     "output_type": "display_data"
    },
    {
     "name": "stdout",
     "output_type": "stream",
     "text": [
      "{\"time\": \"2025-07-09 21:45:27,376\", \"pipeline\": \"pangenome\", \"schema\": \"pangenome\", \"table\": \"gtdb_species_clade\", \"level\": \"INFO\", \"module\": \"run_great_expectations_validations\", \"msg\": \"Applied GE expectation: expect_column_values_to_be_between with args {'column': 'min_intra_species_ANI', 'min_value': 0, 'max_value': 100} → result: True\"}\n",
      "{\"time\": \"2025-07-09 21:45:27,402\", \"pipeline\": \"pangenome\", \"schema\": \"pangenome\", \"table\": \"gtdb_species_clade\", \"level\": \"INFO\", \"module\": \"run_great_expectations_validations\", \"msg\": \"Expectations saved to suite.\"}\n"
     ]
    },
    {
     "data": {
      "application/vnd.jupyter.widget-view+json": {
       "model_id": "b10dcc01cb474cdbac63b7779bf74945",
       "version_major": 2,
       "version_minor": 0
      },
      "text/plain": [
       "Calculating Metrics:   0%|          | 0/33 [00:00<?, ?it/s]"
      ]
     },
     "metadata": {},
     "output_type": "display_data"
    },
    {
     "name": "stdout",
     "output_type": "stream",
     "text": [
      "{\"time\": \"2025-07-09 21:45:27,968\", \"pipeline\": \"pangenome\", \"schema\": \"pangenome\", \"table\": \"gtdb_species_clade\", \"level\": \"INFO\", \"module\": \"run_great_expectations_validations\", \"msg\": \"Validation run completed.\"}\n",
      "{\"time\": \"2025-07-09 21:45:27,972\", \"pipeline\": \"pangenome\", \"schema\": \"pangenome\", \"table\": \"gtdb_species_clade\", \"level\": \"DEBUG\", \"module\": \"run_great_expectations_validations\", \"msg\": \"Validation summary: {'success': True, 'successful_expectations': 5, 'unsuccessful_expectations': 0, 'success_percent': 100.0}\"}\n",
      "{\"time\": \"2025-07-09 21:45:29,460\", \"pipeline\": \"pangenome\", \"schema\": \"pangenome\", \"table\": \"gtdb_species_clade\", \"level\": \"INFO\", \"module\": \"run_great_expectations_validations\", \"msg\": \"Data Docs built after validation.\"}\n"
     ]
    },
    {
     "data": {
      "application/vnd.jupyter.widget-view+json": {
       "model_id": "3b14115ad5814a5e98fa4b99395df483",
       "version_major": 2,
       "version_minor": 0
      },
      "text/plain": [
       "Calculating Metrics:   0%|          | 0/43 [00:00<?, ?it/s]"
      ]
     },
     "metadata": {},
     "output_type": "display_data"
    },
    {
     "name": "stdout",
     "output_type": "stream",
     "text": [
      "{\"time\": \"2025-07-09 21:45:31,143\", \"pipeline\": \"pangenome\", \"schema\": \"pangenome\", \"table\": \"gtdb_species_clade\", \"level\": \"INFO\", \"module\": \"run_great_expectations_validations\", \"msg\": \"Checkpoint executed.\"}\n",
      "{\"time\": \"2025-07-09 21:45:32,747\", \"pipeline\": \"pangenome\", \"schema\": \"pangenome\", \"table\": \"gtdb_species_clade\", \"level\": \"INFO\", \"module\": \"run_great_expectations_validations\", \"msg\": \"Data Docs rebuilt with checkpoint results.\"}\n",
      "✅ GE validation and checkpoint complete. Data Docs generated.\n",
      "✅ Uploaded log to MinIO at: s3://cdm-lake/logs/pangenome/pipeline_run_20250709_214500.log\n"
     ]
    }
   ],
   "source": [
    "# Great Expectations\n",
    "from src.run_great_expectations_validations import run_great_expectations_validation\n",
    "run_great_expectations_validation(spark, loader, logger)\n",
    "\n",
    "\n",
    "# Upload log file to MinIO\n",
    "upload_to_minio(logger.log_file_path)"
   ]
  },
  {
   "cell_type": "code",
   "execution_count": null,
   "id": "b89f5279",
   "metadata": {},
   "outputs": [],
   "source": []
  }
 ],
 "metadata": {
  "kernelspec": {
   "display_name": "Python 3 (ipykernel)",
   "language": "python",
   "name": "python3"
  },
  "language_info": {
   "codemirror_mode": {
    "name": "ipython",
    "version": 3
   },
   "file_extension": ".py",
   "mimetype": "text/x-python",
   "name": "python",
   "nbconvert_exporter": "python",
   "pygments_lexer": "ipython3",
   "version": "3.10.11"
  }
 },
 "nbformat": 4,
 "nbformat_minor": 5
}
