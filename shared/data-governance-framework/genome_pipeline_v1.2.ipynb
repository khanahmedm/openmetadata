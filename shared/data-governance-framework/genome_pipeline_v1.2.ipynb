{
 "cells": [
  {
   "cell_type": "code",
   "execution_count": 1,
   "id": "202304d2",
   "metadata": {},
   "outputs": [
    {
     "name": "stdout",
     "output_type": "stream",
     "text": [
      "{\"time\": \"2025-07-08 16:33:31,932\", \"pipeline\": \"pangenome\", \"schema\": \"pangenome\", \"table\": \"genome\", \"level\": \"INFO\", \"module\": \"2161914337\", \"msg\": \"Notebook started\"}\n",
      "{\"time\": \"2025-07-08 16:33:31,944\", \"pipeline\": \"pangenome\", \"schema\": \"pangenome\", \"table\": \"genome\", \"level\": \"INFO\", \"module\": \"config_loader\", \"msg\": \"ConfigLoader initialized for target table: genome\"}\n",
      "{\"time\": \"2025-07-08 16:33:31,945\", \"pipeline\": \"pangenome\", \"schema\": \"pangenome\", \"table\": \"genome\", \"level\": \"INFO\", \"module\": \"config_loader\", \"msg\": \"Resolved config path: s3a://cdm-lake/config-json/genome.json\"}\n",
      "{\"time\": \"2025-07-08 16:33:31,946\", \"pipeline\": \"pangenome\", \"schema\": \"pangenome\", \"table\": \"genome\", \"level\": \"INFO\", \"module\": \"config_loader\", \"msg\": \"Loading config from MinIO: bucket=cdm-lake, key=config-json/genome.json\"}\n",
      "{\"time\": \"2025-07-08 16:33:32,100\", \"pipeline\": \"pangenome\", \"schema\": \"pangenome\", \"table\": \"genome\", \"level\": \"INFO\", \"module\": \"config_loader\", \"msg\": \"Config loaded successfully from MinIO\"}\n",
      "{\"time\": \"2025-07-08 16:33:32,101\", \"pipeline\": \"pangenome\", \"schema\": \"pangenome\", \"table\": \"genome\", \"level\": \"INFO\", \"module\": \"config_loader\", \"msg\": \"All required fields are present in the config\"}\n",
      "{\"time\": \"2025-07-08 16:33:32,102\", \"pipeline\": \"pangenome\", \"schema\": \"pangenome\", \"table\": \"genome\", \"level\": \"DEBUG\", \"module\": \"config_loader\", \"msg\": \"Target table: pangenome.genome\"}\n",
      "pangenome.genome\n",
      "{\"time\": \"2025-07-08 16:33:32,381\", \"pipeline\": \"pangenome\", \"schema\": \"pangenome\", \"table\": \"genome\", \"level\": \"INFO\", \"module\": \"spark_session\", \"msg\": \"Found 4 JARs in /home/jovyan/jars\"}\n",
      "{\"time\": \"2025-07-08 16:33:32,381\", \"pipeline\": \"pangenome\", \"schema\": \"pangenome\", \"table\": \"genome\", \"level\": \"DEBUG\", \"module\": \"spark_session\", \"msg\": \"JARs: ['/home/jovyan/jars/aws-java-sdk-bundle-1.12.367.jar', '/home/jovyan/jars/delta-core_2.12-2.4.0.jar', '/home/jovyan/jars/delta-storage-2.4.0.jar', '/home/jovyan/jars/hadoop-aws-3.3.4.jar']\"}\n",
      "{\"time\": \"2025-07-08 16:33:32,382\", \"pipeline\": \"pangenome\", \"schema\": \"pangenome\", \"table\": \"genome\", \"level\": \"INFO\", \"module\": \"spark_session\", \"msg\": \"Starting Spark session...\"}\n",
      "{\"time\": \"2025-07-08 16:33:37,004\", \"pipeline\": \"pangenome\", \"schema\": \"pangenome\", \"table\": \"genome\", \"level\": \"INFO\", \"module\": \"spark_session\", \"msg\": \"Spark session started successfully\"}\n"
     ]
    }
   ],
   "source": [
    "import boto3\n",
    "import yaml\n",
    "from src.logger import setup_logger\n",
    "from src.minio_uploader import upload_to_minio\n",
    "\n",
    "# Set up logger\n",
    "pipeline_name = \"pangenome\"\n",
    "target_table = \"genome\"\n",
    "schema = \"pangenome\"\n",
    "\n",
    "logger = setup_logger(\n",
    "    pipeline_name=pipeline_name,\n",
    "    target_table=target_table,\n",
    "    schema=schema\n",
    ")\n",
    "\n",
    "logger.info(\"Notebook started\")\n",
    "\n",
    "from config.config_loader import ConfigLoader\n",
    "\n",
    "# Path to config file in MinIO\n",
    "config_path = \"genome\"\n",
    "\n",
    "# Load config\n",
    "loader = ConfigLoader(config_path, logger)\n",
    "loader.load_and_validate()\n",
    "\n",
    "# (Optional) Print something\n",
    "print(loader.get_target_table())\n",
    "\n",
    "# Start Spark\n",
    "from src.spark_session import start_spark_session\n",
    "spark = start_spark_session(logger=logger)"
   ]
  },
  {
   "cell_type": "code",
   "execution_count": null,
   "id": "a53b1850",
   "metadata": {
    "scrolled": false
   },
   "outputs": [],
   "source": [
    "\n",
    "# Validate input files\n",
    "from src.input_file_validator import validate_input_files\n",
    "validate_input_files(loader, logger)\n",
    "\n",
    "\n",
    "# Check schema headers\n",
    "from src.validate_schema import validate_schema_against_file\n",
    "validate_schema_against_file(loader, logger)\n",
    "\n",
    "\n",
    "# Check TSV format\n",
    "#from src.input_file_validator import validate_input_files\n",
    "#validate_input_files(loader)\n",
    "\n",
    "# Run validations\n",
    "from src.run_validations import run_validations_from_config\n",
    "run_validations_from_config(loader, logger)\n",
    "\n",
    "\n",
    "# Referential integrity\n",
    "from src.run_referential_integrity_checks import run_referential_integrity_checks\n",
    "run_referential_integrity_checks(spark, loader, logger)\n",
    "\n",
    "\n",
    "#import importlib\n",
    "#import src.run_great_expectations_validations\n",
    "\n",
    "#importlib.reload(src.run_great_expectations_validations)\n",
    "\n",
    "\n"
   ]
  },
  {
   "cell_type": "code",
   "execution_count": 2,
   "id": "0a2e5bcb",
   "metadata": {},
   "outputs": [
    {
     "name": "stdout",
     "output_type": "stream",
     "text": [
      "{\"time\": \"2025-07-08 16:33:49,139\", \"pipeline\": \"pangenome\", \"schema\": \"pangenome\", \"table\": \"genome\", \"level\": \"DEBUG\", \"module\": \"config_loader\", \"msg\": \"Target table: pangenome.genome\"}\n",
      "{\"time\": \"2025-07-08 16:33:49,140\", \"pipeline\": \"pangenome\", \"schema\": \"pangenome\", \"table\": \"genome\", \"level\": \"INFO\", \"module\": \"run_great_expectations_validations\", \"msg\": \"Starting Great Expectations validation for table: pangenome.genome with suite: default_suite\"}\n",
      "{\"time\": \"2025-07-08 16:33:54,405\", \"pipeline\": \"pangenome\", \"schema\": \"pangenome\", \"table\": \"genome\", \"level\": \"INFO\", \"module\": \"run_great_expectations_validations\", \"msg\": \"Loaded Spark table: pangenome.genome\"}\n",
      "{\"time\": \"2025-07-08 16:33:54,559\", \"pipeline\": \"pangenome\", \"schema\": \"pangenome\", \"table\": \"genome\", \"level\": \"INFO\", \"module\": \"run_great_expectations_validations\", \"msg\": \"Great Expectations context initialized.\"}\n",
      "{\"time\": \"2025-07-08 16:33:54,578\", \"pipeline\": \"pangenome\", \"schema\": \"pangenome\", \"table\": \"genome\", \"level\": \"INFO\", \"module\": \"run_great_expectations_validations\", \"msg\": \"Expectation suite 'default_suite' added or updated.\"}\n",
      "{\"time\": \"2025-07-08 16:33:54,664\", \"pipeline\": \"pangenome\", \"schema\": \"pangenome\", \"table\": \"genome\", \"level\": \"INFO\", \"module\": \"run_great_expectations_validations\", \"msg\": \"Spark datasource registered in GE context.\"}\n",
      "{\"time\": \"2025-07-08 16:33:54,665\", \"pipeline\": \"pangenome\", \"schema\": \"pangenome\", \"table\": \"genome\", \"level\": \"DEBUG\", \"module\": \"run_great_expectations_validations\", \"msg\": \"Batch request created for data asset: pangenome_genome\"}\n",
      "{\"time\": \"2025-07-08 16:33:57,763\", \"pipeline\": \"pangenome\", \"schema\": \"pangenome\", \"table\": \"genome\", \"level\": \"INFO\", \"module\": \"run_great_expectations_validations\", \"msg\": \"Validator initialized for batch request.\"}\n",
      "{\"time\": \"2025-07-08 16:33:57,765\", \"pipeline\": \"pangenome\", \"schema\": \"pangenome\", \"table\": \"genome\", \"level\": \"DEBUG\", \"module\": \"run_great_expectations_validations\", \"msg\": \"Found 0 expectations to apply.\"}\n",
      "{\"time\": \"2025-07-08 16:33:57,765\", \"pipeline\": \"pangenome\", \"schema\": \"pangenome\", \"table\": \"genome\", \"level\": \"DEBUG\", \"module\": \"run_great_expectations_validations\", \"msg\": \"Loaded GE validations config: []\"}\n",
      "{\"time\": \"2025-07-08 16:33:57,795\", \"pipeline\": \"pangenome\", \"schema\": \"pangenome\", \"table\": \"genome\", \"level\": \"INFO\", \"module\": \"run_great_expectations_validations\", \"msg\": \"Expectations saved to suite.\"}\n"
     ]
    },
    {
     "data": {
      "application/vnd.jupyter.widget-view+json": {
       "model_id": "ccadc4c7ac4e480a826bf245807287a9",
       "version_major": 2,
       "version_minor": 0
      },
      "text/plain": [
       "Calculating Metrics: 0it [00:00, ?it/s]"
      ]
     },
     "metadata": {},
     "output_type": "display_data"
    },
    {
     "name": "stdout",
     "output_type": "stream",
     "text": [
      "{\"time\": \"2025-07-08 16:33:57,812\", \"pipeline\": \"pangenome\", \"schema\": \"pangenome\", \"table\": \"genome\", \"level\": \"INFO\", \"module\": \"run_great_expectations_validations\", \"msg\": \"Validation run completed.\"}\n",
      "{\"time\": \"2025-07-08 16:33:57,814\", \"pipeline\": \"pangenome\", \"schema\": \"pangenome\", \"table\": \"genome\", \"level\": \"DEBUG\", \"module\": \"run_great_expectations_validations\", \"msg\": \"Validation summary: {'success': True, 'successful_expectations': 0, 'unsuccessful_expectations': 0, 'success_percent': None}\"}\n",
      "{\"time\": \"2025-07-08 16:33:58,804\", \"pipeline\": \"pangenome\", \"schema\": \"pangenome\", \"table\": \"genome\", \"level\": \"INFO\", \"module\": \"run_great_expectations_validations\", \"msg\": \"Data Docs built after validation.\"}\n"
     ]
    },
    {
     "data": {
      "application/vnd.jupyter.widget-view+json": {
       "model_id": "4975d57dbe4e441f8d2fd36d1ace42d2",
       "version_major": 2,
       "version_minor": 0
      },
      "text/plain": [
       "Calculating Metrics: 0it [00:00, ?it/s]"
      ]
     },
     "metadata": {},
     "output_type": "display_data"
    },
    {
     "name": "stdout",
     "output_type": "stream",
     "text": [
      "{\"time\": \"2025-07-08 16:33:59,805\", \"pipeline\": \"pangenome\", \"schema\": \"pangenome\", \"table\": \"genome\", \"level\": \"INFO\", \"module\": \"run_great_expectations_validations\", \"msg\": \"Checkpoint executed.\"}\n",
      "{\"time\": \"2025-07-08 16:34:00,963\", \"pipeline\": \"pangenome\", \"schema\": \"pangenome\", \"table\": \"genome\", \"level\": \"INFO\", \"module\": \"run_great_expectations_validations\", \"msg\": \"Data Docs rebuilt with checkpoint results.\"}\n",
      "✅ GE validation and checkpoint complete. Data Docs generated.\n",
      "✅ Uploaded log to MinIO at: s3://cdm-lake/logs/pangenome/pipeline_run_20250708_163331.log\n"
     ]
    }
   ],
   "source": [
    "# Great Expectations\n",
    "from src.run_great_expectations_validations import run_great_expectations_validation\n",
    "run_great_expectations_validation(spark, loader, logger)\n",
    "\n",
    "\n",
    "# Upload log file to MinIO\n",
    "upload_to_minio(logger.log_file_path)"
   ]
  },
  {
   "cell_type": "code",
   "execution_count": null,
   "id": "b89f5279",
   "metadata": {},
   "outputs": [],
   "source": []
  }
 ],
 "metadata": {
  "kernelspec": {
   "display_name": "Python 3 (ipykernel)",
   "language": "python",
   "name": "python3"
  },
  "language_info": {
   "codemirror_mode": {
    "name": "ipython",
    "version": 3
   },
   "file_extension": ".py",
   "mimetype": "text/x-python",
   "name": "python",
   "nbconvert_exporter": "python",
   "pygments_lexer": "ipython3",
   "version": "3.10.11"
  }
 },
 "nbformat": 4,
 "nbformat_minor": 5
}
