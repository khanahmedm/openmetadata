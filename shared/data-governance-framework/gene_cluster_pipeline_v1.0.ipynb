{
 "cells": [
  {
   "cell_type": "code",
   "execution_count": 1,
   "id": "09de6280",
   "metadata": {},
   "outputs": [
    {
     "name": "stdout",
     "output_type": "stream",
     "text": [
      "{\"time\": \"2025-07-15 03:42:30,474\", \"pipeline\": \"pangenome\", \"schema\": \"pangenome\", \"table\": \"gene_cluster\", \"level\": \"INFO\", \"module\": \"4268986019\", \"msg\": \"Notebook started\"}\n",
      "{\"time\": \"2025-07-15 03:42:30,488\", \"pipeline\": \"pangenome\", \"schema\": \"pangenome\", \"table\": \"gene_cluster\", \"level\": \"INFO\", \"module\": \"config_loader\", \"msg\": \"ConfigLoader initialized for target table: gene_cluster\"}\n",
      "{\"time\": \"2025-07-15 03:42:30,489\", \"pipeline\": \"pangenome\", \"schema\": \"pangenome\", \"table\": \"gene_cluster\", \"level\": \"INFO\", \"module\": \"config_loader\", \"msg\": \"Resolved config path: s3a://cdm-lake/config-json/gene_cluster.json\"}\n",
      "{\"time\": \"2025-07-15 03:42:30,489\", \"pipeline\": \"pangenome\", \"schema\": \"pangenome\", \"table\": \"gene_cluster\", \"level\": \"INFO\", \"module\": \"config_loader\", \"msg\": \"Loading config from MinIO: bucket=cdm-lake, key=config-json/gene_cluster.json\"}\n",
      "{\"time\": \"2025-07-15 03:42:30,577\", \"pipeline\": \"pangenome\", \"schema\": \"pangenome\", \"table\": \"gene_cluster\", \"level\": \"INFO\", \"module\": \"config_loader\", \"msg\": \"Config loaded successfully from MinIO\"}\n",
      "{\"time\": \"2025-07-15 03:42:30,578\", \"pipeline\": \"pangenome\", \"schema\": \"pangenome\", \"table\": \"gene_cluster\", \"level\": \"INFO\", \"module\": \"config_loader\", \"msg\": \"All required fields are present in the config\"}\n",
      "{\"time\": \"2025-07-15 03:42:30,579\", \"pipeline\": \"pangenome\", \"schema\": \"pangenome\", \"table\": \"gene_cluster\", \"level\": \"DEBUG\", \"module\": \"config_loader\", \"msg\": \"Target table: pangenome.gene_cluster\"}\n",
      "pangenome.gene_cluster\n",
      "{\"time\": \"2025-07-15 03:42:30,831\", \"pipeline\": \"pangenome\", \"schema\": \"pangenome\", \"table\": \"gene_cluster\", \"level\": \"INFO\", \"module\": \"spark_session\", \"msg\": \"Found 4 JARs in /home/jovyan/jars\"}\n",
      "{\"time\": \"2025-07-15 03:42:30,832\", \"pipeline\": \"pangenome\", \"schema\": \"pangenome\", \"table\": \"gene_cluster\", \"level\": \"DEBUG\", \"module\": \"spark_session\", \"msg\": \"JARs: ['/home/jovyan/jars/aws-java-sdk-bundle-1.12.367.jar', '/home/jovyan/jars/delta-core_2.12-2.4.0.jar', '/home/jovyan/jars/delta-storage-2.4.0.jar', '/home/jovyan/jars/hadoop-aws-3.3.4.jar']\"}\n",
      "{\"time\": \"2025-07-15 03:42:30,833\", \"pipeline\": \"pangenome\", \"schema\": \"pangenome\", \"table\": \"gene_cluster\", \"level\": \"INFO\", \"module\": \"spark_session\", \"msg\": \"Starting Spark session...\"}\n",
      "{\"time\": \"2025-07-15 03:42:35,254\", \"pipeline\": \"pangenome\", \"schema\": \"pangenome\", \"table\": \"gene_cluster\", \"level\": \"INFO\", \"module\": \"spark_session\", \"msg\": \"Spark session started successfully\"}\n"
     ]
    }
   ],
   "source": [
    "import boto3\n",
    "import yaml\n",
    "from src.logger import setup_logger\n",
    "from src.minio_uploader import upload_to_minio\n",
    "\n",
    "# Set up logger\n",
    "pipeline_name = \"pangenome\"\n",
    "target_table = \"gene_cluster\"\n",
    "schema = \"pangenome\"\n",
    "\n",
    "logger = setup_logger(\n",
    "    pipeline_name=pipeline_name,\n",
    "    target_table=target_table,\n",
    "    schema=schema\n",
    ")\n",
    "\n",
    "logger.info(\"Notebook started\")\n",
    "\n",
    "from config.config_loader import ConfigLoader\n",
    "\n",
    "# Path to config file in MinIO\n",
    "config_path = \"gene_cluster\"\n",
    "\n",
    "# Load config\n",
    "loader = ConfigLoader(config_path, logger)\n",
    "loader.load_and_validate()\n",
    "\n",
    "# (Optional) Print something\n",
    "print(loader.get_target_table())\n",
    "\n",
    "# Start Spark\n",
    "from src.spark_session import start_spark_session\n",
    "spark = start_spark_session(logger=logger)"
   ]
  },
  {
   "cell_type": "code",
   "execution_count": 2,
   "id": "a5d3f825",
   "metadata": {
    "scrolled": true
   },
   "outputs": [
    {
     "name": "stdout",
     "output_type": "stream",
     "text": [
      "{\"time\": \"2025-07-15 03:42:36,234\", \"pipeline\": \"pangenome\", \"schema\": \"pangenome\", \"table\": \"gene_cluster\", \"level\": \"INFO\", \"module\": \"validate_schema\", \"msg\": \"Starting schema vs. file validation\"}\n",
      "{\"time\": \"2025-07-15 03:42:36,240\", \"pipeline\": \"pangenome\", \"schema\": \"pangenome\", \"table\": \"gene_cluster\", \"level\": \"DEBUG\", \"module\": \"config_loader\", \"msg\": \"Output file: {'output_file_path': 's3a://cdm-lake/pangenome-source/table_gene_cluster_V1.0.tsv', 'file_type': 'tsv', 'delimiter': '\\t', 'ignore_first_line': 'no'}\"}\n",
      "{\"time\": \"2025-07-15 03:42:36,240\", \"pipeline\": \"pangenome\", \"schema\": \"pangenome\", \"table\": \"gene_cluster\", \"level\": \"INFO\", \"module\": \"validate_schema\", \"msg\": \"Output file: s3a://cdm-lake/pangenome-source/table_gene_cluster_V1.0.tsv\"}\n",
      "{\"time\": \"2025-07-15 03:42:36,241\", \"pipeline\": \"pangenome\", \"schema\": \"pangenome\", \"table\": \"gene_cluster\", \"level\": \"DEBUG\", \"module\": \"validate_schema\", \"msg\": \"Delimiter: \t, Ignore first line: False\"}\n",
      "{\"time\": \"2025-07-15 03:42:36,257\", \"pipeline\": \"pangenome\", \"schema\": \"pangenome\", \"table\": \"gene_cluster\", \"level\": \"INFO\", \"module\": \"validate_schema\", \"msg\": \"Header columns successfully extracted from output file\"}\n",
      "{\"time\": \"2025-07-15 03:42:36,258\", \"pipeline\": \"pangenome\", \"schema\": \"pangenome\", \"table\": \"gene_cluster\", \"level\": \"DEBUG\", \"module\": \"validate_schema\", \"msg\": \"Header columns: ['gene_cluster_id', 'gtdb_species_clade_id', 'is_core', 'is_auxiliary', 'is_singleton', 'likelihood']\"}\n",
      "{\"time\": \"2025-07-15 03:42:36,259\", \"pipeline\": \"pangenome\", \"schema\": \"pangenome\", \"table\": \"gene_cluster\", \"level\": \"DEBUG\", \"module\": \"config_loader\", \"msg\": \"Schema file path: s3a://cdm-lake/schemas/pangenome-schema.yaml\"}\n",
      "{\"time\": \"2025-07-15 03:42:36,260\", \"pipeline\": \"pangenome\", \"schema\": \"pangenome\", \"table\": \"gene_cluster\", \"level\": \"INFO\", \"module\": \"validate_schema\", \"msg\": \"Schema file: s3a://cdm-lake/schemas/pangenome-schema.yaml\"}\n",
      "{\"time\": \"2025-07-15 03:42:36,277\", \"pipeline\": \"pangenome\", \"schema\": \"pangenome\", \"table\": \"gene_cluster\", \"level\": \"DEBUG\", \"module\": \"config_loader\", \"msg\": \"Target table: pangenome.gene_cluster\"}\n",
      "{\"time\": \"2025-07-15 03:42:36,278\", \"pipeline\": \"pangenome\", \"schema\": \"pangenome\", \"table\": \"gene_cluster\", \"level\": \"INFO\", \"module\": \"validate_schema\", \"msg\": \"Derived schema class name: gene_cluster\"}\n",
      "{\"time\": \"2025-07-15 03:42:36,278\", \"pipeline\": \"pangenome\", \"schema\": \"pangenome\", \"table\": \"gene_cluster\", \"level\": \"INFO\", \"module\": \"validate_schema\", \"msg\": \"Schema loaded and class found successfully\"}\n",
      "{\"time\": \"2025-07-15 03:42:36,279\", \"pipeline\": \"pangenome\", \"schema\": \"pangenome\", \"table\": \"gene_cluster\", \"level\": \"DEBUG\", \"module\": \"validate_schema\", \"msg\": \"Schema columns: ['gene_cluster_id', 'gtdb_species_clade_id', 'is_core', 'is_accessory', 'is_singleton']\"}\n",
      "{\"time\": \"2025-07-15 03:42:36,280\", \"pipeline\": \"pangenome\", \"schema\": \"pangenome\", \"table\": \"gene_cluster\", \"level\": \"INFO\", \"module\": \"validate_schema\", \"msg\": \"Comparison between schema and file header completed\"}\n",
      "{\"time\": \"2025-07-15 03:42:36,280\", \"pipeline\": \"pangenome\", \"schema\": \"pangenome\", \"table\": \"gene_cluster\", \"level\": \"WARNING\", \"module\": \"validate_schema\", \"msg\": \"Missing columns in file: ['is_accessory']\"}\n",
      "{\"time\": \"2025-07-15 03:42:36,281\", \"pipeline\": \"pangenome\", \"schema\": \"pangenome\", \"table\": \"gene_cluster\", \"level\": \"WARNING\", \"module\": \"validate_schema\", \"msg\": \"Extra columns in file not in schema: ['is_auxiliary', 'likelihood']\"}\n",
      "🔹 Header columns from file:\n",
      "['gene_cluster_id', 'gtdb_species_clade_id', 'is_core', 'is_auxiliary', 'is_singleton', 'likelihood']\n",
      "\n",
      "✅ Columns in schema class 'gene_cluster':\n",
      "['gene_cluster_id', 'gtdb_species_clade_id', 'is_core', 'is_accessory', 'is_singleton']\n",
      "\n",
      "🔍 Comparison results:\n",
      "❌ Missing in file: ['is_accessory']\n",
      "⚠️ Extra columns in file not in schema: ['is_auxiliary', 'likelihood']\n"
     ]
    },
    {
     "data": {
      "text/plain": [
       "{'file_columns': ['gene_cluster_id',\n",
       "  'gtdb_species_clade_id',\n",
       "  'is_core',\n",
       "  'is_auxiliary',\n",
       "  'is_singleton',\n",
       "  'likelihood'],\n",
       " 'schema_columns': ['gene_cluster_id',\n",
       "  'gtdb_species_clade_id',\n",
       "  'is_core',\n",
       "  'is_accessory',\n",
       "  'is_singleton'],\n",
       " 'missing_in_file': ['is_accessory'],\n",
       " 'extra_in_file': ['is_auxiliary', 'likelihood']}"
      ]
     },
     "execution_count": 2,
     "metadata": {},
     "output_type": "execute_result"
    }
   ],
   "source": [
    "# Check schema headers\n",
    "from src.validate_schema import validate_schema_against_file\n",
    "validate_schema_against_file(loader, logger)"
   ]
  },
  {
   "cell_type": "code",
   "execution_count": 3,
   "id": "9ec38515",
   "metadata": {},
   "outputs": [
    {
     "name": "stdout",
     "output_type": "stream",
     "text": [
      "{\"time\": \"2025-07-15 03:42:40,364\", \"pipeline\": \"pangenome\", \"schema\": \"pangenome\", \"table\": \"gene_cluster\", \"level\": \"DEBUG\", \"module\": \"config_loader\", \"msg\": \"Output file: {'output_file_path': 's3a://cdm-lake/pangenome-source/table_gene_cluster_V1.0.tsv', 'file_type': 'tsv', 'delimiter': '\\t', 'ignore_first_line': 'no'}\"}\n",
      "{\"time\": \"2025-07-15 03:42:40,365\", \"pipeline\": \"pangenome\", \"schema\": \"pangenome\", \"table\": \"gene_cluster\", \"level\": \"INFO\", \"module\": \"run_validations_pyspark\", \"msg\": \"Starting validation on file: s3a://cdm-lake/pangenome-source/table_gene_cluster_V1.0.tsv\"}\n",
      "{\"time\": \"2025-07-15 03:42:40,365\", \"pipeline\": \"pangenome\", \"schema\": \"pangenome\", \"table\": \"gene_cluster\", \"level\": \"DEBUG\", \"module\": \"run_validations_pyspark\", \"msg\": \"Delimiter: \t\"}\n",
      "{\"time\": \"2025-07-15 03:42:40,366\", \"pipeline\": \"pangenome\", \"schema\": \"pangenome\", \"table\": \"gene_cluster\", \"level\": \"DEBUG\", \"module\": \"config_loader\", \"msg\": \"Validations: [{'column': 'gene_cluster_id', 'validation_type': 'not_null', 'error_message': 'Missing gene cluster ID'}, {'column': 'gene_cluster_id', 'validation_type': 'regex_match', 'pattern': '^[A-Za-z0-9_.\\\\-]+$', 'error_message': 'Invalid gene cluster ID format'}, {'column': 'is_core', 'validation_type': 'allowed_values', 'values': ['true', 'false', '0', '1'], 'error_message': 'is_core must be true or false'}, {'column': 'is_auxiliary', 'validation_type': 'allowed_values', 'values': ['true', 'false', '0', '1'], 'error_message': 'is_auxiliary must be true or false'}, {'column': 'is_singleton', 'validation_type': 'allowed_values', 'values': ['true', 'false', '0', '1'], 'error_message': 'is_singleton must be true or false'}]\"}\n",
      "{\"time\": \"2025-07-15 03:42:40,367\", \"pipeline\": \"pangenome\", \"schema\": \"pangenome\", \"table\": \"gene_cluster\", \"level\": \"DEBUG\", \"module\": \"run_validations_pyspark\", \"msg\": \"Validation rules: [{'column': 'gene_cluster_id', 'validation_type': 'not_null', 'error_message': 'Missing gene cluster ID'}, {'column': 'gene_cluster_id', 'validation_type': 'regex_match', 'pattern': '^[A-Za-z0-9_.\\\\-]+$', 'error_message': 'Invalid gene cluster ID format'}, {'column': 'is_core', 'validation_type': 'allowed_values', 'values': ['true', 'false', '0', '1'], 'error_message': 'is_core must be true or false'}, {'column': 'is_auxiliary', 'validation_type': 'allowed_values', 'values': ['true', 'false', '0', '1'], 'error_message': 'is_auxiliary must be true or false'}, {'column': 'is_singleton', 'validation_type': 'allowed_values', 'values': ['true', 'false', '0', '1'], 'error_message': 'is_singleton must be true or false'}]\"}\n",
      "{\"time\": \"2025-07-15 03:43:52,846\", \"pipeline\": \"pangenome\", \"schema\": \"pangenome\", \"table\": \"gene_cluster\", \"level\": \"INFO\", \"module\": \"run_validations_pyspark\", \"msg\": \"Validation Summary:\"}\n",
      "{\"time\": \"2025-07-15 03:43:52,856\", \"pipeline\": \"pangenome\", \"schema\": \"pangenome\", \"table\": \"gene_cluster\", \"level\": \"INFO\", \"module\": \"run_validations_pyspark\", \"msg\": \"All validation rules passed.\"}\n"
     ]
    },
    {
     "data": {
      "text/plain": [
       "{'file_path': 's3a://cdm-lake/pangenome-source/table_gene_cluster_V1.0.tsv',\n",
       " 'validation_errors': [],\n",
       " 'success': True}"
      ]
     },
     "execution_count": 3,
     "metadata": {},
     "output_type": "execute_result"
    }
   ],
   "source": [
    "# Run validations\n",
    "#from src.run_validations import run_validations_from_config\n",
    "#run_validations_from_config(loader, logger)\n",
    "\n",
    "from src.run_validations_pyspark import run_validations_from_config_spark\n",
    "run_validations_from_config_spark(spark, loader, logger)"
   ]
  },
  {
   "cell_type": "code",
   "execution_count": 4,
   "id": "bced3511",
   "metadata": {},
   "outputs": [
    {
     "name": "stdout",
     "output_type": "stream",
     "text": [
      "{\"time\": \"2025-07-15 03:44:12,752\", \"pipeline\": \"pangenome\", \"schema\": \"pangenome\", \"table\": \"gene_cluster\", \"level\": \"INFO\", \"module\": \"config_loader\", \"msg\": \"Loading config from MinIO: bucket=cdm-lake, key=config-json/gene_cluster.json\"}\n",
      "{\"time\": \"2025-07-15 03:44:12,927\", \"pipeline\": \"pangenome\", \"schema\": \"pangenome\", \"table\": \"gene_cluster\", \"level\": \"INFO\", \"module\": \"config_loader\", \"msg\": \"Config loaded successfully from MinIO\"}\n",
      "{\"time\": \"2025-07-15 03:44:12,936\", \"pipeline\": \"pangenome\", \"schema\": \"pangenome\", \"table\": \"gene_cluster\", \"level\": \"INFO\", \"module\": \"config_loader\", \"msg\": \"All required fields are present in the config\"}\n",
      "{\"time\": \"2025-07-15 03:44:12,945\", \"pipeline\": \"pangenome\", \"schema\": \"pangenome\", \"table\": \"gene_cluster\", \"level\": \"DEBUG\", \"module\": \"config_loader\", \"msg\": \"Referential integrity rules: [{'foreign_key': 'gtdb_species_clade_id', 'reference_table': 'gtdb_species_clade', 'reference_column': 'gtdb_species_clade_id', 'database': 'pangenome', 'action': 'log'}]\"}\n",
      "{\"time\": \"2025-07-15 03:44:12,953\", \"pipeline\": \"pangenome\", \"schema\": \"pangenome\", \"table\": \"gene_cluster\", \"level\": \"DEBUG\", \"module\": \"config_loader\", \"msg\": \"Target table: pangenome.gene_cluster\"}\n",
      "{\"time\": \"2025-07-15 03:44:20,776\", \"pipeline\": \"pangenome\", \"schema\": \"pangenome\", \"table\": \"gene_cluster\", \"level\": \"INFO\", \"module\": \"run_referential_integrity_checks\", \"msg\": \"Starting referential integrity checks for table: pangenome.gene_cluster\"}\n",
      "{\"time\": \"2025-07-15 03:44:20,784\", \"pipeline\": \"pangenome\", \"schema\": \"pangenome\", \"table\": \"gene_cluster\", \"level\": \"INFO\", \"module\": \"run_referential_integrity_checks\", \"msg\": \"Checking foreign key: gtdb_species_clade_id in pangenome.gene_cluster → gtdb_species_clade_id in pangenome.gtdb_species_clade\"}\n",
      "\n",
      "🔍 Checking FK `gtdb_species_clade_id` in `pangenome.gene_cluster` → `gtdb_species_clade_id` in `pangenome.gtdb_species_clade`\n",
      "{\"time\": \"2025-07-15 03:44:54,742\", \"pipeline\": \"pangenome\", \"schema\": \"pangenome\", \"table\": \"gene_cluster\", \"level\": \"INFO\", \"module\": \"run_referential_integrity_checks\", \"msg\": \"Violations found: 0\"}\n",
      " → Violations found: 0\n",
      "{\"time\": \"2025-07-15 03:44:54,754\", \"pipeline\": \"pangenome\", \"schema\": \"pangenome\", \"table\": \"gene_cluster\", \"level\": \"INFO\", \"module\": \"run_referential_integrity_checks\", \"msg\": \"All referential integrity checks passed.\"}\n",
      "\n",
      "✅ All referential integrity checks passed.\n"
     ]
    },
    {
     "data": {
      "text/plain": [
       "True"
      ]
     },
     "execution_count": 4,
     "metadata": {},
     "output_type": "execute_result"
    }
   ],
   "source": [
    "# Referential integrity\n",
    "from src.run_referential_integrity_checks import run_referential_integrity_checks\n",
    "run_referential_integrity_checks(spark, loader, logger)"
   ]
  },
  {
   "cell_type": "code",
   "execution_count": 5,
   "id": "a53b1850",
   "metadata": {
    "scrolled": false
   },
   "outputs": [],
   "source": [
    "\n",
    "# Check TSV format\n",
    "#from src.input_file_validator import validate_input_files\n",
    "#validate_input_files(loader)\n",
    "\n",
    "\n",
    "\n",
    "\n",
    "\n",
    "\n",
    "\n",
    "#import importlib\n",
    "#import src.run_great_expectations_validations\n",
    "\n",
    "#importlib.reload(src.run_great_expectations_validations)\n",
    "\n",
    "\n"
   ]
  },
  {
   "cell_type": "code",
   "execution_count": 6,
   "id": "8d8585bf",
   "metadata": {},
   "outputs": [
    {
     "name": "stdout",
     "output_type": "stream",
     "text": [
      "{\"time\": \"2025-07-15 03:45:11,237\", \"pipeline\": \"pangenome\", \"schema\": \"pangenome\", \"table\": \"gene_cluster\", \"level\": \"DEBUG\", \"module\": \"config_loader\", \"msg\": \"Target table: pangenome.gene_cluster\"}\n",
      "{\"time\": \"2025-07-15 03:45:11,245\", \"pipeline\": \"pangenome\", \"schema\": \"pangenome\", \"table\": \"gene_cluster\", \"level\": \"INFO\", \"module\": \"run_great_expectations_validations\", \"msg\": \"Starting Great Expectations validation for table: pangenome.gene_cluster with suite: default_suite\"}\n",
      "{\"time\": \"2025-07-15 03:45:12,312\", \"pipeline\": \"pangenome\", \"schema\": \"pangenome\", \"table\": \"gene_cluster\", \"level\": \"INFO\", \"module\": \"run_great_expectations_validations\", \"msg\": \"Loaded Spark table: pangenome.gene_cluster\"}\n",
      "{\"time\": \"2025-07-15 03:45:20,210\", \"pipeline\": \"pangenome\", \"schema\": \"pangenome\", \"table\": \"gene_cluster\", \"level\": \"INFO\", \"module\": \"run_great_expectations_validations\", \"msg\": \"Great Expectations context initialized.\"}\n",
      "{\"time\": \"2025-07-15 03:45:21,362\", \"pipeline\": \"pangenome\", \"schema\": \"pangenome\", \"table\": \"gene_cluster\", \"level\": \"INFO\", \"module\": \"run_great_expectations_validations\", \"msg\": \"Expectation suite 'default_suite' added or updated.\"}\n",
      "{\"time\": \"2025-07-15 03:45:21,991\", \"pipeline\": \"pangenome\", \"schema\": \"pangenome\", \"table\": \"gene_cluster\", \"level\": \"INFO\", \"module\": \"run_great_expectations_validations\", \"msg\": \"Spark datasource registered in GE context.\"}\n",
      "{\"time\": \"2025-07-15 03:45:22,000\", \"pipeline\": \"pangenome\", \"schema\": \"pangenome\", \"table\": \"gene_cluster\", \"level\": \"DEBUG\", \"module\": \"run_great_expectations_validations\", \"msg\": \"Batch request created for data asset: pangenome_gene_cluster\"}\n",
      "{\"time\": \"2025-07-15 03:45:24,058\", \"pipeline\": \"pangenome\", \"schema\": \"pangenome\", \"table\": \"gene_cluster\", \"level\": \"INFO\", \"module\": \"run_great_expectations_validations\", \"msg\": \"Validator initialized for batch request.\"}\n",
      "{\"time\": \"2025-07-15 03:45:24,066\", \"pipeline\": \"pangenome\", \"schema\": \"pangenome\", \"table\": \"gene_cluster\", \"level\": \"DEBUG\", \"module\": \"run_great_expectations_validations\", \"msg\": \"Found 5 expectations to apply.\"}\n",
      "{\"time\": \"2025-07-15 03:45:24,074\", \"pipeline\": \"pangenome\", \"schema\": \"pangenome\", \"table\": \"gene_cluster\", \"level\": \"DEBUG\", \"module\": \"run_great_expectations_validations\", \"msg\": \"Loaded GE validations config: [{'expectation_type': 'expect_column_values_to_not_be_null', 'params': {'column': 'gene_cluster_id'}}, {'expectation_type': 'expect_column_values_to_match_regex', 'params': {'column': 'gene_cluster_id', 'regex': '^[A-Za-z0-9_.\\\\-]+$'}}, {'expectation_type': 'expect_column_values_to_be_in_set', 'params': {'column': 'is_core', 'value_set': ['true', 'false']}}, {'expectation_type': 'expect_column_values_to_be_in_set', 'params': {'column': 'is_auxiliary', 'value_set': ['true', 'false']}}, {'expectation_type': 'expect_column_values_to_be_in_set', 'params': {'column': 'is_singleton', 'value_set': ['true', 'false']}}]\"}\n"
     ]
    },
    {
     "data": {
      "application/vnd.jupyter.widget-view+json": {
       "model_id": "058ac96f3006463e9c62febcfd6b72d3",
       "version_major": 2,
       "version_minor": 0
      },
      "text/plain": [
       "Calculating Metrics:   0%|          | 0/8 [00:00<?, ?it/s]"
      ]
     },
     "metadata": {},
     "output_type": "display_data"
    },
    {
     "name": "stdout",
     "output_type": "stream",
     "text": [
      "{\"time\": \"2025-07-15 03:46:23,242\", \"pipeline\": \"pangenome\", \"schema\": \"pangenome\", \"table\": \"gene_cluster\", \"level\": \"INFO\", \"module\": \"run_great_expectations_validations\", \"msg\": \"Applied GE expectation: expect_column_values_to_not_be_null with args {'column': 'gene_cluster_id'} → result: True\"}\n"
     ]
    },
    {
     "data": {
      "application/vnd.jupyter.widget-view+json": {
       "model_id": "0e0986ded83e4cb7b16fc96723c080f2",
       "version_major": 2,
       "version_minor": 0
      },
      "text/plain": [
       "Calculating Metrics:   0%|          | 0/11 [00:00<?, ?it/s]"
      ]
     },
     "metadata": {},
     "output_type": "display_data"
    },
    {
     "name": "stdout",
     "output_type": "stream",
     "text": [
      "{\"time\": \"2025-07-15 03:46:46,710\", \"pipeline\": \"pangenome\", \"schema\": \"pangenome\", \"table\": \"gene_cluster\", \"level\": \"INFO\", \"module\": \"run_great_expectations_validations\", \"msg\": \"Applied GE expectation: expect_column_values_to_match_regex with args {'column': 'gene_cluster_id', 'regex': '^[A-Za-z0-9_.\\\\-]+$'} → result: True\"}\n"
     ]
    },
    {
     "data": {
      "application/vnd.jupyter.widget-view+json": {
       "model_id": "7b7ae40c0fb74c05a6cb88f2b9fc9690",
       "version_major": 2,
       "version_minor": 0
      },
      "text/plain": [
       "Calculating Metrics:   0%|          | 0/11 [00:00<?, ?it/s]"
      ]
     },
     "metadata": {},
     "output_type": "display_data"
    },
    {
     "name": "stdout",
     "output_type": "stream",
     "text": [
      "{\"time\": \"2025-07-15 03:46:48,710\", \"pipeline\": \"pangenome\", \"schema\": \"pangenome\", \"table\": \"gene_cluster\", \"level\": \"INFO\", \"module\": \"run_great_expectations_validations\", \"msg\": \"Applied GE expectation: expect_column_values_to_be_in_set with args {'column': 'is_core', 'value_set': ['true', 'false']} → result: False\"}\n"
     ]
    },
    {
     "data": {
      "application/vnd.jupyter.widget-view+json": {
       "model_id": "627b5401d3ae45a3912eea8c79e60229",
       "version_major": 2,
       "version_minor": 0
      },
      "text/plain": [
       "Calculating Metrics:   0%|          | 0/11 [00:00<?, ?it/s]"
      ]
     },
     "metadata": {},
     "output_type": "display_data"
    },
    {
     "name": "stdout",
     "output_type": "stream",
     "text": [
      "{\"time\": \"2025-07-15 03:46:50,668\", \"pipeline\": \"pangenome\", \"schema\": \"pangenome\", \"table\": \"gene_cluster\", \"level\": \"INFO\", \"module\": \"run_great_expectations_validations\", \"msg\": \"Applied GE expectation: expect_column_values_to_be_in_set with args {'column': 'is_auxiliary', 'value_set': ['true', 'false']} → result: False\"}\n"
     ]
    },
    {
     "data": {
      "application/vnd.jupyter.widget-view+json": {
       "model_id": "363dbd25391948b08d274dbf6edc70ec",
       "version_major": 2,
       "version_minor": 0
      },
      "text/plain": [
       "Calculating Metrics:   0%|          | 0/11 [00:00<?, ?it/s]"
      ]
     },
     "metadata": {},
     "output_type": "display_data"
    },
    {
     "name": "stdout",
     "output_type": "stream",
     "text": [
      "{\"time\": \"2025-07-15 03:46:52,493\", \"pipeline\": \"pangenome\", \"schema\": \"pangenome\", \"table\": \"gene_cluster\", \"level\": \"INFO\", \"module\": \"run_great_expectations_validations\", \"msg\": \"Applied GE expectation: expect_column_values_to_be_in_set with args {'column': 'is_singleton', 'value_set': ['true', 'false']} → result: False\"}\n",
      "{\"time\": \"2025-07-15 03:46:53,415\", \"pipeline\": \"pangenome\", \"schema\": \"pangenome\", \"table\": \"gene_cluster\", \"level\": \"INFO\", \"module\": \"run_great_expectations_validations\", \"msg\": \"Expectations saved to suite.\"}\n"
     ]
    },
    {
     "data": {
      "application/vnd.jupyter.widget-view+json": {
       "model_id": "591b535cce8248f6be3e4522d51d3c04",
       "version_major": 2,
       "version_minor": 0
      },
      "text/plain": [
       "Calculating Metrics:   0%|          | 0/33 [00:00<?, ?it/s]"
      ]
     },
     "metadata": {},
     "output_type": "display_data"
    },
    {
     "name": "stdout",
     "output_type": "stream",
     "text": [
      "{\"time\": \"2025-07-15 03:47:20,255\", \"pipeline\": \"pangenome\", \"schema\": \"pangenome\", \"table\": \"gene_cluster\", \"level\": \"INFO\", \"module\": \"run_great_expectations_validations\", \"msg\": \"Validation run completed.\"}\n",
      "{\"time\": \"2025-07-15 03:47:20,265\", \"pipeline\": \"pangenome\", \"schema\": \"pangenome\", \"table\": \"gene_cluster\", \"level\": \"DEBUG\", \"module\": \"run_great_expectations_validations\", \"msg\": \"Validation summary: {'success': False, 'successful_expectations': 2, 'unsuccessful_expectations': 3, 'success_percent': 40.0}\"}\n",
      "{\"time\": \"2025-07-15 03:49:02,530\", \"pipeline\": \"pangenome\", \"schema\": \"pangenome\", \"table\": \"gene_cluster\", \"level\": \"INFO\", \"module\": \"run_great_expectations_validations\", \"msg\": \"Data Docs built after validation.\"}\n"
     ]
    },
    {
     "data": {
      "application/vnd.jupyter.widget-view+json": {
       "model_id": "d492baeb75a6496caee2a9461a132376",
       "version_major": 2,
       "version_minor": 0
      },
      "text/plain": [
       "Calculating Metrics:   0%|          | 0/43 [00:00<?, ?it/s]"
      ]
     },
     "metadata": {},
     "output_type": "display_data"
    },
    {
     "name": "stdout",
     "output_type": "stream",
     "text": [
      "{\"time\": \"2025-07-15 03:50:27,762\", \"pipeline\": \"pangenome\", \"schema\": \"pangenome\", \"table\": \"gene_cluster\", \"level\": \"INFO\", \"module\": \"run_great_expectations_validations\", \"msg\": \"Checkpoint executed.\"}\n",
      "{\"time\": \"2025-07-15 03:51:36,093\", \"pipeline\": \"pangenome\", \"schema\": \"pangenome\", \"table\": \"gene_cluster\", \"level\": \"INFO\", \"module\": \"run_great_expectations_validations\", \"msg\": \"Data Docs rebuilt with checkpoint results.\"}\n",
      "✅ GE validation and checkpoint complete. Data Docs generated.\n",
      "✅ Uploaded log to MinIO at: s3://cdm-lake/logs/pangenome/pipeline_run_20250715_034230.log\n"
     ]
    }
   ],
   "source": [
    "# Great Expectations\n",
    "from src.run_great_expectations_validations import run_great_expectations_validation\n",
    "run_great_expectations_validation(spark, loader, logger)\n",
    "\n",
    "\n",
    "# Upload log file to MinIO\n",
    "upload_to_minio(logger.log_file_path)"
   ]
  },
  {
   "cell_type": "code",
   "execution_count": null,
   "id": "b89f5279",
   "metadata": {},
   "outputs": [],
   "source": []
  }
 ],
 "metadata": {
  "kernelspec": {
   "display_name": "Python 3 (ipykernel)",
   "language": "python",
   "name": "python3"
  },
  "language_info": {
   "codemirror_mode": {
    "name": "ipython",
    "version": 3
   },
   "file_extension": ".py",
   "mimetype": "text/x-python",
   "name": "python",
   "nbconvert_exporter": "python",
   "pygments_lexer": "ipython3",
   "version": "3.10.11"
  }
 },
 "nbformat": 4,
 "nbformat_minor": 5
}
