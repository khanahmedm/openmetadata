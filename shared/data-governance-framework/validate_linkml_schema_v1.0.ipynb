{
 "cells": [
  {
   "cell_type": "code",
   "execution_count": 1,
   "id": "79580947",
   "metadata": {},
   "outputs": [
    {
     "name": "stdout",
     "output_type": "stream",
     "text": [
      "{\"time\": \"2025-07-17 21:11:37,179\", \"pipeline\": \"pangenome\", \"schema\": \"pangenome\", \"table\": \"genome\", \"level\": \"INFO\", \"module\": \"2161914337\", \"msg\": \"Notebook started\"}\n",
      "{\"time\": \"2025-07-17 21:11:37,195\", \"pipeline\": \"pangenome\", \"schema\": \"pangenome\", \"table\": \"genome\", \"level\": \"INFO\", \"module\": \"config_loader\", \"msg\": \"ConfigLoader initialized for target table: genome\"}\n",
      "{\"time\": \"2025-07-17 21:11:37,196\", \"pipeline\": \"pangenome\", \"schema\": \"pangenome\", \"table\": \"genome\", \"level\": \"INFO\", \"module\": \"config_loader\", \"msg\": \"Resolved config path: s3a://cdm-lake/config-json/genome.json\"}\n",
      "{\"time\": \"2025-07-17 21:11:37,197\", \"pipeline\": \"pangenome\", \"schema\": \"pangenome\", \"table\": \"genome\", \"level\": \"INFO\", \"module\": \"config_loader\", \"msg\": \"Loading config from MinIO: bucket=cdm-lake, key=config-json/genome.json\"}\n",
      "{\"time\": \"2025-07-17 21:11:37,318\", \"pipeline\": \"pangenome\", \"schema\": \"pangenome\", \"table\": \"genome\", \"level\": \"INFO\", \"module\": \"config_loader\", \"msg\": \"Config loaded successfully from MinIO\"}\n",
      "{\"time\": \"2025-07-17 21:11:37,319\", \"pipeline\": \"pangenome\", \"schema\": \"pangenome\", \"table\": \"genome\", \"level\": \"INFO\", \"module\": \"config_loader\", \"msg\": \"All required fields are present in the config\"}\n",
      "{\"time\": \"2025-07-17 21:11:37,320\", \"pipeline\": \"pangenome\", \"schema\": \"pangenome\", \"table\": \"genome\", \"level\": \"DEBUG\", \"module\": \"config_loader\", \"msg\": \"Target table: pangenome.genome\"}\n",
      "pangenome.genome\n",
      "{\"time\": \"2025-07-17 21:11:37,614\", \"pipeline\": \"pangenome\", \"schema\": \"pangenome\", \"table\": \"genome\", \"level\": \"INFO\", \"module\": \"spark_session\", \"msg\": \"Found 4 JARs in /home/jovyan/jars\"}\n",
      "{\"time\": \"2025-07-17 21:11:37,615\", \"pipeline\": \"pangenome\", \"schema\": \"pangenome\", \"table\": \"genome\", \"level\": \"DEBUG\", \"module\": \"spark_session\", \"msg\": \"JARs: ['/home/jovyan/jars/aws-java-sdk-bundle-1.12.367.jar', '/home/jovyan/jars/delta-core_2.12-2.4.0.jar', '/home/jovyan/jars/delta-storage-2.4.0.jar', '/home/jovyan/jars/hadoop-aws-3.3.4.jar']\"}\n",
      "{\"time\": \"2025-07-17 21:11:37,616\", \"pipeline\": \"pangenome\", \"schema\": \"pangenome\", \"table\": \"genome\", \"level\": \"INFO\", \"module\": \"spark_session\", \"msg\": \"Starting Spark session...\"}\n",
      "{\"time\": \"2025-07-17 21:11:42,804\", \"pipeline\": \"pangenome\", \"schema\": \"pangenome\", \"table\": \"genome\", \"level\": \"INFO\", \"module\": \"spark_session\", \"msg\": \"Spark session started successfully\"}\n"
     ]
    }
   ],
   "source": [
    "import boto3\n",
    "import yaml\n",
    "from src.logger import setup_logger\n",
    "from src.minio_uploader import upload_to_minio\n",
    "\n",
    "# Set up logger\n",
    "pipeline_name = \"pangenome\"\n",
    "target_table = \"genome\"\n",
    "schema = \"pangenome\"\n",
    "\n",
    "logger = setup_logger(\n",
    "    pipeline_name=pipeline_name,\n",
    "    target_table=target_table,\n",
    "    schema=schema\n",
    ")\n",
    "\n",
    "logger.info(\"Notebook started\")\n",
    "\n",
    "from config.config_loader import ConfigLoader\n",
    "\n",
    "# Path to config file in MinIO\n",
    "config_path = \"genome\"\n",
    "\n",
    "# Load config\n",
    "loader = ConfigLoader(config_path, logger)\n",
    "loader.load_and_validate()\n",
    "\n",
    "# (Optional) Print something\n",
    "print(loader.get_target_table())\n",
    "\n",
    "# Start Spark\n",
    "from src.spark_session import start_spark_session\n",
    "spark = start_spark_session(logger=logger)"
   ]
  },
  {
   "cell_type": "code",
   "execution_count": 2,
   "id": "16d04afa",
   "metadata": {},
   "outputs": [
    {
     "name": "stdout",
     "output_type": "stream",
     "text": [
      "{\"time\": \"2025-07-17 21:12:50,471\", \"pipeline\": \"pangenome\", \"schema\": \"pangenome\", \"table\": \"genome\", \"level\": \"INFO\", \"module\": \"validate_schema_against_delta\", \"msg\": \"Starting schema vs. Delta table column validation\"}\n",
      "{\"time\": \"2025-07-17 21:12:50,471\", \"pipeline\": \"pangenome\", \"schema\": \"pangenome\", \"table\": \"genome\", \"level\": \"DEBUG\", \"module\": \"config_loader\", \"msg\": \"Schema file path: s3a://cdm-lake/schemas/pangenome-schema.yaml\"}\n",
      "{\"time\": \"2025-07-17 21:12:50,472\", \"pipeline\": \"pangenome\", \"schema\": \"pangenome\", \"table\": \"genome\", \"level\": \"INFO\", \"module\": \"validate_schema_against_delta\", \"msg\": \"Schema file: s3a://cdm-lake/schemas/pangenome-schema.yaml\"}\n",
      "{\"time\": \"2025-07-17 21:12:50,498\", \"pipeline\": \"pangenome\", \"schema\": \"pangenome\", \"table\": \"genome\", \"level\": \"DEBUG\", \"module\": \"config_loader\", \"msg\": \"Target table: pangenome.genome\"}\n",
      "{\"time\": \"2025-07-17 21:12:50,499\", \"pipeline\": \"pangenome\", \"schema\": \"pangenome\", \"table\": \"genome\", \"level\": \"INFO\", \"module\": \"validate_schema_against_delta\", \"msg\": \"Derived schema class name: genome\"}\n",
      "{\"time\": \"2025-07-17 21:12:50,500\", \"pipeline\": \"pangenome\", \"schema\": \"pangenome\", \"table\": \"genome\", \"level\": \"INFO\", \"module\": \"validate_schema_against_delta\", \"msg\": \"Schema loaded and class found successfully\"}\n",
      "{\"time\": \"2025-07-17 21:12:50,500\", \"pipeline\": \"pangenome\", \"schema\": \"pangenome\", \"table\": \"genome\", \"level\": \"DEBUG\", \"module\": \"validate_schema_against_delta\", \"msg\": \"Schema columns: ['genome_id', 'gtdb_taxonomy_id', 'gtdb_species_clade_id', 'ncbi_biosample_id', 'fna_file_path_nersc', 'faa_file_path_nersc']\"}\n",
      "{\"time\": \"2025-07-17 21:12:50,501\", \"pipeline\": \"pangenome\", \"schema\": \"pangenome\", \"table\": \"genome\", \"level\": \"INFO\", \"module\": \"validate_schema_against_delta\", \"msg\": \"Reading Delta table from path: s3a://cdm-lake/silver/pangenome/genome\"}\n",
      "{\"time\": \"2025-07-17 21:12:55,591\", \"pipeline\": \"pangenome\", \"schema\": \"pangenome\", \"table\": \"genome\", \"level\": \"INFO\", \"module\": \"validate_schema_against_delta\", \"msg\": \"Delta table loaded successfully\"}\n",
      "{\"time\": \"2025-07-17 21:12:55,592\", \"pipeline\": \"pangenome\", \"schema\": \"pangenome\", \"table\": \"genome\", \"level\": \"DEBUG\", \"module\": \"validate_schema_against_delta\", \"msg\": \"Delta columns: ['genome_id', 'gtdb_species_clade_id', 'gtdb_taxonomy_id', 'ncbi_biosample_id', 'fna_file_path_nersc', 'faa_file_path_nersc']\"}\n",
      "{\"time\": \"2025-07-17 21:12:55,592\", \"pipeline\": \"pangenome\", \"schema\": \"pangenome\", \"table\": \"genome\", \"level\": \"INFO\", \"module\": \"validate_schema_against_delta\", \"msg\": \"Comparison between schema and Delta table columns completed\"}\n",
      "{\"time\": \"2025-07-17 21:12:55,593\", \"pipeline\": \"pangenome\", \"schema\": \"pangenome\", \"table\": \"genome\", \"level\": \"INFO\", \"module\": \"validate_schema_against_delta\", \"msg\": \"All schema columns are present in the Delta table\"}\n",
      "{\"time\": \"2025-07-17 21:12:55,593\", \"pipeline\": \"pangenome\", \"schema\": \"pangenome\", \"table\": \"genome\", \"level\": \"INFO\", \"module\": \"validate_schema_against_delta\", \"msg\": \"No extra columns in Delta table\"}\n",
      "📂 Delta table columns: ['genome_id', 'gtdb_species_clade_id', 'gtdb_taxonomy_id', 'ncbi_biosample_id', 'fna_file_path_nersc', 'faa_file_path_nersc']\n",
      "📄 Schema columns: ['genome_id', 'gtdb_taxonomy_id', 'gtdb_species_clade_id', 'ncbi_biosample_id', 'fna_file_path_nersc', 'faa_file_path_nersc']\n",
      "🔍 Comparison results:\n",
      "✅ All schema columns are present in Delta table\n",
      "✅ No extra columns in Delta table\n"
     ]
    },
    {
     "data": {
      "text/plain": [
       "{'delta_columns': ['genome_id',\n",
       "  'gtdb_species_clade_id',\n",
       "  'gtdb_taxonomy_id',\n",
       "  'ncbi_biosample_id',\n",
       "  'fna_file_path_nersc',\n",
       "  'faa_file_path_nersc'],\n",
       " 'schema_columns': ['genome_id',\n",
       "  'gtdb_taxonomy_id',\n",
       "  'gtdb_species_clade_id',\n",
       "  'ncbi_biosample_id',\n",
       "  'fna_file_path_nersc',\n",
       "  'faa_file_path_nersc'],\n",
       " 'missing_in_table': [],\n",
       " 'extra_in_table': []}"
      ]
     },
     "execution_count": 2,
     "metadata": {},
     "output_type": "execute_result"
    }
   ],
   "source": [
    "from src.validate_schema_against_delta import validate_schema_against_delta\n",
    "validate_schema_against_delta(loader, spark, logger)"
   ]
  },
  {
   "cell_type": "code",
   "execution_count": 3,
   "id": "b4ae73e0",
   "metadata": {},
   "outputs": [
    {
     "name": "stdout",
     "output_type": "stream",
     "text": [
      "✅ Uploaded log to MinIO at: s3://cdm-lake/logs/pangenome/pipeline_run_20250717_211137.log\n"
     ]
    }
   ],
   "source": [
    "# Upload log file to MinIO\n",
    "upload_to_minio(logger.log_file_path)"
   ]
  },
  {
   "cell_type": "code",
   "execution_count": null,
   "id": "56087050",
   "metadata": {},
   "outputs": [],
   "source": []
  }
 ],
 "metadata": {
  "kernelspec": {
   "display_name": "Python 3 (ipykernel)",
   "language": "python",
   "name": "python3"
  },
  "language_info": {
   "codemirror_mode": {
    "name": "ipython",
    "version": 3
   },
   "file_extension": ".py",
   "mimetype": "text/x-python",
   "name": "python",
   "nbconvert_exporter": "python",
   "pygments_lexer": "ipython3",
   "version": "3.10.11"
  }
 },
 "nbformat": 4,
 "nbformat_minor": 5
}
