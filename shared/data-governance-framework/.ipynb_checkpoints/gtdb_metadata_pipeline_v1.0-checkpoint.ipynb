{
 "cells": [
  {
   "cell_type": "code",
   "execution_count": 1,
   "id": "09de6280",
   "metadata": {},
   "outputs": [
    {
     "name": "stdout",
     "output_type": "stream",
     "text": [
      "{\"time\": \"2025-07-10 05:19:23,244\", \"pipeline\": \"pangenome\", \"schema\": \"pangenome\", \"table\": \"gtdb_metadata\", \"level\": \"INFO\", \"module\": \"2742075585\", \"msg\": \"Notebook started\"}\n",
      "{\"time\": \"2025-07-10 05:19:23,256\", \"pipeline\": \"pangenome\", \"schema\": \"pangenome\", \"table\": \"gtdb_metadata\", \"level\": \"INFO\", \"module\": \"config_loader\", \"msg\": \"ConfigLoader initialized for target table: gtdb_metadata\"}\n",
      "{\"time\": \"2025-07-10 05:19:23,257\", \"pipeline\": \"pangenome\", \"schema\": \"pangenome\", \"table\": \"gtdb_metadata\", \"level\": \"INFO\", \"module\": \"config_loader\", \"msg\": \"Resolved config path: s3a://cdm-lake/config-json/gtdb_metadata.json\"}\n",
      "{\"time\": \"2025-07-10 05:19:23,258\", \"pipeline\": \"pangenome\", \"schema\": \"pangenome\", \"table\": \"gtdb_metadata\", \"level\": \"INFO\", \"module\": \"config_loader\", \"msg\": \"Loading config from MinIO: bucket=cdm-lake, key=config-json/gtdb_metadata.json\"}\n",
      "{\"time\": \"2025-07-10 05:19:23,415\", \"pipeline\": \"pangenome\", \"schema\": \"pangenome\", \"table\": \"gtdb_metadata\", \"level\": \"INFO\", \"module\": \"config_loader\", \"msg\": \"Config loaded successfully from MinIO\"}\n",
      "{\"time\": \"2025-07-10 05:19:23,416\", \"pipeline\": \"pangenome\", \"schema\": \"pangenome\", \"table\": \"gtdb_metadata\", \"level\": \"INFO\", \"module\": \"config_loader\", \"msg\": \"All required fields are present in the config\"}\n",
      "{\"time\": \"2025-07-10 05:19:23,417\", \"pipeline\": \"pangenome\", \"schema\": \"pangenome\", \"table\": \"gtdb_metadata\", \"level\": \"DEBUG\", \"module\": \"config_loader\", \"msg\": \"Target table: pangenome.gtdb_metadata\"}\n",
      "pangenome.gtdb_metadata\n",
      "{\"time\": \"2025-07-10 05:19:23,703\", \"pipeline\": \"pangenome\", \"schema\": \"pangenome\", \"table\": \"gtdb_metadata\", \"level\": \"INFO\", \"module\": \"spark_session\", \"msg\": \"Found 4 JARs in /home/jovyan/jars\"}\n",
      "{\"time\": \"2025-07-10 05:19:23,704\", \"pipeline\": \"pangenome\", \"schema\": \"pangenome\", \"table\": \"gtdb_metadata\", \"level\": \"DEBUG\", \"module\": \"spark_session\", \"msg\": \"JARs: ['/home/jovyan/jars/aws-java-sdk-bundle-1.12.367.jar', '/home/jovyan/jars/delta-core_2.12-2.4.0.jar', '/home/jovyan/jars/delta-storage-2.4.0.jar', '/home/jovyan/jars/hadoop-aws-3.3.4.jar']\"}\n",
      "{\"time\": \"2025-07-10 05:19:23,705\", \"pipeline\": \"pangenome\", \"schema\": \"pangenome\", \"table\": \"gtdb_metadata\", \"level\": \"INFO\", \"module\": \"spark_session\", \"msg\": \"Starting Spark session...\"}\n",
      "{\"time\": \"2025-07-10 05:19:28,010\", \"pipeline\": \"pangenome\", \"schema\": \"pangenome\", \"table\": \"gtdb_metadata\", \"level\": \"INFO\", \"module\": \"spark_session\", \"msg\": \"Spark session started successfully\"}\n"
     ]
    }
   ],
   "source": [
    "import boto3\n",
    "import yaml\n",
    "from src.logger import setup_logger\n",
    "from src.minio_uploader import upload_to_minio\n",
    "\n",
    "# Set up logger\n",
    "pipeline_name = \"pangenome\"\n",
    "target_table = \"gtdb_metadata\"\n",
    "schema = \"pangenome\"\n",
    "\n",
    "logger = setup_logger(\n",
    "    pipeline_name=pipeline_name,\n",
    "    target_table=target_table,\n",
    "    schema=schema\n",
    ")\n",
    "\n",
    "logger.info(\"Notebook started\")\n",
    "\n",
    "from config.config_loader import ConfigLoader\n",
    "\n",
    "# Path to config file in MinIO\n",
    "config_path = \"gtdb_metadata\"\n",
    "\n",
    "# Load config\n",
    "loader = ConfigLoader(config_path, logger)\n",
    "loader.load_and_validate()\n",
    "\n",
    "# (Optional) Print something\n",
    "print(loader.get_target_table())\n",
    "\n",
    "# Start Spark\n",
    "from src.spark_session import start_spark_session\n",
    "spark = start_spark_session(logger=logger)"
   ]
  },
  {
   "cell_type": "code",
   "execution_count": 2,
   "id": "a5d3f825",
   "metadata": {},
   "outputs": [
    {
     "name": "stdout",
     "output_type": "stream",
     "text": [
      "{\"time\": \"2025-07-10 05:19:28,033\", \"pipeline\": \"pangenome\", \"schema\": \"pangenome\", \"table\": \"gtdb_metadata\", \"level\": \"INFO\", \"module\": \"validate_schema\", \"msg\": \"Starting schema vs. file validation\"}\n",
      "{\"time\": \"2025-07-10 05:19:28,039\", \"pipeline\": \"pangenome\", \"schema\": \"pangenome\", \"table\": \"gtdb_metadata\", \"level\": \"DEBUG\", \"module\": \"config_loader\", \"msg\": \"Output file: {'output_file_path': 's3a://cdm-lake/pangenome-source/table_gtdb_metadata_V1.1.tsv', 'file_type': 'tsv', 'delimiter': '\\t', 'ignore_first_line': 'no'}\"}\n",
      "{\"time\": \"2025-07-10 05:19:28,040\", \"pipeline\": \"pangenome\", \"schema\": \"pangenome\", \"table\": \"gtdb_metadata\", \"level\": \"INFO\", \"module\": \"validate_schema\", \"msg\": \"Output file: s3a://cdm-lake/pangenome-source/table_gtdb_metadata_V1.1.tsv\"}\n",
      "{\"time\": \"2025-07-10 05:19:28,040\", \"pipeline\": \"pangenome\", \"schema\": \"pangenome\", \"table\": \"gtdb_metadata\", \"level\": \"DEBUG\", \"module\": \"validate_schema\", \"msg\": \"Delimiter: \t, Ignore first line: False\"}\n",
      "{\"time\": \"2025-07-10 05:19:30,311\", \"pipeline\": \"pangenome\", \"schema\": \"pangenome\", \"table\": \"gtdb_metadata\", \"level\": \"INFO\", \"module\": \"validate_schema\", \"msg\": \"Header columns successfully extracted from output file\"}\n",
      "{\"time\": \"2025-07-10 05:19:30,312\", \"pipeline\": \"pangenome\", \"schema\": \"pangenome\", \"table\": \"gtdb_metadata\", \"level\": \"DEBUG\", \"module\": \"validate_schema\", \"msg\": \"Header columns: ['accession', 'ambiguous_bases', 'checkm_completeness', 'checkm_contamination', 'checkm_marker_count', 'checkm_marker_lineage', 'checkm_marker_set_count', 'checkm_strain_heterogeneity', 'coding_bases', 'coding_density', 'contig_count', 'gc_count', 'gc_percentage', 'genome_size', 'gtdb_genome_representative', 'gtdb_representative', 'gtdb_taxonomy', 'gtdb_type_designation_ncbi_taxa', 'gtdb_type_designation_ncbi_taxa_sources', 'gtdb_type_species_of_genus', 'l50_contigs', 'l50_scaffolds', 'longest_contig', 'longest_scaffold', 'lsu_23s_contig_len', 'lsu_23s_count', 'lsu_23s_length', 'lsu_23s_query_id', 'lsu_5s_contig_len', 'lsu_5s_count', 'lsu_5s_length', 'lsu_5s_query_id', 'lsu_silva_23s_blast_align_len', 'lsu_silva_23s_blast_bitscore', 'lsu_silva_23s_blast_evalue', 'lsu_silva_23s_blast_perc_identity', 'lsu_silva_23s_blast_subject_id', 'lsu_silva_23s_taxonomy', 'mean_contig_length', 'mean_scaffold_length', 'mimag_high_quality', 'mimag_low_quality', 'mimag_medium_quality', 'n50_contigs', 'n50_scaffolds', 'ncbi_assembly_level', 'ncbi_assembly_name', 'ncbi_assembly_type', 'ncbi_bioproject', 'ncbi_biosample', 'ncbi_contig_count', 'ncbi_contig_n50', 'ncbi_country', 'ncbi_date', 'ncbi_genbank_assembly_accession', 'ncbi_genome_category', 'ncbi_genome_representation', 'ncbi_isolate', 'ncbi_isolation_source', 'ncbi_lat_lon', 'ncbi_molecule_count', 'ncbi_ncrna_count', 'ncbi_organism_name', 'ncbi_protein_count', 'ncbi_refseq_category', 'ncbi_rrna_count', 'ncbi_scaffold_count', 'ncbi_scaffold_l50', 'ncbi_scaffold_n50', 'ncbi_scaffold_n75', 'ncbi_scaffold_n90', 'ncbi_seq_rel_date', 'ncbi_spanned_gaps', 'ncbi_species_taxid', 'ncbi_ssu_count', 'ncbi_strain_identifiers', 'ncbi_submitter', 'ncbi_taxid', 'ncbi_taxonomy', 'ncbi_taxonomy_unfiltered', 'ncbi_total_gap_length', 'ncbi_total_length', 'ncbi_translation_table', 'ncbi_trna_count', 'ncbi_type_material_designation', 'ncbi_ungapped_length', 'ncbi_unspanned_gaps', 'ncbi_wgs_master', 'protein_count', 'scaffold_count', 'ssu_contig_len', 'ssu_count', 'ssu_gg_blast_align_len', 'ssu_gg_blast_bitscore', 'ssu_gg_blast_evalue', 'ssu_gg_blast_perc_identity', 'ssu_gg_blast_subject_id', 'ssu_gg_taxonomy', 'ssu_length', 'ssu_query_id', 'ssu_silva_blast_align_len', 'ssu_silva_blast_bitscore', 'ssu_silva_blast_evalue', 'ssu_silva_blast_perc_identity', 'ssu_silva_blast_subject_id', 'ssu_silva_taxonomy', 'total_gap_length', 'trna_aa_count', 'trna_count', 'trna_selenocysteine_count']\"}\n",
      "{\"time\": \"2025-07-10 05:19:30,313\", \"pipeline\": \"pangenome\", \"schema\": \"pangenome\", \"table\": \"gtdb_metadata\", \"level\": \"DEBUG\", \"module\": \"config_loader\", \"msg\": \"Schema file path: s3a://cdm-lake/schemas/pangenome-schema.yaml\"}\n",
      "{\"time\": \"2025-07-10 05:19:30,314\", \"pipeline\": \"pangenome\", \"schema\": \"pangenome\", \"table\": \"gtdb_metadata\", \"level\": \"INFO\", \"module\": \"validate_schema\", \"msg\": \"Schema file: s3a://cdm-lake/schemas/pangenome-schema.yaml\"}\n",
      "{\"time\": \"2025-07-10 05:19:30,334\", \"pipeline\": \"pangenome\", \"schema\": \"pangenome\", \"table\": \"gtdb_metadata\", \"level\": \"DEBUG\", \"module\": \"config_loader\", \"msg\": \"Target table: pangenome.gtdb_metadata\"}\n",
      "{\"time\": \"2025-07-10 05:19:30,335\", \"pipeline\": \"pangenome\", \"schema\": \"pangenome\", \"table\": \"gtdb_metadata\", \"level\": \"INFO\", \"module\": \"validate_schema\", \"msg\": \"Derived schema class name: gtdb_metadata\"}\n",
      "{\"time\": \"2025-07-10 05:19:30,335\", \"pipeline\": \"pangenome\", \"schema\": \"pangenome\", \"table\": \"gtdb_metadata\", \"level\": \"INFO\", \"module\": \"validate_schema\", \"msg\": \"Schema loaded and class found successfully\"}\n",
      "{\"time\": \"2025-07-10 05:19:30,336\", \"pipeline\": \"pangenome\", \"schema\": \"pangenome\", \"table\": \"gtdb_metadata\", \"level\": \"DEBUG\", \"module\": \"validate_schema\", \"msg\": \"Schema columns: ['accession', 'sample_id', 'checkm_completeness', 'checkm_contamination', 'contig_count', 'gc_count', 'gc_percentage', 'genome_size', 'gtdb_genome_representative', 'gtdb_taxonomy', 'mean_contig_length', 'mean_scaffold_length', 'n50_contigs', 'n50_scaffolds', 'ncbi_assembly_level', 'ncbi_assembly_name', 'ncbi_bioproject', 'ncbi_biosample', 'ncbi_genome_category', 'ncbi_isolate', 'ncbi_taxid', 'ncbi_taxonomy', 'etc']\"}\n",
      "{\"time\": \"2025-07-10 05:19:30,337\", \"pipeline\": \"pangenome\", \"schema\": \"pangenome\", \"table\": \"gtdb_metadata\", \"level\": \"INFO\", \"module\": \"validate_schema\", \"msg\": \"Comparison between schema and file header completed\"}\n",
      "{\"time\": \"2025-07-10 05:19:30,337\", \"pipeline\": \"pangenome\", \"schema\": \"pangenome\", \"table\": \"gtdb_metadata\", \"level\": \"WARNING\", \"module\": \"validate_schema\", \"msg\": \"Missing columns in file: ['sample_id', 'etc']\"}\n",
      "{\"time\": \"2025-07-10 05:19:30,338\", \"pipeline\": \"pangenome\", \"schema\": \"pangenome\", \"table\": \"gtdb_metadata\", \"level\": \"WARNING\", \"module\": \"validate_schema\", \"msg\": \"Extra columns in file not in schema: ['ambiguous_bases', 'checkm_marker_count', 'checkm_marker_lineage', 'checkm_marker_set_count', 'checkm_strain_heterogeneity', 'coding_bases', 'coding_density', 'gtdb_representative', 'gtdb_type_designation_ncbi_taxa', 'gtdb_type_designation_ncbi_taxa_sources', 'gtdb_type_species_of_genus', 'l50_contigs', 'l50_scaffolds', 'longest_contig', 'longest_scaffold', 'lsu_23s_contig_len', 'lsu_23s_count', 'lsu_23s_length', 'lsu_23s_query_id', 'lsu_5s_contig_len', 'lsu_5s_count', 'lsu_5s_length', 'lsu_5s_query_id', 'lsu_silva_23s_blast_align_len', 'lsu_silva_23s_blast_bitscore', 'lsu_silva_23s_blast_evalue', 'lsu_silva_23s_blast_perc_identity', 'lsu_silva_23s_blast_subject_id', 'lsu_silva_23s_taxonomy', 'mimag_high_quality', 'mimag_low_quality', 'mimag_medium_quality', 'ncbi_assembly_type', 'ncbi_contig_count', 'ncbi_contig_n50', 'ncbi_country', 'ncbi_date', 'ncbi_genbank_assembly_accession', 'ncbi_genome_representation', 'ncbi_isolation_source', 'ncbi_lat_lon', 'ncbi_molecule_count', 'ncbi_ncrna_count', 'ncbi_organism_name', 'ncbi_protein_count', 'ncbi_refseq_category', 'ncbi_rrna_count', 'ncbi_scaffold_count', 'ncbi_scaffold_l50', 'ncbi_scaffold_n50', 'ncbi_scaffold_n75', 'ncbi_scaffold_n90', 'ncbi_seq_rel_date', 'ncbi_spanned_gaps', 'ncbi_species_taxid', 'ncbi_ssu_count', 'ncbi_strain_identifiers', 'ncbi_submitter', 'ncbi_taxonomy_unfiltered', 'ncbi_total_gap_length', 'ncbi_total_length', 'ncbi_translation_table', 'ncbi_trna_count', 'ncbi_type_material_designation', 'ncbi_ungapped_length', 'ncbi_unspanned_gaps', 'ncbi_wgs_master', 'protein_count', 'scaffold_count', 'ssu_contig_len', 'ssu_count', 'ssu_gg_blast_align_len', 'ssu_gg_blast_bitscore', 'ssu_gg_blast_evalue', 'ssu_gg_blast_perc_identity', 'ssu_gg_blast_subject_id', 'ssu_gg_taxonomy', 'ssu_length', 'ssu_query_id', 'ssu_silva_blast_align_len', 'ssu_silva_blast_bitscore', 'ssu_silva_blast_evalue', 'ssu_silva_blast_perc_identity', 'ssu_silva_blast_subject_id', 'ssu_silva_taxonomy', 'total_gap_length', 'trna_aa_count', 'trna_count', 'trna_selenocysteine_count']\"}\n",
      "🔹 Header columns from file:\n",
      "['accession', 'ambiguous_bases', 'checkm_completeness', 'checkm_contamination', 'checkm_marker_count', 'checkm_marker_lineage', 'checkm_marker_set_count', 'checkm_strain_heterogeneity', 'coding_bases', 'coding_density', 'contig_count', 'gc_count', 'gc_percentage', 'genome_size', 'gtdb_genome_representative', 'gtdb_representative', 'gtdb_taxonomy', 'gtdb_type_designation_ncbi_taxa', 'gtdb_type_designation_ncbi_taxa_sources', 'gtdb_type_species_of_genus', 'l50_contigs', 'l50_scaffolds', 'longest_contig', 'longest_scaffold', 'lsu_23s_contig_len', 'lsu_23s_count', 'lsu_23s_length', 'lsu_23s_query_id', 'lsu_5s_contig_len', 'lsu_5s_count', 'lsu_5s_length', 'lsu_5s_query_id', 'lsu_silva_23s_blast_align_len', 'lsu_silva_23s_blast_bitscore', 'lsu_silva_23s_blast_evalue', 'lsu_silva_23s_blast_perc_identity', 'lsu_silva_23s_blast_subject_id', 'lsu_silva_23s_taxonomy', 'mean_contig_length', 'mean_scaffold_length', 'mimag_high_quality', 'mimag_low_quality', 'mimag_medium_quality', 'n50_contigs', 'n50_scaffolds', 'ncbi_assembly_level', 'ncbi_assembly_name', 'ncbi_assembly_type', 'ncbi_bioproject', 'ncbi_biosample', 'ncbi_contig_count', 'ncbi_contig_n50', 'ncbi_country', 'ncbi_date', 'ncbi_genbank_assembly_accession', 'ncbi_genome_category', 'ncbi_genome_representation', 'ncbi_isolate', 'ncbi_isolation_source', 'ncbi_lat_lon', 'ncbi_molecule_count', 'ncbi_ncrna_count', 'ncbi_organism_name', 'ncbi_protein_count', 'ncbi_refseq_category', 'ncbi_rrna_count', 'ncbi_scaffold_count', 'ncbi_scaffold_l50', 'ncbi_scaffold_n50', 'ncbi_scaffold_n75', 'ncbi_scaffold_n90', 'ncbi_seq_rel_date', 'ncbi_spanned_gaps', 'ncbi_species_taxid', 'ncbi_ssu_count', 'ncbi_strain_identifiers', 'ncbi_submitter', 'ncbi_taxid', 'ncbi_taxonomy', 'ncbi_taxonomy_unfiltered', 'ncbi_total_gap_length', 'ncbi_total_length', 'ncbi_translation_table', 'ncbi_trna_count', 'ncbi_type_material_designation', 'ncbi_ungapped_length', 'ncbi_unspanned_gaps', 'ncbi_wgs_master', 'protein_count', 'scaffold_count', 'ssu_contig_len', 'ssu_count', 'ssu_gg_blast_align_len', 'ssu_gg_blast_bitscore', 'ssu_gg_blast_evalue', 'ssu_gg_blast_perc_identity', 'ssu_gg_blast_subject_id', 'ssu_gg_taxonomy', 'ssu_length', 'ssu_query_id', 'ssu_silva_blast_align_len', 'ssu_silva_blast_bitscore', 'ssu_silva_blast_evalue', 'ssu_silva_blast_perc_identity', 'ssu_silva_blast_subject_id', 'ssu_silva_taxonomy', 'total_gap_length', 'trna_aa_count', 'trna_count', 'trna_selenocysteine_count']\n",
      "\n",
      "✅ Columns in schema class 'gtdb_metadata':\n",
      "['accession', 'sample_id', 'checkm_completeness', 'checkm_contamination', 'contig_count', 'gc_count', 'gc_percentage', 'genome_size', 'gtdb_genome_representative', 'gtdb_taxonomy', 'mean_contig_length', 'mean_scaffold_length', 'n50_contigs', 'n50_scaffolds', 'ncbi_assembly_level', 'ncbi_assembly_name', 'ncbi_bioproject', 'ncbi_biosample', 'ncbi_genome_category', 'ncbi_isolate', 'ncbi_taxid', 'ncbi_taxonomy', 'etc']\n",
      "\n",
      "🔍 Comparison results:\n",
      "❌ Missing in file: ['sample_id', 'etc']\n",
      "⚠️ Extra columns in file not in schema: ['ambiguous_bases', 'checkm_marker_count', 'checkm_marker_lineage', 'checkm_marker_set_count', 'checkm_strain_heterogeneity', 'coding_bases', 'coding_density', 'gtdb_representative', 'gtdb_type_designation_ncbi_taxa', 'gtdb_type_designation_ncbi_taxa_sources', 'gtdb_type_species_of_genus', 'l50_contigs', 'l50_scaffolds', 'longest_contig', 'longest_scaffold', 'lsu_23s_contig_len', 'lsu_23s_count', 'lsu_23s_length', 'lsu_23s_query_id', 'lsu_5s_contig_len', 'lsu_5s_count', 'lsu_5s_length', 'lsu_5s_query_id', 'lsu_silva_23s_blast_align_len', 'lsu_silva_23s_blast_bitscore', 'lsu_silva_23s_blast_evalue', 'lsu_silva_23s_blast_perc_identity', 'lsu_silva_23s_blast_subject_id', 'lsu_silva_23s_taxonomy', 'mimag_high_quality', 'mimag_low_quality', 'mimag_medium_quality', 'ncbi_assembly_type', 'ncbi_contig_count', 'ncbi_contig_n50', 'ncbi_country', 'ncbi_date', 'ncbi_genbank_assembly_accession', 'ncbi_genome_representation', 'ncbi_isolation_source', 'ncbi_lat_lon', 'ncbi_molecule_count', 'ncbi_ncrna_count', 'ncbi_organism_name', 'ncbi_protein_count', 'ncbi_refseq_category', 'ncbi_rrna_count', 'ncbi_scaffold_count', 'ncbi_scaffold_l50', 'ncbi_scaffold_n50', 'ncbi_scaffold_n75', 'ncbi_scaffold_n90', 'ncbi_seq_rel_date', 'ncbi_spanned_gaps', 'ncbi_species_taxid', 'ncbi_ssu_count', 'ncbi_strain_identifiers', 'ncbi_submitter', 'ncbi_taxonomy_unfiltered', 'ncbi_total_gap_length', 'ncbi_total_length', 'ncbi_translation_table', 'ncbi_trna_count', 'ncbi_type_material_designation', 'ncbi_ungapped_length', 'ncbi_unspanned_gaps', 'ncbi_wgs_master', 'protein_count', 'scaffold_count', 'ssu_contig_len', 'ssu_count', 'ssu_gg_blast_align_len', 'ssu_gg_blast_bitscore', 'ssu_gg_blast_evalue', 'ssu_gg_blast_perc_identity', 'ssu_gg_blast_subject_id', 'ssu_gg_taxonomy', 'ssu_length', 'ssu_query_id', 'ssu_silva_blast_align_len', 'ssu_silva_blast_bitscore', 'ssu_silva_blast_evalue', 'ssu_silva_blast_perc_identity', 'ssu_silva_blast_subject_id', 'ssu_silva_taxonomy', 'total_gap_length', 'trna_aa_count', 'trna_count', 'trna_selenocysteine_count']\n"
     ]
    },
    {
     "data": {
      "text/plain": [
       "{'file_columns': ['accession',\n",
       "  'ambiguous_bases',\n",
       "  'checkm_completeness',\n",
       "  'checkm_contamination',\n",
       "  'checkm_marker_count',\n",
       "  'checkm_marker_lineage',\n",
       "  'checkm_marker_set_count',\n",
       "  'checkm_strain_heterogeneity',\n",
       "  'coding_bases',\n",
       "  'coding_density',\n",
       "  'contig_count',\n",
       "  'gc_count',\n",
       "  'gc_percentage',\n",
       "  'genome_size',\n",
       "  'gtdb_genome_representative',\n",
       "  'gtdb_representative',\n",
       "  'gtdb_taxonomy',\n",
       "  'gtdb_type_designation_ncbi_taxa',\n",
       "  'gtdb_type_designation_ncbi_taxa_sources',\n",
       "  'gtdb_type_species_of_genus',\n",
       "  'l50_contigs',\n",
       "  'l50_scaffolds',\n",
       "  'longest_contig',\n",
       "  'longest_scaffold',\n",
       "  'lsu_23s_contig_len',\n",
       "  'lsu_23s_count',\n",
       "  'lsu_23s_length',\n",
       "  'lsu_23s_query_id',\n",
       "  'lsu_5s_contig_len',\n",
       "  'lsu_5s_count',\n",
       "  'lsu_5s_length',\n",
       "  'lsu_5s_query_id',\n",
       "  'lsu_silva_23s_blast_align_len',\n",
       "  'lsu_silva_23s_blast_bitscore',\n",
       "  'lsu_silva_23s_blast_evalue',\n",
       "  'lsu_silva_23s_blast_perc_identity',\n",
       "  'lsu_silva_23s_blast_subject_id',\n",
       "  'lsu_silva_23s_taxonomy',\n",
       "  'mean_contig_length',\n",
       "  'mean_scaffold_length',\n",
       "  'mimag_high_quality',\n",
       "  'mimag_low_quality',\n",
       "  'mimag_medium_quality',\n",
       "  'n50_contigs',\n",
       "  'n50_scaffolds',\n",
       "  'ncbi_assembly_level',\n",
       "  'ncbi_assembly_name',\n",
       "  'ncbi_assembly_type',\n",
       "  'ncbi_bioproject',\n",
       "  'ncbi_biosample',\n",
       "  'ncbi_contig_count',\n",
       "  'ncbi_contig_n50',\n",
       "  'ncbi_country',\n",
       "  'ncbi_date',\n",
       "  'ncbi_genbank_assembly_accession',\n",
       "  'ncbi_genome_category',\n",
       "  'ncbi_genome_representation',\n",
       "  'ncbi_isolate',\n",
       "  'ncbi_isolation_source',\n",
       "  'ncbi_lat_lon',\n",
       "  'ncbi_molecule_count',\n",
       "  'ncbi_ncrna_count',\n",
       "  'ncbi_organism_name',\n",
       "  'ncbi_protein_count',\n",
       "  'ncbi_refseq_category',\n",
       "  'ncbi_rrna_count',\n",
       "  'ncbi_scaffold_count',\n",
       "  'ncbi_scaffold_l50',\n",
       "  'ncbi_scaffold_n50',\n",
       "  'ncbi_scaffold_n75',\n",
       "  'ncbi_scaffold_n90',\n",
       "  'ncbi_seq_rel_date',\n",
       "  'ncbi_spanned_gaps',\n",
       "  'ncbi_species_taxid',\n",
       "  'ncbi_ssu_count',\n",
       "  'ncbi_strain_identifiers',\n",
       "  'ncbi_submitter',\n",
       "  'ncbi_taxid',\n",
       "  'ncbi_taxonomy',\n",
       "  'ncbi_taxonomy_unfiltered',\n",
       "  'ncbi_total_gap_length',\n",
       "  'ncbi_total_length',\n",
       "  'ncbi_translation_table',\n",
       "  'ncbi_trna_count',\n",
       "  'ncbi_type_material_designation',\n",
       "  'ncbi_ungapped_length',\n",
       "  'ncbi_unspanned_gaps',\n",
       "  'ncbi_wgs_master',\n",
       "  'protein_count',\n",
       "  'scaffold_count',\n",
       "  'ssu_contig_len',\n",
       "  'ssu_count',\n",
       "  'ssu_gg_blast_align_len',\n",
       "  'ssu_gg_blast_bitscore',\n",
       "  'ssu_gg_blast_evalue',\n",
       "  'ssu_gg_blast_perc_identity',\n",
       "  'ssu_gg_blast_subject_id',\n",
       "  'ssu_gg_taxonomy',\n",
       "  'ssu_length',\n",
       "  'ssu_query_id',\n",
       "  'ssu_silva_blast_align_len',\n",
       "  'ssu_silva_blast_bitscore',\n",
       "  'ssu_silva_blast_evalue',\n",
       "  'ssu_silva_blast_perc_identity',\n",
       "  'ssu_silva_blast_subject_id',\n",
       "  'ssu_silva_taxonomy',\n",
       "  'total_gap_length',\n",
       "  'trna_aa_count',\n",
       "  'trna_count',\n",
       "  'trna_selenocysteine_count'],\n",
       " 'schema_columns': ['accession',\n",
       "  'sample_id',\n",
       "  'checkm_completeness',\n",
       "  'checkm_contamination',\n",
       "  'contig_count',\n",
       "  'gc_count',\n",
       "  'gc_percentage',\n",
       "  'genome_size',\n",
       "  'gtdb_genome_representative',\n",
       "  'gtdb_taxonomy',\n",
       "  'mean_contig_length',\n",
       "  'mean_scaffold_length',\n",
       "  'n50_contigs',\n",
       "  'n50_scaffolds',\n",
       "  'ncbi_assembly_level',\n",
       "  'ncbi_assembly_name',\n",
       "  'ncbi_bioproject',\n",
       "  'ncbi_biosample',\n",
       "  'ncbi_genome_category',\n",
       "  'ncbi_isolate',\n",
       "  'ncbi_taxid',\n",
       "  'ncbi_taxonomy',\n",
       "  'etc'],\n",
       " 'missing_in_file': ['sample_id', 'etc'],\n",
       " 'extra_in_file': ['ambiguous_bases',\n",
       "  'checkm_marker_count',\n",
       "  'checkm_marker_lineage',\n",
       "  'checkm_marker_set_count',\n",
       "  'checkm_strain_heterogeneity',\n",
       "  'coding_bases',\n",
       "  'coding_density',\n",
       "  'gtdb_representative',\n",
       "  'gtdb_type_designation_ncbi_taxa',\n",
       "  'gtdb_type_designation_ncbi_taxa_sources',\n",
       "  'gtdb_type_species_of_genus',\n",
       "  'l50_contigs',\n",
       "  'l50_scaffolds',\n",
       "  'longest_contig',\n",
       "  'longest_scaffold',\n",
       "  'lsu_23s_contig_len',\n",
       "  'lsu_23s_count',\n",
       "  'lsu_23s_length',\n",
       "  'lsu_23s_query_id',\n",
       "  'lsu_5s_contig_len',\n",
       "  'lsu_5s_count',\n",
       "  'lsu_5s_length',\n",
       "  'lsu_5s_query_id',\n",
       "  'lsu_silva_23s_blast_align_len',\n",
       "  'lsu_silva_23s_blast_bitscore',\n",
       "  'lsu_silva_23s_blast_evalue',\n",
       "  'lsu_silva_23s_blast_perc_identity',\n",
       "  'lsu_silva_23s_blast_subject_id',\n",
       "  'lsu_silva_23s_taxonomy',\n",
       "  'mimag_high_quality',\n",
       "  'mimag_low_quality',\n",
       "  'mimag_medium_quality',\n",
       "  'ncbi_assembly_type',\n",
       "  'ncbi_contig_count',\n",
       "  'ncbi_contig_n50',\n",
       "  'ncbi_country',\n",
       "  'ncbi_date',\n",
       "  'ncbi_genbank_assembly_accession',\n",
       "  'ncbi_genome_representation',\n",
       "  'ncbi_isolation_source',\n",
       "  'ncbi_lat_lon',\n",
       "  'ncbi_molecule_count',\n",
       "  'ncbi_ncrna_count',\n",
       "  'ncbi_organism_name',\n",
       "  'ncbi_protein_count',\n",
       "  'ncbi_refseq_category',\n",
       "  'ncbi_rrna_count',\n",
       "  'ncbi_scaffold_count',\n",
       "  'ncbi_scaffold_l50',\n",
       "  'ncbi_scaffold_n50',\n",
       "  'ncbi_scaffold_n75',\n",
       "  'ncbi_scaffold_n90',\n",
       "  'ncbi_seq_rel_date',\n",
       "  'ncbi_spanned_gaps',\n",
       "  'ncbi_species_taxid',\n",
       "  'ncbi_ssu_count',\n",
       "  'ncbi_strain_identifiers',\n",
       "  'ncbi_submitter',\n",
       "  'ncbi_taxonomy_unfiltered',\n",
       "  'ncbi_total_gap_length',\n",
       "  'ncbi_total_length',\n",
       "  'ncbi_translation_table',\n",
       "  'ncbi_trna_count',\n",
       "  'ncbi_type_material_designation',\n",
       "  'ncbi_ungapped_length',\n",
       "  'ncbi_unspanned_gaps',\n",
       "  'ncbi_wgs_master',\n",
       "  'protein_count',\n",
       "  'scaffold_count',\n",
       "  'ssu_contig_len',\n",
       "  'ssu_count',\n",
       "  'ssu_gg_blast_align_len',\n",
       "  'ssu_gg_blast_bitscore',\n",
       "  'ssu_gg_blast_evalue',\n",
       "  'ssu_gg_blast_perc_identity',\n",
       "  'ssu_gg_blast_subject_id',\n",
       "  'ssu_gg_taxonomy',\n",
       "  'ssu_length',\n",
       "  'ssu_query_id',\n",
       "  'ssu_silva_blast_align_len',\n",
       "  'ssu_silva_blast_bitscore',\n",
       "  'ssu_silva_blast_evalue',\n",
       "  'ssu_silva_blast_perc_identity',\n",
       "  'ssu_silva_blast_subject_id',\n",
       "  'ssu_silva_taxonomy',\n",
       "  'total_gap_length',\n",
       "  'trna_aa_count',\n",
       "  'trna_count',\n",
       "  'trna_selenocysteine_count']}"
      ]
     },
     "execution_count": 2,
     "metadata": {},
     "output_type": "execute_result"
    }
   ],
   "source": [
    "# Check schema headers\n",
    "from src.validate_schema import validate_schema_against_file\n",
    "validate_schema_against_file(loader, logger)"
   ]
  },
  {
   "cell_type": "code",
   "execution_count": 3,
   "id": "9ec38515",
   "metadata": {},
   "outputs": [
    {
     "name": "stdout",
     "output_type": "stream",
     "text": [
      "{\"time\": \"2025-07-10 05:19:31,267\", \"pipeline\": \"pangenome\", \"schema\": \"pangenome\", \"table\": \"gtdb_metadata\", \"level\": \"DEBUG\", \"module\": \"config_loader\", \"msg\": \"Output file: {'output_file_path': 's3a://cdm-lake/pangenome-source/table_gtdb_metadata_V1.1.tsv', 'file_type': 'tsv', 'delimiter': '\\t', 'ignore_first_line': 'no'}\"}\n",
      "{\"time\": \"2025-07-10 05:19:31,268\", \"pipeline\": \"pangenome\", \"schema\": \"pangenome\", \"table\": \"gtdb_metadata\", \"level\": \"INFO\", \"module\": \"run_validations\", \"msg\": \"Starting validation on file: s3a://cdm-lake/pangenome-source/table_gtdb_metadata_V1.1.tsv\"}\n",
      "{\"time\": \"2025-07-10 05:19:31,269\", \"pipeline\": \"pangenome\", \"schema\": \"pangenome\", \"table\": \"gtdb_metadata\", \"level\": \"DEBUG\", \"module\": \"run_validations\", \"msg\": \"Delimiter: \t, Ignore first line: False\"}\n",
      "{\"time\": \"2025-07-10 05:19:31,270\", \"pipeline\": \"pangenome\", \"schema\": \"pangenome\", \"table\": \"gtdb_metadata\", \"level\": \"DEBUG\", \"module\": \"config_loader\", \"msg\": \"Validations: [{'column': 'accession', 'validation_type': 'not_null', 'error_message': 'Missing accession'}, {'column': 'accession', 'validation_type': 'regex_match', 'pattern': '^[A-Za-z0-9_.-]+$', 'error_message': 'Invalid accession format'}, {'column': 'checkm_completeness', 'validation_type': 'numeric_range', 'min': 0, 'max': 100, 'error_message': 'checkm_completeness must be between 0 and 100'}, {'column': 'checkm_contamination', 'validation_type': 'numeric_range', 'min': 0, 'max': 100, 'error_message': 'checkm_contamination must be between 0 and 100'}]\"}\n",
      "{\"time\": \"2025-07-10 05:19:31,270\", \"pipeline\": \"pangenome\", \"schema\": \"pangenome\", \"table\": \"gtdb_metadata\", \"level\": \"DEBUG\", \"module\": \"run_validations\", \"msg\": \"Validation rules: [{'column': 'accession', 'validation_type': 'not_null', 'error_message': 'Missing accession'}, {'column': 'accession', 'validation_type': 'regex_match', 'pattern': '^[A-Za-z0-9_.-]+$', 'error_message': 'Invalid accession format'}, {'column': 'checkm_completeness', 'validation_type': 'numeric_range', 'min': 0, 'max': 100, 'error_message': 'checkm_completeness must be between 0 and 100'}, {'column': 'checkm_contamination', 'validation_type': 'numeric_range', 'min': 0, 'max': 100, 'error_message': 'checkm_contamination must be between 0 and 100'}]\"}\n",
      "\n",
      "🔍 Running validations:\n",
      "\n",
      "{\"time\": \"2025-07-10 05:19:41,987\", \"pipeline\": \"pangenome\", \"schema\": \"pangenome\", \"table\": \"gtdb_metadata\", \"level\": \"INFO\", \"module\": \"run_validations\", \"msg\": \"Running validations...\"}\n",
      "{\"time\": \"2025-07-10 05:19:41,994\", \"pipeline\": \"pangenome\", \"schema\": \"pangenome\", \"table\": \"gtdb_metadata\", \"level\": \"DEBUG\", \"module\": \"run_validations\", \"msg\": \"Header columns: ['accession', 'ambiguous_bases', 'checkm_completeness', 'checkm_contamination', 'checkm_marker_count', 'checkm_marker_lineage', 'checkm_marker_set_count', 'checkm_strain_heterogeneity', 'coding_bases', 'coding_density', 'contig_count', 'gc_count', 'gc_percentage', 'genome_size', 'gtdb_genome_representative', 'gtdb_representative', 'gtdb_taxonomy', 'gtdb_type_designation_ncbi_taxa', 'gtdb_type_designation_ncbi_taxa_sources', 'gtdb_type_species_of_genus', 'l50_contigs', 'l50_scaffolds', 'longest_contig', 'longest_scaffold', 'lsu_23s_contig_len', 'lsu_23s_count', 'lsu_23s_length', 'lsu_23s_query_id', 'lsu_5s_contig_len', 'lsu_5s_count', 'lsu_5s_length', 'lsu_5s_query_id', 'lsu_silva_23s_blast_align_len', 'lsu_silva_23s_blast_bitscore', 'lsu_silva_23s_blast_evalue', 'lsu_silva_23s_blast_perc_identity', 'lsu_silva_23s_blast_subject_id', 'lsu_silva_23s_taxonomy', 'mean_contig_length', 'mean_scaffold_length', 'mimag_high_quality', 'mimag_low_quality', 'mimag_medium_quality', 'n50_contigs', 'n50_scaffolds', 'ncbi_assembly_level', 'ncbi_assembly_name', 'ncbi_assembly_type', 'ncbi_bioproject', 'ncbi_biosample', 'ncbi_contig_count', 'ncbi_contig_n50', 'ncbi_country', 'ncbi_date', 'ncbi_genbank_assembly_accession', 'ncbi_genome_category', 'ncbi_genome_representation', 'ncbi_isolate', 'ncbi_isolation_source', 'ncbi_lat_lon', 'ncbi_molecule_count', 'ncbi_ncrna_count', 'ncbi_organism_name', 'ncbi_protein_count', 'ncbi_refseq_category', 'ncbi_rrna_count', 'ncbi_scaffold_count', 'ncbi_scaffold_l50', 'ncbi_scaffold_n50', 'ncbi_scaffold_n75', 'ncbi_scaffold_n90', 'ncbi_seq_rel_date', 'ncbi_spanned_gaps', 'ncbi_species_taxid', 'ncbi_ssu_count', 'ncbi_strain_identifiers', 'ncbi_submitter', 'ncbi_taxid', 'ncbi_taxonomy', 'ncbi_taxonomy_unfiltered', 'ncbi_total_gap_length', 'ncbi_total_length', 'ncbi_translation_table', 'ncbi_trna_count', 'ncbi_type_material_designation', 'ncbi_ungapped_length', 'ncbi_unspanned_gaps', 'ncbi_wgs_master', 'protein_count', 'scaffold_count', 'ssu_contig_len', 'ssu_count', 'ssu_gg_blast_align_len', 'ssu_gg_blast_bitscore', 'ssu_gg_blast_evalue', 'ssu_gg_blast_perc_identity', 'ssu_gg_blast_subject_id', 'ssu_gg_taxonomy', 'ssu_length', 'ssu_query_id', 'ssu_silva_blast_align_len', 'ssu_silva_blast_bitscore', 'ssu_silva_blast_evalue', 'ssu_silva_blast_perc_identity', 'ssu_silva_blast_subject_id', 'ssu_silva_taxonomy', 'total_gap_length', 'trna_aa_count', 'trna_count', 'trna_selenocysteine_count']\"}\n",
      "\n",
      "📋 Validation Summary:\n",
      "{\"time\": \"2025-07-10 05:19:42,842\", \"pipeline\": \"pangenome\", \"schema\": \"pangenome\", \"table\": \"gtdb_metadata\", \"level\": \"INFO\", \"module\": \"run_validations\", \"msg\": \"Validation summary:\"}\n",
      "✅ All validation rules ran successfully. No issues found.\n",
      "{\"time\": \"2025-07-10 05:19:42,843\", \"pipeline\": \"pangenome\", \"schema\": \"pangenome\", \"table\": \"gtdb_metadata\", \"level\": \"INFO\", \"module\": \"run_validations\", \"msg\": \"All validation rules passed. No issues found.\"}\n",
      "\n",
      "✅ Passed Rules:\n",
      "✔️ accession - not_null\n",
      "{\"time\": \"2025-07-10 05:19:42,843\", \"pipeline\": \"pangenome\", \"schema\": \"pangenome\", \"table\": \"gtdb_metadata\", \"level\": \"INFO\", \"module\": \"run_validations\", \"msg\": \"Passed: accession - not_null\"}\n",
      "✔️ accession - regex_match\n",
      "{\"time\": \"2025-07-10 05:19:42,844\", \"pipeline\": \"pangenome\", \"schema\": \"pangenome\", \"table\": \"gtdb_metadata\", \"level\": \"INFO\", \"module\": \"run_validations\", \"msg\": \"Passed: accession - regex_match\"}\n",
      "✔️ checkm_completeness - numeric_range\n",
      "{\"time\": \"2025-07-10 05:19:42,845\", \"pipeline\": \"pangenome\", \"schema\": \"pangenome\", \"table\": \"gtdb_metadata\", \"level\": \"INFO\", \"module\": \"run_validations\", \"msg\": \"Passed: checkm_completeness - numeric_range\"}\n",
      "✔️ checkm_contamination - numeric_range\n",
      "{\"time\": \"2025-07-10 05:19:42,845\", \"pipeline\": \"pangenome\", \"schema\": \"pangenome\", \"table\": \"gtdb_metadata\", \"level\": \"INFO\", \"module\": \"run_validations\", \"msg\": \"Passed: checkm_contamination - numeric_range\"}\n"
     ]
    },
    {
     "data": {
      "text/plain": [
       "{'file_path': 's3a://cdm-lake/pangenome-source/table_gtdb_metadata_V1.1.tsv',\n",
       " 'validation_errors': [],\n",
       " 'success': True}"
      ]
     },
     "execution_count": 3,
     "metadata": {},
     "output_type": "execute_result"
    }
   ],
   "source": [
    "# Run validations\n",
    "from src.run_validations import run_validations_from_config\n",
    "run_validations_from_config(loader, logger)"
   ]
  },
  {
   "cell_type": "code",
   "execution_count": 4,
   "id": "bced3511",
   "metadata": {},
   "outputs": [
    {
     "name": "stdout",
     "output_type": "stream",
     "text": [
      "{\"time\": \"2025-07-10 05:19:43,270\", \"pipeline\": \"pangenome\", \"schema\": \"pangenome\", \"table\": \"gtdb_metadata\", \"level\": \"INFO\", \"module\": \"config_loader\", \"msg\": \"Loading config from MinIO: bucket=cdm-lake, key=config-json/gtdb_metadata.json\"}\n",
      "{\"time\": \"2025-07-10 05:19:43,289\", \"pipeline\": \"pangenome\", \"schema\": \"pangenome\", \"table\": \"gtdb_metadata\", \"level\": \"INFO\", \"module\": \"config_loader\", \"msg\": \"Config loaded successfully from MinIO\"}\n",
      "{\"time\": \"2025-07-10 05:19:43,290\", \"pipeline\": \"pangenome\", \"schema\": \"pangenome\", \"table\": \"gtdb_metadata\", \"level\": \"INFO\", \"module\": \"config_loader\", \"msg\": \"All required fields are present in the config\"}\n",
      "{\"time\": \"2025-07-10 05:19:43,290\", \"pipeline\": \"pangenome\", \"schema\": \"pangenome\", \"table\": \"gtdb_metadata\", \"level\": \"DEBUG\", \"module\": \"config_loader\", \"msg\": \"Referential integrity rules: [{'foreign_key': 'sample_id', 'reference_table': 'sample', 'reference_column': 'sample_id', 'database': 'pangenome', 'action': 'log'}, {'foreign_key': 'ncbi_biosample', 'reference_table': 'ncbi_env', 'reference_column': 'biosample_id', 'database': 'pangenome', 'action': 'log'}]\"}\n",
      "{\"time\": \"2025-07-10 05:19:43,291\", \"pipeline\": \"pangenome\", \"schema\": \"pangenome\", \"table\": \"gtdb_metadata\", \"level\": \"DEBUG\", \"module\": \"config_loader\", \"msg\": \"Target table: pangenome.gtdb_metadata\"}\n",
      "{\"time\": \"2025-07-10 05:19:49,890\", \"pipeline\": \"pangenome\", \"schema\": \"pangenome\", \"table\": \"gtdb_metadata\", \"level\": \"INFO\", \"module\": \"run_referential_integrity_checks\", \"msg\": \"Starting referential integrity checks for table: pangenome.gtdb_metadata\"}\n",
      "{\"time\": \"2025-07-10 05:19:49,891\", \"pipeline\": \"pangenome\", \"schema\": \"pangenome\", \"table\": \"gtdb_metadata\", \"level\": \"INFO\", \"module\": \"run_referential_integrity_checks\", \"msg\": \"Checking foreign key: sample_id in pangenome.gtdb_metadata → sample_id in pangenome.sample\"}\n",
      "\n",
      "🔍 Checking FK `sample_id` in `pangenome.gtdb_metadata` → `sample_id` in `pangenome.sample`\n",
      "{\"time\": \"2025-07-10 05:19:49,963\", \"pipeline\": \"pangenome\", \"schema\": \"pangenome\", \"table\": \"gtdb_metadata\", \"level\": \"ERROR\", \"module\": \"run_referential_integrity_checks\", \"msg\": \"Column 'sample_id' not found in target table 'pangenome.gtdb_metadata'\"}\n",
      "❌ Column 'sample_id' not found in target table 'pangenome.gtdb_metadata'\n",
      "{\"time\": \"2025-07-10 05:19:49,964\", \"pipeline\": \"pangenome\", \"schema\": \"pangenome\", \"table\": \"gtdb_metadata\", \"level\": \"INFO\", \"module\": \"run_referential_integrity_checks\", \"msg\": \"Checking foreign key: ncbi_biosample in pangenome.gtdb_metadata → biosample_id in pangenome.ncbi_env\"}\n",
      "\n",
      "🔍 Checking FK `ncbi_biosample` in `pangenome.gtdb_metadata` → `biosample_id` in `pangenome.ncbi_env`\n",
      "{\"time\": \"2025-07-10 05:19:50,233\", \"pipeline\": \"pangenome\", \"schema\": \"pangenome\", \"table\": \"gtdb_metadata\", \"level\": \"ERROR\", \"module\": \"run_referential_integrity_checks\", \"msg\": \"Column 'biosample_id' not found in reference table 'pangenome.ncbi_env'\"}\n",
      "❌ Column 'biosample_id' not found in reference table 'pangenome.ncbi_env'\n",
      "{\"time\": \"2025-07-10 05:19:50,234\", \"pipeline\": \"pangenome\", \"schema\": \"pangenome\", \"table\": \"gtdb_metadata\", \"level\": \"WARNING\", \"module\": \"run_referential_integrity_checks\", \"msg\": \"Referential integrity check(s) failed.\"}\n",
      "\n",
      "❌ Some referential integrity checks failed.\n"
     ]
    },
    {
     "data": {
      "text/plain": [
       "False"
      ]
     },
     "execution_count": 4,
     "metadata": {},
     "output_type": "execute_result"
    }
   ],
   "source": [
    "# Referential integrity\n",
    "from src.run_referential_integrity_checks import run_referential_integrity_checks\n",
    "run_referential_integrity_checks(spark, loader, logger)"
   ]
  },
  {
   "cell_type": "code",
   "execution_count": 5,
   "id": "a53b1850",
   "metadata": {
    "scrolled": false
   },
   "outputs": [],
   "source": [
    "\n",
    "# Check TSV format\n",
    "#from src.input_file_validator import validate_input_files\n",
    "#validate_input_files(loader)\n",
    "\n",
    "\n",
    "\n",
    "\n",
    "\n",
    "\n",
    "\n",
    "#import importlib\n",
    "#import src.run_great_expectations_validations\n",
    "\n",
    "#importlib.reload(src.run_great_expectations_validations)\n",
    "\n",
    "\n"
   ]
  },
  {
   "cell_type": "code",
   "execution_count": 6,
   "id": "8d8585bf",
   "metadata": {},
   "outputs": [
    {
     "name": "stdout",
     "output_type": "stream",
     "text": [
      "{\"time\": \"2025-07-10 05:19:52,911\", \"pipeline\": \"pangenome\", \"schema\": \"pangenome\", \"table\": \"gtdb_metadata\", \"level\": \"DEBUG\", \"module\": \"config_loader\", \"msg\": \"Target table: pangenome.gtdb_metadata\"}\n",
      "{\"time\": \"2025-07-10 05:19:52,912\", \"pipeline\": \"pangenome\", \"schema\": \"pangenome\", \"table\": \"gtdb_metadata\", \"level\": \"INFO\", \"module\": \"run_great_expectations_validations\", \"msg\": \"Starting Great Expectations validation for table: pangenome.gtdb_metadata with suite: default_suite\"}\n",
      "{\"time\": \"2025-07-10 05:19:52,998\", \"pipeline\": \"pangenome\", \"schema\": \"pangenome\", \"table\": \"gtdb_metadata\", \"level\": \"INFO\", \"module\": \"run_great_expectations_validations\", \"msg\": \"Loaded Spark table: pangenome.gtdb_metadata\"}\n",
      "{\"time\": \"2025-07-10 05:19:53,184\", \"pipeline\": \"pangenome\", \"schema\": \"pangenome\", \"table\": \"gtdb_metadata\", \"level\": \"INFO\", \"module\": \"run_great_expectations_validations\", \"msg\": \"Great Expectations context initialized.\"}\n",
      "{\"time\": \"2025-07-10 05:19:53,207\", \"pipeline\": \"pangenome\", \"schema\": \"pangenome\", \"table\": \"gtdb_metadata\", \"level\": \"INFO\", \"module\": \"run_great_expectations_validations\", \"msg\": \"Expectation suite 'default_suite' added or updated.\"}\n",
      "{\"time\": \"2025-07-10 05:19:53,313\", \"pipeline\": \"pangenome\", \"schema\": \"pangenome\", \"table\": \"gtdb_metadata\", \"level\": \"INFO\", \"module\": \"run_great_expectations_validations\", \"msg\": \"Spark datasource registered in GE context.\"}\n",
      "{\"time\": \"2025-07-10 05:19:53,314\", \"pipeline\": \"pangenome\", \"schema\": \"pangenome\", \"table\": \"gtdb_metadata\", \"level\": \"DEBUG\", \"module\": \"run_great_expectations_validations\", \"msg\": \"Batch request created for data asset: pangenome_gtdb_metadata\"}\n",
      "{\"time\": \"2025-07-10 05:19:56,425\", \"pipeline\": \"pangenome\", \"schema\": \"pangenome\", \"table\": \"gtdb_metadata\", \"level\": \"INFO\", \"module\": \"run_great_expectations_validations\", \"msg\": \"Validator initialized for batch request.\"}\n",
      "{\"time\": \"2025-07-10 05:19:56,432\", \"pipeline\": \"pangenome\", \"schema\": \"pangenome\", \"table\": \"gtdb_metadata\", \"level\": \"DEBUG\", \"module\": \"run_great_expectations_validations\", \"msg\": \"Found 5 expectations to apply.\"}\n",
      "{\"time\": \"2025-07-10 05:19:56,432\", \"pipeline\": \"pangenome\", \"schema\": \"pangenome\", \"table\": \"gtdb_metadata\", \"level\": \"DEBUG\", \"module\": \"run_great_expectations_validations\", \"msg\": \"Loaded GE validations config: [{'expectation_type': 'expect_column_values_to_not_be_null', 'params': {'column': 'accession'}}, {'expectation_type': 'expect_column_values_to_match_regex', 'params': {'column': 'accession', 'regex': '^[A-Za-z0-9_.-]+$'}}, {'expectation_type': 'expect_column_values_to_be_between', 'params': {'column': 'checkm_completeness', 'min_value': 0, 'max_value': 100}}, {'expectation_type': 'expect_column_values_to_be_between', 'params': {'column': 'checkm_contamination', 'min_value': 0, 'max_value': 100}}, {'expectation_type': 'expect_column_to_exist', 'params': {'column': 'sample_id'}}]\"}\n"
     ]
    },
    {
     "data": {
      "application/vnd.jupyter.widget-view+json": {
       "model_id": "ac3b9f4770f9444697c870d4b5389b9d",
       "version_major": 2,
       "version_minor": 0
      },
      "text/plain": [
       "Calculating Metrics:   0%|          | 0/8 [00:00<?, ?it/s]"
      ]
     },
     "metadata": {},
     "output_type": "display_data"
    },
    {
     "name": "stdout",
     "output_type": "stream",
     "text": [
      "{\"time\": \"2025-07-10 05:20:02,216\", \"pipeline\": \"pangenome\", \"schema\": \"pangenome\", \"table\": \"gtdb_metadata\", \"level\": \"INFO\", \"module\": \"run_great_expectations_validations\", \"msg\": \"Applied GE expectation: expect_column_values_to_not_be_null with args {'column': 'accession'} → result: True\"}\n"
     ]
    },
    {
     "data": {
      "application/vnd.jupyter.widget-view+json": {
       "model_id": "48eb3192560c44dd9c4a6a86b3ce3f0c",
       "version_major": 2,
       "version_minor": 0
      },
      "text/plain": [
       "Calculating Metrics:   0%|          | 0/11 [00:00<?, ?it/s]"
      ]
     },
     "metadata": {},
     "output_type": "display_data"
    },
    {
     "name": "stdout",
     "output_type": "stream",
     "text": [
      "{\"time\": \"2025-07-10 05:20:02,661\", \"pipeline\": \"pangenome\", \"schema\": \"pangenome\", \"table\": \"gtdb_metadata\", \"level\": \"INFO\", \"module\": \"run_great_expectations_validations\", \"msg\": \"Applied GE expectation: expect_column_values_to_match_regex with args {'column': 'accession', 'regex': '^[A-Za-z0-9_.-]+$'} → result: True\"}\n"
     ]
    },
    {
     "data": {
      "application/vnd.jupyter.widget-view+json": {
       "model_id": "8b271bc751c647fe9d52c52a0a72364a",
       "version_major": 2,
       "version_minor": 0
      },
      "text/plain": [
       "Calculating Metrics:   0%|          | 0/11 [00:00<?, ?it/s]"
      ]
     },
     "metadata": {},
     "output_type": "display_data"
    },
    {
     "name": "stdout",
     "output_type": "stream",
     "text": [
      "{\"time\": \"2025-07-10 05:20:03,066\", \"pipeline\": \"pangenome\", \"schema\": \"pangenome\", \"table\": \"gtdb_metadata\", \"level\": \"INFO\", \"module\": \"run_great_expectations_validations\", \"msg\": \"Applied GE expectation: expect_column_values_to_be_between with args {'column': 'checkm_completeness', 'min_value': 0, 'max_value': 100} → result: True\"}\n"
     ]
    },
    {
     "data": {
      "application/vnd.jupyter.widget-view+json": {
       "model_id": "2bd5f24ca3b74c0cb31dcecb63ae4872",
       "version_major": 2,
       "version_minor": 0
      },
      "text/plain": [
       "Calculating Metrics:   0%|          | 0/11 [00:00<?, ?it/s]"
      ]
     },
     "metadata": {},
     "output_type": "display_data"
    },
    {
     "name": "stdout",
     "output_type": "stream",
     "text": [
      "{\"time\": \"2025-07-10 05:20:03,344\", \"pipeline\": \"pangenome\", \"schema\": \"pangenome\", \"table\": \"gtdb_metadata\", \"level\": \"INFO\", \"module\": \"run_great_expectations_validations\", \"msg\": \"Applied GE expectation: expect_column_values_to_be_between with args {'column': 'checkm_contamination', 'min_value': 0, 'max_value': 100} → result: True\"}\n"
     ]
    },
    {
     "data": {
      "application/vnd.jupyter.widget-view+json": {
       "model_id": "45a814385b4d40809751d84fd8b8f938",
       "version_major": 2,
       "version_minor": 0
      },
      "text/plain": [
       "Calculating Metrics:   0%|          | 0/2 [00:00<?, ?it/s]"
      ]
     },
     "metadata": {},
     "output_type": "display_data"
    },
    {
     "name": "stdout",
     "output_type": "stream",
     "text": [
      "{\"time\": \"2025-07-10 05:20:03,354\", \"pipeline\": \"pangenome\", \"schema\": \"pangenome\", \"table\": \"gtdb_metadata\", \"level\": \"INFO\", \"module\": \"run_great_expectations_validations\", \"msg\": \"Applied GE expectation: expect_column_to_exist with args {'column': 'sample_id'} → result: False\"}\n",
      "{\"time\": \"2025-07-10 05:20:03,383\", \"pipeline\": \"pangenome\", \"schema\": \"pangenome\", \"table\": \"gtdb_metadata\", \"level\": \"INFO\", \"module\": \"run_great_expectations_validations\", \"msg\": \"Expectations saved to suite.\"}\n"
     ]
    },
    {
     "data": {
      "application/vnd.jupyter.widget-view+json": {
       "model_id": "a5c33ee6f36d4457867c8c2288ac7b21",
       "version_major": 2,
       "version_minor": 0
      },
      "text/plain": [
       "Calculating Metrics:   0%|          | 0/26 [00:00<?, ?it/s]"
      ]
     },
     "metadata": {},
     "output_type": "display_data"
    },
    {
     "name": "stdout",
     "output_type": "stream",
     "text": [
      "{\"time\": \"2025-07-10 05:20:04,128\", \"pipeline\": \"pangenome\", \"schema\": \"pangenome\", \"table\": \"gtdb_metadata\", \"level\": \"INFO\", \"module\": \"run_great_expectations_validations\", \"msg\": \"Validation run completed.\"}\n",
      "{\"time\": \"2025-07-10 05:20:04,132\", \"pipeline\": \"pangenome\", \"schema\": \"pangenome\", \"table\": \"gtdb_metadata\", \"level\": \"DEBUG\", \"module\": \"run_great_expectations_validations\", \"msg\": \"Validation summary: {'success': False, 'successful_expectations': 4, 'unsuccessful_expectations': 1, 'success_percent': 80.0}\"}\n",
      "{\"time\": \"2025-07-10 05:20:05,786\", \"pipeline\": \"pangenome\", \"schema\": \"pangenome\", \"table\": \"gtdb_metadata\", \"level\": \"INFO\", \"module\": \"run_great_expectations_validations\", \"msg\": \"Data Docs built after validation.\"}\n"
     ]
    },
    {
     "data": {
      "application/vnd.jupyter.widget-view+json": {
       "model_id": "138acc6c440144a895337cb43fbea966",
       "version_major": 2,
       "version_minor": 0
      },
      "text/plain": [
       "Calculating Metrics:   0%|          | 0/34 [00:00<?, ?it/s]"
      ]
     },
     "metadata": {},
     "output_type": "display_data"
    },
    {
     "name": "stdout",
     "output_type": "stream",
     "text": [
      "{\"time\": \"2025-07-10 05:20:07,629\", \"pipeline\": \"pangenome\", \"schema\": \"pangenome\", \"table\": \"gtdb_metadata\", \"level\": \"INFO\", \"module\": \"run_great_expectations_validations\", \"msg\": \"Checkpoint executed.\"}\n",
      "{\"time\": \"2025-07-10 05:20:09,246\", \"pipeline\": \"pangenome\", \"schema\": \"pangenome\", \"table\": \"gtdb_metadata\", \"level\": \"INFO\", \"module\": \"run_great_expectations_validations\", \"msg\": \"Data Docs rebuilt with checkpoint results.\"}\n",
      "✅ GE validation and checkpoint complete. Data Docs generated.\n"
     ]
    }
   ],
   "source": [
    "# Great Expectations\n",
    "from src.run_great_expectations_validations import run_great_expectations_validation\n",
    "run_great_expectations_validation(spark, loader, logger)\n",
    "\n"
   ]
  },
  {
   "cell_type": "code",
   "execution_count": 7,
   "id": "b89f5279",
   "metadata": {},
   "outputs": [
    {
     "name": "stdout",
     "output_type": "stream",
     "text": [
      "✅ Uploaded log to MinIO at: s3://cdm-lake/logs/pangenome/pipeline_run_20250710_051923.log\n"
     ]
    }
   ],
   "source": [
    "# Upload log file to MinIO\n",
    "upload_to_minio(logger.log_file_path)"
   ]
  },
  {
   "cell_type": "code",
   "execution_count": null,
   "id": "e01ede48",
   "metadata": {},
   "outputs": [],
   "source": []
  }
 ],
 "metadata": {
  "kernelspec": {
   "display_name": "Python 3 (ipykernel)",
   "language": "python",
   "name": "python3"
  },
  "language_info": {
   "codemirror_mode": {
    "name": "ipython",
    "version": 3
   },
   "file_extension": ".py",
   "mimetype": "text/x-python",
   "name": "python",
   "nbconvert_exporter": "python",
   "pygments_lexer": "ipython3",
   "version": "3.10.11"
  }
 },
 "nbformat": 4,
 "nbformat_minor": 5
}
