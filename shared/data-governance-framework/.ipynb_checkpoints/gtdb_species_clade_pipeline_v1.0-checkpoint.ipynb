{
 "cells": [
  {
   "cell_type": "code",
   "execution_count": 1,
   "id": "09de6280",
   "metadata": {},
   "outputs": [
    {
     "name": "stdout",
     "output_type": "stream",
     "text": [
      "{\"time\": \"2025-07-09 03:53:08,384\", \"pipeline\": \"pangenome\", \"schema\": \"pangenome\", \"table\": \"gtdb_species_clade\", \"level\": \"INFO\", \"module\": \"927176468\", \"msg\": \"Notebook started\"}\n",
      "{\"time\": \"2025-07-09 03:53:08,397\", \"pipeline\": \"pangenome\", \"schema\": \"pangenome\", \"table\": \"gtdb_species_clade\", \"level\": \"INFO\", \"module\": \"config_loader\", \"msg\": \"ConfigLoader initialized for target table: gtdb_species_clade\"}\n",
      "{\"time\": \"2025-07-09 03:53:08,398\", \"pipeline\": \"pangenome\", \"schema\": \"pangenome\", \"table\": \"gtdb_species_clade\", \"level\": \"INFO\", \"module\": \"config_loader\", \"msg\": \"Resolved config path: s3a://cdm-lake/config-json/gtdb_species_clade.json\"}\n",
      "{\"time\": \"2025-07-09 03:53:08,399\", \"pipeline\": \"pangenome\", \"schema\": \"pangenome\", \"table\": \"gtdb_species_clade\", \"level\": \"INFO\", \"module\": \"config_loader\", \"msg\": \"Loading config from MinIO: bucket=cdm-lake, key=config-json/gtdb_species_clade.json\"}\n",
      "{\"time\": \"2025-07-09 03:53:08,626\", \"pipeline\": \"pangenome\", \"schema\": \"pangenome\", \"table\": \"gtdb_species_clade\", \"level\": \"INFO\", \"module\": \"config_loader\", \"msg\": \"Config loaded successfully from MinIO\"}\n",
      "{\"time\": \"2025-07-09 03:53:08,627\", \"pipeline\": \"pangenome\", \"schema\": \"pangenome\", \"table\": \"gtdb_species_clade\", \"level\": \"INFO\", \"module\": \"config_loader\", \"msg\": \"All required fields are present in the config\"}\n",
      "{\"time\": \"2025-07-09 03:53:08,628\", \"pipeline\": \"pangenome\", \"schema\": \"pangenome\", \"table\": \"gtdb_species_clade\", \"level\": \"DEBUG\", \"module\": \"config_loader\", \"msg\": \"Target table: pangenome.gtdb_species_clade\"}\n",
      "pangenome.gtdb_species_clade\n",
      "{\"time\": \"2025-07-09 03:53:08,954\", \"pipeline\": \"pangenome\", \"schema\": \"pangenome\", \"table\": \"gtdb_species_clade\", \"level\": \"INFO\", \"module\": \"spark_session\", \"msg\": \"Found 4 JARs in /home/jovyan/jars\"}\n",
      "{\"time\": \"2025-07-09 03:53:08,955\", \"pipeline\": \"pangenome\", \"schema\": \"pangenome\", \"table\": \"gtdb_species_clade\", \"level\": \"DEBUG\", \"module\": \"spark_session\", \"msg\": \"JARs: ['/home/jovyan/jars/aws-java-sdk-bundle-1.12.367.jar', '/home/jovyan/jars/delta-core_2.12-2.4.0.jar', '/home/jovyan/jars/delta-storage-2.4.0.jar', '/home/jovyan/jars/hadoop-aws-3.3.4.jar']\"}\n",
      "{\"time\": \"2025-07-09 03:53:08,956\", \"pipeline\": \"pangenome\", \"schema\": \"pangenome\", \"table\": \"gtdb_species_clade\", \"level\": \"INFO\", \"module\": \"spark_session\", \"msg\": \"Starting Spark session...\"}\n",
      "{\"time\": \"2025-07-09 03:53:13,772\", \"pipeline\": \"pangenome\", \"schema\": \"pangenome\", \"table\": \"gtdb_species_clade\", \"level\": \"INFO\", \"module\": \"spark_session\", \"msg\": \"Spark session started successfully\"}\n"
     ]
    }
   ],
   "source": [
    "import boto3\n",
    "import yaml\n",
    "from src.logger import setup_logger\n",
    "from src.minio_uploader import upload_to_minio\n",
    "\n",
    "# Set up logger\n",
    "pipeline_name = \"pangenome\"\n",
    "target_table = \"gtdb_species_clade\"\n",
    "schema = \"pangenome\"\n",
    "\n",
    "logger = setup_logger(\n",
    "    pipeline_name=pipeline_name,\n",
    "    target_table=target_table,\n",
    "    schema=schema\n",
    ")\n",
    "\n",
    "logger.info(\"Notebook started\")\n",
    "\n",
    "from config.config_loader import ConfigLoader\n",
    "\n",
    "# Path to config file in MinIO\n",
    "config_path = \"gtdb_species_clade\"\n",
    "\n",
    "# Load config\n",
    "loader = ConfigLoader(config_path, logger)\n",
    "loader.load_and_validate()\n",
    "\n",
    "# (Optional) Print something\n",
    "print(loader.get_target_table())\n",
    "\n",
    "# Start Spark\n",
    "from src.spark_session import start_spark_session\n",
    "spark = start_spark_session(logger=logger)"
   ]
  },
  {
   "cell_type": "code",
   "execution_count": null,
   "id": "a53b1850",
   "metadata": {
    "scrolled": false
   },
   "outputs": [
    {
     "name": "stdout",
     "output_type": "stream",
     "text": [
      "{\"time\": \"2025-07-09 03:53:17,737\", \"pipeline\": \"pangenome\", \"schema\": \"pangenome\", \"table\": \"gtdb_species_clade\", \"level\": \"DEBUG\", \"module\": \"config_loader\", \"msg\": \"Input files: [{'source': 'GTDB', 'file_path': 's3a://cdm-lake/bronze/gtdb/sp_clusters_r214.tsv', 'file_type': 'tsv', 'delimiter': '\\t', 'ignore_first_line': 'no'}, {'source': 'NCBI', 'file_path': 's3a://cdm-lake/bronze/ncbi/assembly_summary_genbank.txt', 'file_type': 'tsv', 'delimiter': '\\t', 'ignore_first_line': 'yes'}]\"}\n",
      "{\"time\": \"2025-07-09 03:53:17,737\", \"pipeline\": \"pangenome\", \"schema\": \"pangenome\", \"table\": \"gtdb_species_clade\", \"level\": \"INFO\", \"module\": \"input_file_validator\", \"msg\": \"Starting input file validation...\"}\n",
      "Validating input files...\n",
      "\n",
      "{\"time\": \"2025-07-09 03:53:17,743\", \"pipeline\": \"pangenome\", \"schema\": \"pangenome\", \"table\": \"gtdb_species_clade\", \"level\": \"INFO\", \"module\": \"input_file_validator\", \"msg\": \"Checking file: s3a://cdm-lake/bronze/gtdb/sp_clusters_r214.tsv\"}\n",
      "🔍 Checking: s3a://cdm-lake/bronze/gtdb/sp_clusters_r214.tsv\n",
      "{\"time\": \"2025-07-09 03:53:17,750\", \"pipeline\": \"pangenome\", \"schema\": \"pangenome\", \"table\": \"gtdb_species_clade\", \"level\": \"INFO\", \"module\": \"input_file_validator\", \"msg\": \"File exists: s3://cdm-lake/bronze/gtdb/sp_clusters_r214.tsv\"}\n",
      "✅ File exists\n",
      "{\"time\": \"2025-07-09 03:53:17,884\", \"pipeline\": \"pangenome\", \"schema\": \"pangenome\", \"table\": \"gtdb_species_clade\", \"level\": \"DEBUG\", \"module\": \"input_file_validator\", \"msg\": \"Line 1: Tab-delimited\"}\n",
      "   ✅ Line 1: Tab-delimited\n",
      "{\"time\": \"2025-07-09 03:53:17,885\", \"pipeline\": \"pangenome\", \"schema\": \"pangenome\", \"table\": \"gtdb_species_clade\", \"level\": \"DEBUG\", \"module\": \"input_file_validator\", \"msg\": \"Line 2: Tab-delimited\"}\n",
      "   ✅ Line 2: Tab-delimited\n",
      "{\"time\": \"2025-07-09 03:53:17,886\", \"pipeline\": \"pangenome\", \"schema\": \"pangenome\", \"table\": \"gtdb_species_clade\", \"level\": \"DEBUG\", \"module\": \"input_file_validator\", \"msg\": \"Line 3: Tab-delimited\"}\n",
      "   ✅ Line 3: Tab-delimited\n",
      "{\"time\": \"2025-07-09 03:53:17,887\", \"pipeline\": \"pangenome\", \"schema\": \"pangenome\", \"table\": \"gtdb_species_clade\", \"level\": \"DEBUG\", \"module\": \"input_file_validator\", \"msg\": \"Line 4: Tab-delimited\"}\n",
      "   ✅ Line 4: Tab-delimited\n",
      "{\"time\": \"2025-07-09 03:53:17,887\", \"pipeline\": \"pangenome\", \"schema\": \"pangenome\", \"table\": \"gtdb_species_clade\", \"level\": \"DEBUG\", \"module\": \"input_file_validator\", \"msg\": \"Line 5: Tab-delimited\"}\n",
      "   ✅ Line 5: Tab-delimited\n",
      "\n",
      "{\"time\": \"2025-07-09 03:53:17,888\", \"pipeline\": \"pangenome\", \"schema\": \"pangenome\", \"table\": \"gtdb_species_clade\", \"level\": \"INFO\", \"module\": \"input_file_validator\", \"msg\": \"Checking file: s3a://cdm-lake/bronze/ncbi/assembly_summary_genbank.txt\"}\n",
      "🔍 Checking: s3a://cdm-lake/bronze/ncbi/assembly_summary_genbank.txt\n",
      "{\"time\": \"2025-07-09 03:53:17,894\", \"pipeline\": \"pangenome\", \"schema\": \"pangenome\", \"table\": \"gtdb_species_clade\", \"level\": \"INFO\", \"module\": \"input_file_validator\", \"msg\": \"File exists: s3://cdm-lake/bronze/ncbi/assembly_summary_genbank.txt\"}\n",
      "✅ File exists\n"
     ]
    }
   ],
   "source": [
    "\n",
    "\n",
    "\n",
    "# Check schema headers\n",
    "from src.validate_schema import validate_schema_against_file\n",
    "validate_schema_against_file(loader, logger)\n",
    "\n",
    "\n",
    "# Check TSV format\n",
    "#from src.input_file_validator import validate_input_files\n",
    "#validate_input_files(loader)\n",
    "\n",
    "# Run validations\n",
    "from src.run_validations import run_validations_from_config\n",
    "run_validations_from_config(loader, logger)\n",
    "\n",
    "\n",
    "# Referential integrity\n",
    "from src.run_referential_integrity_checks import run_referential_integrity_checks\n",
    "run_referential_integrity_checks(spark, loader, logger)\n",
    "\n",
    "\n",
    "#import importlib\n",
    "#import src.run_great_expectations_validations\n",
    "\n",
    "#importlib.reload(src.run_great_expectations_validations)\n",
    "\n",
    "\n"
   ]
  },
  {
   "cell_type": "code",
   "execution_count": null,
   "id": "8d8585bf",
   "metadata": {},
   "outputs": [],
   "source": [
    "# Great Expectations\n",
    "from src.run_great_expectations_validations import run_great_expectations_validation\n",
    "run_great_expectations_validation(spark, loader, logger)\n",
    "\n",
    "\n",
    "# Upload log file to MinIO\n",
    "upload_to_minio(logger.log_file_path)"
   ]
  },
  {
   "cell_type": "code",
   "execution_count": null,
   "id": "b89f5279",
   "metadata": {},
   "outputs": [],
   "source": []
  }
 ],
 "metadata": {
  "kernelspec": {
   "display_name": "Python 3 (ipykernel)",
   "language": "python",
   "name": "python3"
  },
  "language_info": {
   "codemirror_mode": {
    "name": "ipython",
    "version": 3
   },
   "file_extension": ".py",
   "mimetype": "text/x-python",
   "name": "python",
   "nbconvert_exporter": "python",
   "pygments_lexer": "ipython3",
   "version": "3.10.11"
  }
 },
 "nbformat": 4,
 "nbformat_minor": 5
}
