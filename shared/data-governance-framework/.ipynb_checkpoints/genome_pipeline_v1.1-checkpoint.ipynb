{
 "cells": [
  {
   "cell_type": "code",
   "execution_count": 1,
   "id": "6d803101",
   "metadata": {},
   "outputs": [
    {
     "name": "stdout",
     "output_type": "stream",
     "text": [
      "{\"time\": \"2025-07-07 04:50:59,138\", \"pipeline\": \"pangenome\", \"schema\": \"pangenome\", \"table\": \"genome\", \"level\": \"INFO\", \"module\": \"3421723309\", \"msg\": \"Notebook started\"}\n",
      "{\"time\": \"2025-07-07 04:50:59,149\", \"pipeline\": \"pangenome\", \"schema\": \"pangenome\", \"table\": \"genome\", \"level\": \"INFO\", \"module\": \"config_loader\", \"msg\": \"ConfigLoader initialized for target table: genome\"}\n",
      "{\"time\": \"2025-07-07 04:50:59,150\", \"pipeline\": \"pangenome\", \"schema\": \"pangenome\", \"table\": \"genome\", \"level\": \"INFO\", \"module\": \"config_loader\", \"msg\": \"Resolved config path: s3a://cdm-lake/config-json/genome.json\"}\n",
      "{\"time\": \"2025-07-07 04:50:59,151\", \"pipeline\": \"pangenome\", \"schema\": \"pangenome\", \"table\": \"genome\", \"level\": \"INFO\", \"module\": \"config_loader\", \"msg\": \"Loading config from MinIO: bucket=cdm-lake, key=config-json/genome.json\"}\n",
      "{\"time\": \"2025-07-07 04:50:59,335\", \"pipeline\": \"pangenome\", \"schema\": \"pangenome\", \"table\": \"genome\", \"level\": \"INFO\", \"module\": \"config_loader\", \"msg\": \"Config loaded successfully from MinIO\"}\n",
      "{\"time\": \"2025-07-07 04:50:59,336\", \"pipeline\": \"pangenome\", \"schema\": \"pangenome\", \"table\": \"genome\", \"level\": \"INFO\", \"module\": \"config_loader\", \"msg\": \"All required fields are present in the config\"}\n",
      "{\"time\": \"2025-07-07 04:50:59,336\", \"pipeline\": \"pangenome\", \"schema\": \"pangenome\", \"table\": \"genome\", \"level\": \"DEBUG\", \"module\": \"config_loader\", \"msg\": \"Target table: pangenome.genome\"}\n",
      "pangenome.genome\n",
      "{\"time\": \"2025-07-07 04:50:59,624\", \"pipeline\": \"pangenome\", \"schema\": \"pangenome\", \"table\": \"genome\", \"level\": \"INFO\", \"module\": \"spark_session\", \"msg\": \"Found 4 JARs in /home/jovyan/jars\"}\n",
      "{\"time\": \"2025-07-07 04:50:59,625\", \"pipeline\": \"pangenome\", \"schema\": \"pangenome\", \"table\": \"genome\", \"level\": \"DEBUG\", \"module\": \"spark_session\", \"msg\": \"JARs: ['/home/jovyan/jars/aws-java-sdk-bundle-1.12.367.jar', '/home/jovyan/jars/delta-core_2.12-2.4.0.jar', '/home/jovyan/jars/delta-storage-2.4.0.jar', '/home/jovyan/jars/hadoop-aws-3.3.4.jar']\"}\n",
      "{\"time\": \"2025-07-07 04:50:59,626\", \"pipeline\": \"pangenome\", \"schema\": \"pangenome\", \"table\": \"genome\", \"level\": \"INFO\", \"module\": \"spark_session\", \"msg\": \"Starting Spark session...\"}\n",
      "{\"time\": \"2025-07-07 04:51:03,867\", \"pipeline\": \"pangenome\", \"schema\": \"pangenome\", \"table\": \"genome\", \"level\": \"INFO\", \"module\": \"spark_session\", \"msg\": \"Spark session started successfully\"}\n",
      "{\"time\": \"2025-07-07 04:51:03,878\", \"pipeline\": \"pangenome\", \"schema\": \"pangenome\", \"table\": \"genome\", \"level\": \"DEBUG\", \"module\": \"config_loader\", \"msg\": \"Input files: [{'source': 'GTDB', 'file_path': 's3a://cdm-lake/bronze/gtdb/sp_clusters_r214.tsv', 'file_type': 'tsv', 'delimiter': '\\t', 'ignore_first_line': 'no'}, {'source': 'NCBI', 'file_path': 's3a://cdm-lake/bronze/ncbi/assembly_summary_genbank.txt', 'file_type': 'tsv', 'delimiter': '\\t', 'ignore_first_line': 'yes'}]\"}\n",
      "{\"time\": \"2025-07-07 04:51:03,878\", \"pipeline\": \"pangenome\", \"schema\": \"pangenome\", \"table\": \"genome\", \"level\": \"INFO\", \"module\": \"input_file_validator\", \"msg\": \"Starting input file validation...\"}\n",
      "Validating input files...\n",
      "\n",
      "{\"time\": \"2025-07-07 04:51:03,884\", \"pipeline\": \"pangenome\", \"schema\": \"pangenome\", \"table\": \"genome\", \"level\": \"INFO\", \"module\": \"input_file_validator\", \"msg\": \"Checking file: s3a://cdm-lake/bronze/gtdb/sp_clusters_r214.tsv\"}\n",
      "🔍 Checking: s3a://cdm-lake/bronze/gtdb/sp_clusters_r214.tsv\n",
      "{\"time\": \"2025-07-07 04:51:03,892\", \"pipeline\": \"pangenome\", \"schema\": \"pangenome\", \"table\": \"genome\", \"level\": \"INFO\", \"module\": \"input_file_validator\", \"msg\": \"File exists: s3://cdm-lake/bronze/gtdb/sp_clusters_r214.tsv\"}\n",
      "✅ File exists\n",
      "{\"time\": \"2025-07-07 04:51:03,998\", \"pipeline\": \"pangenome\", \"schema\": \"pangenome\", \"table\": \"genome\", \"level\": \"DEBUG\", \"module\": \"input_file_validator\", \"msg\": \"Line 1: Tab-delimited\"}\n",
      "   ✅ Line 1: Tab-delimited\n",
      "{\"time\": \"2025-07-07 04:51:03,999\", \"pipeline\": \"pangenome\", \"schema\": \"pangenome\", \"table\": \"genome\", \"level\": \"DEBUG\", \"module\": \"input_file_validator\", \"msg\": \"Line 2: Tab-delimited\"}\n",
      "   ✅ Line 2: Tab-delimited\n",
      "{\"time\": \"2025-07-07 04:51:04,000\", \"pipeline\": \"pangenome\", \"schema\": \"pangenome\", \"table\": \"genome\", \"level\": \"DEBUG\", \"module\": \"input_file_validator\", \"msg\": \"Line 3: Tab-delimited\"}\n",
      "   ✅ Line 3: Tab-delimited\n",
      "{\"time\": \"2025-07-07 04:51:04,000\", \"pipeline\": \"pangenome\", \"schema\": \"pangenome\", \"table\": \"genome\", \"level\": \"DEBUG\", \"module\": \"input_file_validator\", \"msg\": \"Line 4: Tab-delimited\"}\n",
      "   ✅ Line 4: Tab-delimited\n",
      "{\"time\": \"2025-07-07 04:51:04,001\", \"pipeline\": \"pangenome\", \"schema\": \"pangenome\", \"table\": \"genome\", \"level\": \"DEBUG\", \"module\": \"input_file_validator\", \"msg\": \"Line 5: Tab-delimited\"}\n",
      "   ✅ Line 5: Tab-delimited\n",
      "\n",
      "{\"time\": \"2025-07-07 04:51:04,001\", \"pipeline\": \"pangenome\", \"schema\": \"pangenome\", \"table\": \"genome\", \"level\": \"INFO\", \"module\": \"input_file_validator\", \"msg\": \"Checking file: s3a://cdm-lake/bronze/ncbi/assembly_summary_genbank.txt\"}\n",
      "🔍 Checking: s3a://cdm-lake/bronze/ncbi/assembly_summary_genbank.txt\n",
      "{\"time\": \"2025-07-07 04:51:04,007\", \"pipeline\": \"pangenome\", \"schema\": \"pangenome\", \"table\": \"genome\", \"level\": \"INFO\", \"module\": \"input_file_validator\", \"msg\": \"File exists: s3://cdm-lake/bronze/ncbi/assembly_summary_genbank.txt\"}\n",
      "✅ File exists\n",
      "{\"time\": \"2025-07-07 04:51:51,228\", \"pipeline\": \"pangenome\", \"schema\": \"pangenome\", \"table\": \"genome\", \"level\": \"DEBUG\", \"module\": \"input_file_validator\", \"msg\": \"Line 2: Tab-delimited\"}\n",
      "   ✅ Line 2: Tab-delimited\n",
      "{\"time\": \"2025-07-07 04:51:51,323\", \"pipeline\": \"pangenome\", \"schema\": \"pangenome\", \"table\": \"genome\", \"level\": \"DEBUG\", \"module\": \"input_file_validator\", \"msg\": \"Line 3: Tab-delimited\"}\n",
      "   ✅ Line 3: Tab-delimited\n",
      "{\"time\": \"2025-07-07 04:51:51,330\", \"pipeline\": \"pangenome\", \"schema\": \"pangenome\", \"table\": \"genome\", \"level\": \"DEBUG\", \"module\": \"input_file_validator\", \"msg\": \"Line 4: Tab-delimited\"}\n",
      "   ✅ Line 4: Tab-delimited\n",
      "{\"time\": \"2025-07-07 04:51:51,331\", \"pipeline\": \"pangenome\", \"schema\": \"pangenome\", \"table\": \"genome\", \"level\": \"DEBUG\", \"module\": \"input_file_validator\", \"msg\": \"Line 5: Tab-delimited\"}\n",
      "   ✅ Line 5: Tab-delimited\n",
      "{\"time\": \"2025-07-07 04:51:51,333\", \"pipeline\": \"pangenome\", \"schema\": \"pangenome\", \"table\": \"genome\", \"level\": \"DEBUG\", \"module\": \"input_file_validator\", \"msg\": \"Line 6: Tab-delimited\"}\n",
      "   ✅ Line 6: Tab-delimited\n",
      "\n",
      "{\"time\": \"2025-07-07 04:52:02,103\", \"pipeline\": \"pangenome\", \"schema\": \"pangenome\", \"table\": \"genome\", \"level\": \"INFO\", \"module\": \"validate_schema\", \"msg\": \"Starting schema vs. file validation\"}\n",
      "{\"time\": \"2025-07-07 04:52:02,257\", \"pipeline\": \"pangenome\", \"schema\": \"pangenome\", \"table\": \"genome\", \"level\": \"DEBUG\", \"module\": \"config_loader\", \"msg\": \"Output file: {'output_file_path': 's3a://cdm-lake/pangenome-source/table_genome_V1.1.tsv', 'file_type': 'tsv', 'delimiter': '\\t', 'ignore_first_line': 'no'}\"}\n",
      "{\"time\": \"2025-07-07 04:52:02,259\", \"pipeline\": \"pangenome\", \"schema\": \"pangenome\", \"table\": \"genome\", \"level\": \"INFO\", \"module\": \"validate_schema\", \"msg\": \"Output file: s3a://cdm-lake/pangenome-source/table_genome_V1.1.tsv\"}\n",
      "{\"time\": \"2025-07-07 04:52:02,260\", \"pipeline\": \"pangenome\", \"schema\": \"pangenome\", \"table\": \"genome\", \"level\": \"DEBUG\", \"module\": \"validate_schema\", \"msg\": \"Delimiter: \t, Ignore first line: False\"}\n",
      "{\"time\": \"2025-07-07 04:52:02,924\", \"pipeline\": \"pangenome\", \"schema\": \"pangenome\", \"table\": \"genome\", \"level\": \"INFO\", \"module\": \"validate_schema\", \"msg\": \"Header columns successfully extracted from output file\"}\n",
      "{\"time\": \"2025-07-07 04:52:02,925\", \"pipeline\": \"pangenome\", \"schema\": \"pangenome\", \"table\": \"genome\", \"level\": \"DEBUG\", \"module\": \"validate_schema\", \"msg\": \"Header columns: ['genome_id', 'gtdb_species_clade_id', 'gtdb_taxonomy_id', 'ncbi_biosample_id', 'fna_file_path_nersc', 'faa_file_path_nersc']\"}\n",
      "{\"time\": \"2025-07-07 04:52:02,926\", \"pipeline\": \"pangenome\", \"schema\": \"pangenome\", \"table\": \"genome\", \"level\": \"DEBUG\", \"module\": \"config_loader\", \"msg\": \"Schema file path: s3a://cdm-lake/schemas/pangenome-schema.yaml\"}\n",
      "{\"time\": \"2025-07-07 04:52:02,927\", \"pipeline\": \"pangenome\", \"schema\": \"pangenome\", \"table\": \"genome\", \"level\": \"INFO\", \"module\": \"validate_schema\", \"msg\": \"Schema file: s3a://cdm-lake/schemas/pangenome-schema.yaml\"}\n",
      "{\"time\": \"2025-07-07 04:52:02,995\", \"pipeline\": \"pangenome\", \"schema\": \"pangenome\", \"table\": \"genome\", \"level\": \"INFO\", \"module\": \"validate_schema\", \"msg\": \"Schema loaded successfully\"}\n"
     ]
    },
    {
     "name": "stdout",
     "output_type": "stream",
     "text": [
      "{\"time\": \"2025-07-07 04:52:02,997\", \"pipeline\": \"pangenome\", \"schema\": \"pangenome\", \"table\": \"genome\", \"level\": \"DEBUG\", \"module\": \"validate_schema\", \"msg\": \"Schema columns: ['genome_id', 'gtdb_taxonomy_id', 'gtdb_species_clade_id', 'ncbi_biosample_id', 'fna_file_path_nersc', 'faa_file_path_nersc']\"}\n",
      "{\"time\": \"2025-07-07 04:52:02,997\", \"pipeline\": \"pangenome\", \"schema\": \"pangenome\", \"table\": \"genome\", \"level\": \"INFO\", \"module\": \"validate_schema\", \"msg\": \"Comparison between schema and file header completed\"}\n",
      "{\"time\": \"2025-07-07 04:52:02,998\", \"pipeline\": \"pangenome\", \"schema\": \"pangenome\", \"table\": \"genome\", \"level\": \"INFO\", \"module\": \"validate_schema\", \"msg\": \"All schema columns are present in the file\"}\n",
      "{\"time\": \"2025-07-07 04:52:02,998\", \"pipeline\": \"pangenome\", \"schema\": \"pangenome\", \"table\": \"genome\", \"level\": \"INFO\", \"module\": \"validate_schema\", \"msg\": \"No extra columns in the file\"}\n",
      "🔹 Header columns from file:\n",
      "['genome_id', 'gtdb_species_clade_id', 'gtdb_taxonomy_id', 'ncbi_biosample_id', 'fna_file_path_nersc', 'faa_file_path_nersc']\n",
      "\n",
      "✅ Columns in genome schema:\n",
      "['genome_id', 'gtdb_taxonomy_id', 'gtdb_species_clade_id', 'ncbi_biosample_id', 'fna_file_path_nersc', 'faa_file_path_nersc']\n",
      "\n",
      "🔍 Comparison results:\n",
      "✅ All schema columns are present in file\n",
      "✅ No extra columns in file\n",
      "✅ Uploaded log to MinIO at: s3://cdm-lake/logs/pangenome/pipeline_run_20250707_045059.log\n"
     ]
    }
   ],
   "source": [
    "import boto3\n",
    "import yaml\n",
    "from src.logger import setup_logger\n",
    "from src.minio_uploader import upload_to_minio\n",
    "\n",
    "# Set up logger\n",
    "pipeline_name = \"pangenome\"\n",
    "target_table = \"genome\"\n",
    "schema = \"pangenome\"\n",
    "\n",
    "logger = setup_logger(\n",
    "    pipeline_name=pipeline_name,\n",
    "    target_table=target_table,\n",
    "    schema=schema\n",
    ")\n",
    "\n",
    "logger.info(\"Notebook started\")\n",
    "\n",
    "from config.config_loader import ConfigLoader\n",
    "\n",
    "# Path to config file in MinIO\n",
    "config_path = \"genome\"\n",
    "\n",
    "# Load config\n",
    "loader = ConfigLoader(config_path, logger)\n",
    "loader.load_and_validate()\n",
    "\n",
    "# (Optional) Print something\n",
    "print(loader.get_target_table())\n",
    "\n",
    "\n",
    "\n",
    "# Start Spark\n",
    "from src.spark_session import start_spark_session\n",
    "spark = start_spark_session(logger=logger)\n",
    "\n",
    "\n",
    "\n",
    "# Validate input files\n",
    "from src.input_file_validator import validate_input_files\n",
    "validate_input_files(loader, logger)\n",
    "\n",
    "\n",
    "# Check schema headers\n",
    "from src.validate_schema import validate_schema_against_file\n",
    "validate_schema_against_file(loader, logger)\n",
    "\n",
    "# Upload log file to MinIO\n",
    "upload_to_minio(logger.log_file_path)"
   ]
  },
  {
   "cell_type": "code",
   "execution_count": null,
   "id": "0c475254",
   "metadata": {},
   "outputs": [],
   "source": [
    "# Check TSV format\n",
    "from src.input_file_validator import validate_input_files\n",
    "validate_input_files(loader)"
   ]
  },
  {
   "cell_type": "code",
   "execution_count": null,
   "id": "c61bede2",
   "metadata": {},
   "outputs": [],
   "source": [
    "# Run validations\n",
    "from src.run_validations import run_validations_from_config\n",
    "run_validations_from_config(loader)"
   ]
  },
  {
   "cell_type": "code",
   "execution_count": null,
   "id": "767b5343",
   "metadata": {},
   "outputs": [],
   "source": [
    "# Referential integrity\n",
    "from src.run_referential_integrity_checks import run_referential_integrity_checks\n",
    "run_referential_integrity_checks(spark, loader)"
   ]
  },
  {
   "cell_type": "code",
   "execution_count": null,
   "id": "fcf6183a",
   "metadata": {},
   "outputs": [],
   "source": [
    "import importlib\n",
    "import src.run_great_expectations_validations\n",
    "\n",
    "importlib.reload(src.run_great_expectations_validations)"
   ]
  },
  {
   "cell_type": "code",
   "execution_count": null,
   "id": "5e5b0596",
   "metadata": {},
   "outputs": [],
   "source": [
    "# Great Expectations\n",
    "from src.run_great_expectations_validations import run_great_expectations_validation\n",
    "run_great_expectations_validation(spark, loader)\n"
   ]
  },
  {
   "cell_type": "code",
   "execution_count": null,
   "id": "b89f5279",
   "metadata": {},
   "outputs": [],
   "source": []
  }
 ],
 "metadata": {
  "kernelspec": {
   "display_name": "Python 3 (ipykernel)",
   "language": "python",
   "name": "python3"
  },
  "language_info": {
   "codemirror_mode": {
    "name": "ipython",
    "version": 3
   },
   "file_extension": ".py",
   "mimetype": "text/x-python",
   "name": "python",
   "nbconvert_exporter": "python",
   "pygments_lexer": "ipython3",
   "version": "3.10.11"
  }
 },
 "nbformat": 4,
 "nbformat_minor": 5
}
