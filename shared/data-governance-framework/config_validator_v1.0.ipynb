{
 "cells": [
  {
   "cell_type": "code",
   "execution_count": 1,
   "id": "7df81042",
   "metadata": {},
   "outputs": [
    {
     "name": "stdout",
     "output_type": "stream",
     "text": [
      "{\"time\": \"2025-07-17 19:25:41,898\", \"pipeline\": \"pangenome\", \"schema\": \"pangenome\", \"table\": \"genome_copy1\", \"level\": \"INFO\", \"module\": \"1679741703\", \"msg\": \"Notebook started\"}\n"
     ]
    }
   ],
   "source": [
    "import boto3\n",
    "import yaml\n",
    "from src.logger import setup_logger\n",
    "from src.minio_uploader import upload_to_minio\n",
    "\n",
    "# Set up logger\n",
    "pipeline_name = \"pangenome\"\n",
    "target_table = \"genome_copy1\"\n",
    "schema = \"pangenome\"\n",
    "\n",
    "logger = setup_logger(\n",
    "    pipeline_name=pipeline_name,\n",
    "    target_table=target_table,\n",
    "    schema=schema\n",
    ")\n",
    "\n",
    "logger.info(\"Notebook started\")"
   ]
  },
  {
   "cell_type": "code",
   "execution_count": 2,
   "id": "eb077012",
   "metadata": {},
   "outputs": [
    {
     "name": "stdout",
     "output_type": "stream",
     "text": [
      "{\"time\": \"2025-07-17 19:25:42,591\", \"pipeline\": \"pangenome\", \"schema\": \"pangenome\", \"table\": \"genome_copy1\", \"level\": \"INFO\", \"module\": \"config_loader\", \"msg\": \"ConfigLoader initialized for target table: genome_copy1\"}\n",
      "{\"time\": \"2025-07-17 19:25:42,591\", \"pipeline\": \"pangenome\", \"schema\": \"pangenome\", \"table\": \"genome_copy1\", \"level\": \"INFO\", \"module\": \"config_loader\", \"msg\": \"Resolved config path: s3a://cdm-lake/config-json/genome_copy1.json\"}\n",
      "{\"time\": \"2025-07-17 19:25:42,593\", \"pipeline\": \"pangenome\", \"schema\": \"pangenome\", \"table\": \"genome_copy1\", \"level\": \"INFO\", \"module\": \"config_loader\", \"msg\": \"Loading config from MinIO: bucket=cdm-lake, key=config-json/genome_copy1.json\"}\n",
      "{\"time\": \"2025-07-17 19:25:42,686\", \"pipeline\": \"pangenome\", \"schema\": \"pangenome\", \"table\": \"genome_copy1\", \"level\": \"INFO\", \"module\": \"config_loader\", \"msg\": \"Config loaded successfully from MinIO\"}\n",
      "{\"time\": \"2025-07-17 19:25:42,687\", \"pipeline\": \"pangenome\", \"schema\": \"pangenome\", \"table\": \"genome_copy1\", \"level\": \"DEBUG\", \"module\": \"config_loader\", \"msg\": \"Full config returned\"}\n",
      "{\"time\": \"2025-07-17 19:25:42,698\", \"pipeline\": \"pangenome\", \"schema\": \"pangenome\", \"table\": \"genome_copy1\", \"level\": \"INFO\", \"module\": \"json_schema_validator\", \"msg\": \"Config passed JSON schema validation.\"}\n",
      "{\"time\": \"2025-07-17 19:25:42,699\", \"pipeline\": \"pangenome\", \"schema\": \"pangenome\", \"table\": \"genome_copy1\", \"level\": \"INFO\", \"module\": \"validate_schema\", \"msg\": \"Starting schema vs. file validation\"}\n",
      "{\"time\": \"2025-07-17 19:25:42,702\", \"pipeline\": \"pangenome\", \"schema\": \"pangenome\", \"table\": \"genome_copy1\", \"level\": \"DEBUG\", \"module\": \"config_loader\", \"msg\": \"Output file: {'output_file_path': 's3a://cdm-lake/pangenome-source/table_genome_V1.1.tsv', 'file_type': 'tsv', 'delimiter': '\\t', 'ignore_first_line': 'no'}\"}\n",
      "{\"time\": \"2025-07-17 19:25:42,703\", \"pipeline\": \"pangenome\", \"schema\": \"pangenome\", \"table\": \"genome_copy1\", \"level\": \"INFO\", \"module\": \"validate_schema\", \"msg\": \"Output file: s3a://cdm-lake/pangenome-source/table_genome_V1.1.tsv\"}\n",
      "{\"time\": \"2025-07-17 19:25:42,704\", \"pipeline\": \"pangenome\", \"schema\": \"pangenome\", \"table\": \"genome_copy1\", \"level\": \"DEBUG\", \"module\": \"validate_schema\", \"msg\": \"Delimiter: \t, Ignore first line: False\"}\n",
      "{\"time\": \"2025-07-17 19:25:42,715\", \"pipeline\": \"pangenome\", \"schema\": \"pangenome\", \"table\": \"genome_copy1\", \"level\": \"INFO\", \"module\": \"validate_schema\", \"msg\": \"Header columns successfully extracted from output file\"}\n",
      "{\"time\": \"2025-07-17 19:25:42,715\", \"pipeline\": \"pangenome\", \"schema\": \"pangenome\", \"table\": \"genome_copy1\", \"level\": \"DEBUG\", \"module\": \"validate_schema\", \"msg\": \"Header columns: ['genome_id', 'gtdb_species_clade_id', 'gtdb_taxonomy_id', 'ncbi_biosample_id', 'fna_file_path_nersc', 'faa_file_path_nersc']\"}\n",
      "{\"time\": \"2025-07-17 19:25:42,716\", \"pipeline\": \"pangenome\", \"schema\": \"pangenome\", \"table\": \"genome_copy1\", \"level\": \"DEBUG\", \"module\": \"config_loader\", \"msg\": \"Schema file path: s3a://cdm-lake/schemas/pangenome-schema.yaml\"}\n",
      "{\"time\": \"2025-07-17 19:25:42,716\", \"pipeline\": \"pangenome\", \"schema\": \"pangenome\", \"table\": \"genome_copy1\", \"level\": \"INFO\", \"module\": \"validate_schema\", \"msg\": \"Schema file: s3a://cdm-lake/schemas/pangenome-schema.yaml\"}\n",
      "{\"time\": \"2025-07-17 19:25:42,735\", \"pipeline\": \"pangenome\", \"schema\": \"pangenome\", \"table\": \"genome_copy1\", \"level\": \"DEBUG\", \"module\": \"config_loader\", \"msg\": \"Target table: pangenome.genome\"}\n",
      "{\"time\": \"2025-07-17 19:25:42,735\", \"pipeline\": \"pangenome\", \"schema\": \"pangenome\", \"table\": \"genome_copy1\", \"level\": \"INFO\", \"module\": \"validate_schema\", \"msg\": \"Derived schema class name: genome\"}\n",
      "{\"time\": \"2025-07-17 19:25:42,736\", \"pipeline\": \"pangenome\", \"schema\": \"pangenome\", \"table\": \"genome_copy1\", \"level\": \"INFO\", \"module\": \"validate_schema\", \"msg\": \"Schema loaded and class found successfully\"}\n",
      "{\"time\": \"2025-07-17 19:25:42,737\", \"pipeline\": \"pangenome\", \"schema\": \"pangenome\", \"table\": \"genome_copy1\", \"level\": \"DEBUG\", \"module\": \"validate_schema\", \"msg\": \"Schema columns: ['genome_id', 'gtdb_taxonomy_id', 'gtdb_species_clade_id', 'ncbi_biosample_id', 'fna_file_path_nersc', 'faa_file_path_nersc']\"}\n",
      "{\"time\": \"2025-07-17 19:25:42,737\", \"pipeline\": \"pangenome\", \"schema\": \"pangenome\", \"table\": \"genome_copy1\", \"level\": \"INFO\", \"module\": \"validate_schema\", \"msg\": \"Comparison between schema and file header completed\"}\n",
      "{\"time\": \"2025-07-17 19:25:42,738\", \"pipeline\": \"pangenome\", \"schema\": \"pangenome\", \"table\": \"genome_copy1\", \"level\": \"INFO\", \"module\": \"validate_schema\", \"msg\": \"All schema columns are present in the file\"}\n",
      "{\"time\": \"2025-07-17 19:25:42,739\", \"pipeline\": \"pangenome\", \"schema\": \"pangenome\", \"table\": \"genome_copy1\", \"level\": \"INFO\", \"module\": \"validate_schema\", \"msg\": \"No extra columns in the file\"}\n",
      "🔹 Header columns from file:\n",
      "['genome_id', 'gtdb_species_clade_id', 'gtdb_taxonomy_id', 'ncbi_biosample_id', 'fna_file_path_nersc', 'faa_file_path_nersc']\n",
      "\n",
      "✅ Columns in schema class 'genome':\n",
      "['genome_id', 'gtdb_taxonomy_id', 'gtdb_species_clade_id', 'ncbi_biosample_id', 'fna_file_path_nersc', 'faa_file_path_nersc']\n",
      "\n",
      "🔍 Comparison results:\n",
      "✅ All schema columns are present in file\n",
      "✅ No extra columns in file\n",
      "{\"time\": \"2025-07-17 19:25:42,740\", \"pipeline\": \"pangenome\", \"schema\": \"pangenome\", \"table\": \"genome_copy1\", \"level\": \"INFO\", \"module\": \"linkml_schema_validator\", \"msg\": \"Starting validation of config columns against LinkML schema\"}\n",
      "{\"time\": \"2025-07-17 19:25:42,740\", \"pipeline\": \"pangenome\", \"schema\": \"pangenome\", \"table\": \"genome_copy1\", \"level\": \"WARNING\", \"module\": \"linkml_schema_validator\", \"msg\": \"[great_expectations_validations[5]] Column 'sample_id' not in schema\"}\n",
      "{\"time\": \"2025-07-17 19:25:42,741\", \"pipeline\": \"pangenome\", \"schema\": \"pangenome\", \"table\": \"genome_copy1\", \"level\": \"INFO\", \"module\": \"linkml_schema_validator\", \"msg\": \"LinkML schema column validation complete\"}\n",
      "{\"time\": \"2025-07-17 19:25:42,742\", \"pipeline\": \"pangenome\", \"schema\": \"pangenome\", \"table\": \"genome_copy1\", \"level\": \"ERROR\", \"module\": \"config_validator\", \"msg\": \"Config contains columns not defined in schema: {'validations': [], 'referential_integrity': [], 'great_expectations_validations': ['sample_id'], 'transformations': []}\"}\n",
      "✅ About to run ConfigValidator...\n",
      "✅ ConfigValidator logger: <Logger pipeline_logger (DEBUG)>\n",
      "✅ Logger name: pipeline_logger\n",
      "✅ Logger handlers: [<FileHandler /home/jovyan/work/data-governance-framework/local_logs/pipeline_run_20250717_192541.log (NOTSET)>, <StreamHandler stdout (NOTSET)>]\n",
      "{\"time\": \"2025-07-17 19:25:42,743\", \"pipeline\": \"pangenome\", \"schema\": \"pangenome\", \"table\": \"genome_copy1\", \"level\": \"INFO\", \"module\": \"config_validator_core\", \"msg\": \"🔍 Starting config validation...\"}\n",
      "✅ Inside ConfigValidator.validate\n",
      "{\"time\": \"2025-07-17 19:25:42,744\", \"pipeline\": \"pangenome\", \"schema\": \"pangenome\", \"table\": \"genome_copy1\", \"level\": \"INFO\", \"module\": \"config_validator_core\", \"msg\": \"Validating section: required_fields\"}\n",
      "{\"time\": \"2025-07-17 19:25:42,745\", \"pipeline\": \"pangenome\", \"schema\": \"pangenome\", \"table\": \"genome_copy1\", \"level\": \"INFO\", \"module\": \"config_validator_core\", \"msg\": \"✅ Section 'required_fields' validated successfully.\"}\n",
      "{\"time\": \"2025-07-17 19:25:42,746\", \"pipeline\": \"pangenome\", \"schema\": \"pangenome\", \"table\": \"genome_copy1\", \"level\": \"INFO\", \"module\": \"config_validator_core\", \"msg\": \"Validating section: input_files\"}\n",
      "{\"time\": \"2025-07-17 19:25:42,746\", \"pipeline\": \"pangenome\", \"schema\": \"pangenome\", \"table\": \"genome_copy1\", \"level\": \"INFO\", \"module\": \"config_validator_core\", \"msg\": \"✅ Section 'input_files' validated successfully.\"}\n",
      "{\"time\": \"2025-07-17 19:25:42,747\", \"pipeline\": \"pangenome\", \"schema\": \"pangenome\", \"table\": \"genome_copy1\", \"level\": \"INFO\", \"module\": \"config_validator_core\", \"msg\": \"Validating section: output_file\"}\n",
      "{\"time\": \"2025-07-17 19:25:42,748\", \"pipeline\": \"pangenome\", \"schema\": \"pangenome\", \"table\": \"genome_copy1\", \"level\": \"INFO\", \"module\": \"config_validator_core\", \"msg\": \"✅ Section 'output_file' validated successfully.\"}\n",
      "{\"time\": \"2025-07-17 19:25:42,748\", \"pipeline\": \"pangenome\", \"schema\": \"pangenome\", \"table\": \"genome_copy1\", \"level\": \"INFO\", \"module\": \"config_validator_core\", \"msg\": \"Validating section: transformations\"}\n"
     ]
    },
    {
     "name": "stdout",
     "output_type": "stream",
     "text": [
      "{\"time\": \"2025-07-17 19:25:42,749\", \"pipeline\": \"pangenome\", \"schema\": \"pangenome\", \"table\": \"genome_copy1\", \"level\": \"INFO\", \"module\": \"config_validator_core\", \"msg\": \"✅ Section 'transformations' validated successfully.\"}\n",
      "{\"time\": \"2025-07-17 19:25:42,750\", \"pipeline\": \"pangenome\", \"schema\": \"pangenome\", \"table\": \"genome_copy1\", \"level\": \"INFO\", \"module\": \"config_validator_core\", \"msg\": \"Validating section: validations\"}\n",
      "{\"time\": \"2025-07-17 19:25:42,750\", \"pipeline\": \"pangenome\", \"schema\": \"pangenome\", \"table\": \"genome_copy1\", \"level\": \"INFO\", \"module\": \"config_validator_core\", \"msg\": \"✅ Section 'validations' validated successfully.\"}\n",
      "{\"time\": \"2025-07-17 19:25:42,751\", \"pipeline\": \"pangenome\", \"schema\": \"pangenome\", \"table\": \"genome_copy1\", \"level\": \"INFO\", \"module\": \"config_validator_core\", \"msg\": \"Validating section: referential_integrity\"}\n",
      "{\"time\": \"2025-07-17 19:25:42,751\", \"pipeline\": \"pangenome\", \"schema\": \"pangenome\", \"table\": \"genome_copy1\", \"level\": \"INFO\", \"module\": \"config_validator_core\", \"msg\": \"✅ Section 'referential_integrity' validated successfully.\"}\n",
      "{\"time\": \"2025-07-17 19:25:42,752\", \"pipeline\": \"pangenome\", \"schema\": \"pangenome\", \"table\": \"genome_copy1\", \"level\": \"INFO\", \"module\": \"config_validator_core\", \"msg\": \"Validating section: great_expectations_validations\"}\n",
      "{\"time\": \"2025-07-17 19:25:42,753\", \"pipeline\": \"pangenome\", \"schema\": \"pangenome\", \"table\": \"genome_copy1\", \"level\": \"INFO\", \"module\": \"config_validator_core\", \"msg\": \"✅ Section 'great_expectations_validations' validated successfully.\"}\n",
      "{\"time\": \"2025-07-17 19:25:42,753\", \"pipeline\": \"pangenome\", \"schema\": \"pangenome\", \"table\": \"genome_copy1\", \"level\": \"INFO\", \"module\": \"config_validator_core\", \"msg\": \"Validating section: schema_drift_handling\"}\n",
      "{\"time\": \"2025-07-17 19:25:42,754\", \"pipeline\": \"pangenome\", \"schema\": \"pangenome\", \"table\": \"genome_copy1\", \"level\": \"INFO\", \"module\": \"config_validator_core\", \"msg\": \"✅ Section 'schema_drift_handling' validated successfully.\"}\n",
      "{\"time\": \"2025-07-17 19:25:42,755\", \"pipeline\": \"pangenome\", \"schema\": \"pangenome\", \"table\": \"genome_copy1\", \"level\": \"INFO\", \"module\": \"config_validator_core\", \"msg\": \"Validating section: logging\"}\n",
      "{\"time\": \"2025-07-17 19:25:42,755\", \"pipeline\": \"pangenome\", \"schema\": \"pangenome\", \"table\": \"genome_copy1\", \"level\": \"INFO\", \"module\": \"config_validator_core\", \"msg\": \"✅ Section 'logging' validated successfully.\"}\n",
      "{\"time\": \"2025-07-17 19:25:42,756\", \"pipeline\": \"pangenome\", \"schema\": \"pangenome\", \"table\": \"genome_copy1\", \"level\": \"INFO\", \"module\": \"config_validator_core\", \"msg\": \"Validating section: versioning\"}\n",
      "{\"time\": \"2025-07-17 19:25:42,756\", \"pipeline\": \"pangenome\", \"schema\": \"pangenome\", \"table\": \"genome_copy1\", \"level\": \"INFO\", \"module\": \"config_validator_core\", \"msg\": \"✅ Section 'versioning' validated successfully.\"}\n",
      "{\"time\": \"2025-07-17 19:25:42,757\", \"pipeline\": \"pangenome\", \"schema\": \"pangenome\", \"table\": \"genome_copy1\", \"level\": \"INFO\", \"module\": \"config_validator_core\", \"msg\": \"✅ Config validation completed with no errors.\"}\n",
      "✅ Completed run_config_validation\n"
     ]
    }
   ],
   "source": [
    "from config.config_validator import run_config_validation\n",
    "\n",
    "# This will load from MinIO: s3a://cdm-lake/config-json/genome.json\n",
    "run_config_validation(\"genome_copy1\", dry_run=False, logger=logger)\n",
    "\n",
    "print(\"✅ Completed run_config_validation\")\n"
   ]
  },
  {
   "cell_type": "code",
   "execution_count": 3,
   "id": "ac4aae34",
   "metadata": {},
   "outputs": [
    {
     "name": "stdout",
     "output_type": "stream",
     "text": [
      "✅ Uploaded log to MinIO at: s3://cdm-lake/logs/pangenome/pipeline_run_20250717_192541.log\n"
     ]
    }
   ],
   "source": [
    "# Upload log file to MinIO\n",
    "upload_to_minio(logger.log_file_path)"
   ]
  },
  {
   "cell_type": "code",
   "execution_count": null,
   "id": "95973138",
   "metadata": {},
   "outputs": [],
   "source": [
    "import boto3\n",
    "import yaml\n",
    "from src.logger import setup_logger\n",
    "from src.minio_uploader import upload_to_minio\n",
    "\n",
    "# Set up logger\n",
    "pipeline_name = \"pangenome\"\n",
    "target_table = \"gtdb_metadata\"\n",
    "schema = \"pangenome\"\n",
    "\n",
    "logger = setup_logger(\n",
    "    pipeline_name=pipeline_name,\n",
    "    target_table=target_table,\n",
    "    schema=schema\n",
    ")\n",
    "\n",
    "logger.info(\"Notebook started\")\n",
    "\n",
    "from config.config_validator import run_config_validation\n",
    "\n",
    "# This will load from MinIO: s3a://cdm-lake/config-json/genome.json\n",
    "run_config_validation(\"gtdb_metadata\", dry_run=True, logger=logger)\n",
    "\n",
    "# Upload log file to MinIO\n",
    "upload_to_minio(logger.log_file_path)"
   ]
  },
  {
   "cell_type": "code",
   "execution_count": null,
   "id": "ea278d7b",
   "metadata": {},
   "outputs": [],
   "source": []
  }
 ],
 "metadata": {
  "kernelspec": {
   "display_name": "Python 3 (ipykernel)",
   "language": "python",
   "name": "python3"
  },
  "language_info": {
   "codemirror_mode": {
    "name": "ipython",
    "version": 3
   },
   "file_extension": ".py",
   "mimetype": "text/x-python",
   "name": "python",
   "nbconvert_exporter": "python",
   "pygments_lexer": "ipython3",
   "version": "3.10.11"
  }
 },
 "nbformat": 4,
 "nbformat_minor": 5
}
