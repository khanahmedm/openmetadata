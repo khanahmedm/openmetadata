{
 "cells": [
  {
   "cell_type": "code",
   "execution_count": null,
   "id": "0d84a31e",
   "metadata": {},
   "outputs": [],
   "source": [
    "import boto3\n",
    "import yaml\n",
    "\n",
    "from config.config_loader import ConfigLoader\n",
    "\n",
    "# Path to config file in MinIO\n",
    "config_path = \"genome\"\n",
    "\n",
    "# Load config\n",
    "loader = ConfigLoader(config_path)\n",
    "loader.load_and_validate()\n",
    "\n",
    "# (Optional) Print something\n",
    "print(loader.get_target_table())\n"
   ]
  },
  {
   "cell_type": "code",
   "execution_count": null,
   "id": "32a0dcb0",
   "metadata": {},
   "outputs": [],
   "source": [
    "# Start Spark\n",
    "from src.spark_session import start_spark_session\n",
    "spark = start_spark_session()\n"
   ]
  },
  {
   "cell_type": "code",
   "execution_count": null,
   "id": "06ecee86",
   "metadata": {},
   "outputs": [],
   "source": [
    "# Validate input files\n",
    "from src.input_file_validator import validate_input_files\n",
    "validate_input_files(loader)"
   ]
  },
  {
   "cell_type": "code",
   "execution_count": null,
   "id": "dcbd59c7",
   "metadata": {},
   "outputs": [],
   "source": [
    "# Check schema headers\n",
    "from src.validate_schema import validate_schema_against_file\n",
    "validate_schema_against_file(loader)"
   ]
  },
  {
   "cell_type": "code",
   "execution_count": null,
   "id": "b8942618",
   "metadata": {},
   "outputs": [],
   "source": [
    "# Check TSV format\n",
    "from src.input_file_validator import validate_input_files\n",
    "validate_input_files(loader)"
   ]
  },
  {
   "cell_type": "code",
   "execution_count": null,
   "id": "131f0da5",
   "metadata": {},
   "outputs": [],
   "source": [
    "# Run validations\n",
    "from src.run_validations import run_validations_from_config\n",
    "run_validations_from_config(loader)"
   ]
  },
  {
   "cell_type": "code",
   "execution_count": null,
   "id": "8618d909",
   "metadata": {},
   "outputs": [],
   "source": [
    "# Referential integrity\n",
    "from src.run_referential_integrity_checks import run_referential_integrity_checks\n",
    "run_referential_integrity_checks(spark, loader)"
   ]
  },
  {
   "cell_type": "code",
   "execution_count": null,
   "id": "80de07e7",
   "metadata": {},
   "outputs": [],
   "source": [
    "import importlib\n",
    "import src.run_great_expectations_validations\n",
    "\n",
    "importlib.reload(src.run_great_expectations_validations)"
   ]
  },
  {
   "cell_type": "code",
   "execution_count": null,
   "id": "5e5b0596",
   "metadata": {},
   "outputs": [],
   "source": [
    "# Great Expectations\n",
    "from src.run_great_expectations_validations import run_great_expectations_validation\n",
    "run_great_expectations_validation(spark, loader)\n"
   ]
  },
  {
   "cell_type": "code",
   "execution_count": null,
   "id": "b89f5279",
   "metadata": {},
   "outputs": [],
   "source": []
  }
 ],
 "metadata": {
  "kernelspec": {
   "display_name": "Python 3 (ipykernel)",
   "language": "python",
   "name": "python3"
  },
  "language_info": {
   "codemirror_mode": {
    "name": "ipython",
    "version": 3
   },
   "file_extension": ".py",
   "mimetype": "text/x-python",
   "name": "python",
   "nbconvert_exporter": "python",
   "pygments_lexer": "ipython3",
   "version": "3.10.11"
  }
 },
 "nbformat": 4,
 "nbformat_minor": 5
}
