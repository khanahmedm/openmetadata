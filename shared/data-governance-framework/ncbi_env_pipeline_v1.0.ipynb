{
 "cells": [
  {
   "cell_type": "code",
   "execution_count": 1,
   "id": "09de6280",
   "metadata": {},
   "outputs": [
    {
     "name": "stdout",
     "output_type": "stream",
     "text": [
      "{\"time\": \"2025-07-11 19:11:37,380\", \"pipeline\": \"pangenome\", \"schema\": \"pangenome\", \"table\": \"ncbi_env\", \"level\": \"INFO\", \"module\": \"1035436919\", \"msg\": \"Notebook started\"}\n",
      "{\"time\": \"2025-07-11 19:11:37,392\", \"pipeline\": \"pangenome\", \"schema\": \"pangenome\", \"table\": \"ncbi_env\", \"level\": \"INFO\", \"module\": \"config_loader\", \"msg\": \"ConfigLoader initialized for target table: ncbi_env\"}\n",
      "{\"time\": \"2025-07-11 19:11:37,393\", \"pipeline\": \"pangenome\", \"schema\": \"pangenome\", \"table\": \"ncbi_env\", \"level\": \"INFO\", \"module\": \"config_loader\", \"msg\": \"Resolved config path: s3a://cdm-lake/config-json/ncbi_env.json\"}\n",
      "{\"time\": \"2025-07-11 19:11:37,394\", \"pipeline\": \"pangenome\", \"schema\": \"pangenome\", \"table\": \"ncbi_env\", \"level\": \"INFO\", \"module\": \"config_loader\", \"msg\": \"Loading config from MinIO: bucket=cdm-lake, key=config-json/ncbi_env.json\"}\n",
      "{\"time\": \"2025-07-11 19:11:37,654\", \"pipeline\": \"pangenome\", \"schema\": \"pangenome\", \"table\": \"ncbi_env\", \"level\": \"INFO\", \"module\": \"config_loader\", \"msg\": \"Config loaded successfully from MinIO\"}\n",
      "{\"time\": \"2025-07-11 19:11:37,655\", \"pipeline\": \"pangenome\", \"schema\": \"pangenome\", \"table\": \"ncbi_env\", \"level\": \"INFO\", \"module\": \"config_loader\", \"msg\": \"All required fields are present in the config\"}\n",
      "{\"time\": \"2025-07-11 19:11:37,656\", \"pipeline\": \"pangenome\", \"schema\": \"pangenome\", \"table\": \"ncbi_env\", \"level\": \"DEBUG\", \"module\": \"config_loader\", \"msg\": \"Target table: pangenome.ncbi_env\"}\n",
      "pangenome.ncbi_env\n",
      "{\"time\": \"2025-07-11 19:11:37,991\", \"pipeline\": \"pangenome\", \"schema\": \"pangenome\", \"table\": \"ncbi_env\", \"level\": \"INFO\", \"module\": \"spark_session\", \"msg\": \"Found 4 JARs in /home/jovyan/jars\"}\n",
      "{\"time\": \"2025-07-11 19:11:37,993\", \"pipeline\": \"pangenome\", \"schema\": \"pangenome\", \"table\": \"ncbi_env\", \"level\": \"DEBUG\", \"module\": \"spark_session\", \"msg\": \"JARs: ['/home/jovyan/jars/aws-java-sdk-bundle-1.12.367.jar', '/home/jovyan/jars/delta-core_2.12-2.4.0.jar', '/home/jovyan/jars/delta-storage-2.4.0.jar', '/home/jovyan/jars/hadoop-aws-3.3.4.jar']\"}\n",
      "{\"time\": \"2025-07-11 19:11:37,995\", \"pipeline\": \"pangenome\", \"schema\": \"pangenome\", \"table\": \"ncbi_env\", \"level\": \"INFO\", \"module\": \"spark_session\", \"msg\": \"Starting Spark session...\"}\n",
      "{\"time\": \"2025-07-11 19:11:42,690\", \"pipeline\": \"pangenome\", \"schema\": \"pangenome\", \"table\": \"ncbi_env\", \"level\": \"INFO\", \"module\": \"spark_session\", \"msg\": \"Spark session started successfully\"}\n"
     ]
    }
   ],
   "source": [
    "import boto3\n",
    "import yaml\n",
    "from src.logger import setup_logger\n",
    "from src.minio_uploader import upload_to_minio\n",
    "\n",
    "# Set up logger\n",
    "pipeline_name = \"pangenome\"\n",
    "target_table = \"ncbi_env\"\n",
    "schema = \"pangenome\"\n",
    "\n",
    "logger = setup_logger(\n",
    "    pipeline_name=pipeline_name,\n",
    "    target_table=target_table,\n",
    "    schema=schema\n",
    ")\n",
    "\n",
    "logger.info(\"Notebook started\")\n",
    "\n",
    "from config.config_loader import ConfigLoader\n",
    "\n",
    "# Path to config file in MinIO\n",
    "config_path = \"ncbi_env\"\n",
    "\n",
    "# Load config\n",
    "loader = ConfigLoader(config_path, logger)\n",
    "loader.load_and_validate()\n",
    "\n",
    "# (Optional) Print something\n",
    "print(loader.get_target_table())\n",
    "\n",
    "# Start Spark\n",
    "from src.spark_session import start_spark_session\n",
    "spark = start_spark_session(logger=logger)"
   ]
  },
  {
   "cell_type": "code",
   "execution_count": 2,
   "id": "a5d3f825",
   "metadata": {},
   "outputs": [
    {
     "name": "stdout",
     "output_type": "stream",
     "text": [
      "{\"time\": \"2025-07-11 19:11:45,374\", \"pipeline\": \"pangenome\", \"schema\": \"pangenome\", \"table\": \"ncbi_env\", \"level\": \"INFO\", \"module\": \"validate_schema\", \"msg\": \"Starting schema vs. file validation\"}\n",
      "{\"time\": \"2025-07-11 19:11:45,379\", \"pipeline\": \"pangenome\", \"schema\": \"pangenome\", \"table\": \"ncbi_env\", \"level\": \"DEBUG\", \"module\": \"config_loader\", \"msg\": \"Output file: {'output_file_path': 's3a://cdm-lake/pangenome-source/table_ncbi_env_V1.1.tsv', 'file_type': 'tsv', 'delimiter': '\\t', 'ignore_first_line': 'no'}\"}\n",
      "{\"time\": \"2025-07-11 19:11:45,380\", \"pipeline\": \"pangenome\", \"schema\": \"pangenome\", \"table\": \"ncbi_env\", \"level\": \"INFO\", \"module\": \"validate_schema\", \"msg\": \"Output file: s3a://cdm-lake/pangenome-source/table_ncbi_env_V1.1.tsv\"}\n",
      "{\"time\": \"2025-07-11 19:11:45,380\", \"pipeline\": \"pangenome\", \"schema\": \"pangenome\", \"table\": \"ncbi_env\", \"level\": \"DEBUG\", \"module\": \"validate_schema\", \"msg\": \"Delimiter: \t, Ignore first line: False\"}\n",
      "{\"time\": \"2025-07-11 19:11:47,672\", \"pipeline\": \"pangenome\", \"schema\": \"pangenome\", \"table\": \"ncbi_env\", \"level\": \"INFO\", \"module\": \"validate_schema\", \"msg\": \"Header columns successfully extracted from output file\"}\n",
      "{\"time\": \"2025-07-11 19:11:47,673\", \"pipeline\": \"pangenome\", \"schema\": \"pangenome\", \"table\": \"ncbi_env\", \"level\": \"DEBUG\", \"module\": \"validate_schema\", \"msg\": \"Header columns: ['accession', 'attribute_name', 'content', 'display_name', 'harmonized_name', 'id', 'package_content']\"}\n",
      "{\"time\": \"2025-07-11 19:11:47,673\", \"pipeline\": \"pangenome\", \"schema\": \"pangenome\", \"table\": \"ncbi_env\", \"level\": \"DEBUG\", \"module\": \"config_loader\", \"msg\": \"Schema file path: s3a://cdm-lake/schemas/pangenome-schema.yaml\"}\n",
      "{\"time\": \"2025-07-11 19:11:47,674\", \"pipeline\": \"pangenome\", \"schema\": \"pangenome\", \"table\": \"ncbi_env\", \"level\": \"INFO\", \"module\": \"validate_schema\", \"msg\": \"Schema file: s3a://cdm-lake/schemas/pangenome-schema.yaml\"}\n",
      "{\"time\": \"2025-07-11 19:11:47,749\", \"pipeline\": \"pangenome\", \"schema\": \"pangenome\", \"table\": \"ncbi_env\", \"level\": \"DEBUG\", \"module\": \"config_loader\", \"msg\": \"Target table: pangenome.ncbi_env\"}\n",
      "{\"time\": \"2025-07-11 19:11:47,751\", \"pipeline\": \"pangenome\", \"schema\": \"pangenome\", \"table\": \"ncbi_env\", \"level\": \"INFO\", \"module\": \"validate_schema\", \"msg\": \"Derived schema class name: ncbi_env\"}\n",
      "{\"time\": \"2025-07-11 19:11:47,752\", \"pipeline\": \"pangenome\", \"schema\": \"pangenome\", \"table\": \"ncbi_env\", \"level\": \"INFO\", \"module\": \"validate_schema\", \"msg\": \"Schema loaded and class found successfully\"}\n",
      "{\"time\": \"2025-07-11 19:11:47,753\", \"pipeline\": \"pangenome\", \"schema\": \"pangenome\", \"table\": \"ncbi_env\", \"level\": \"DEBUG\", \"module\": \"validate_schema\", \"msg\": \"Schema columns: ['accession', 'attribute_name', 'content', 'display_name', 'harmonized_name', 'id', 'package_content']\"}\n",
      "{\"time\": \"2025-07-11 19:11:47,753\", \"pipeline\": \"pangenome\", \"schema\": \"pangenome\", \"table\": \"ncbi_env\", \"level\": \"INFO\", \"module\": \"validate_schema\", \"msg\": \"Comparison between schema and file header completed\"}\n",
      "{\"time\": \"2025-07-11 19:11:47,755\", \"pipeline\": \"pangenome\", \"schema\": \"pangenome\", \"table\": \"ncbi_env\", \"level\": \"INFO\", \"module\": \"validate_schema\", \"msg\": \"All schema columns are present in the file\"}\n",
      "{\"time\": \"2025-07-11 19:11:47,755\", \"pipeline\": \"pangenome\", \"schema\": \"pangenome\", \"table\": \"ncbi_env\", \"level\": \"INFO\", \"module\": \"validate_schema\", \"msg\": \"No extra columns in the file\"}\n",
      "🔹 Header columns from file:\n",
      "['accession', 'attribute_name', 'content', 'display_name', 'harmonized_name', 'id', 'package_content']\n",
      "\n",
      "✅ Columns in schema class 'ncbi_env':\n",
      "['accession', 'attribute_name', 'content', 'display_name', 'harmonized_name', 'id', 'package_content']\n",
      "\n",
      "🔍 Comparison results:\n",
      "✅ All schema columns are present in file\n",
      "✅ No extra columns in file\n"
     ]
    },
    {
     "data": {
      "text/plain": [
       "{'file_columns': ['accession',\n",
       "  'attribute_name',\n",
       "  'content',\n",
       "  'display_name',\n",
       "  'harmonized_name',\n",
       "  'id',\n",
       "  'package_content'],\n",
       " 'schema_columns': ['accession',\n",
       "  'attribute_name',\n",
       "  'content',\n",
       "  'display_name',\n",
       "  'harmonized_name',\n",
       "  'id',\n",
       "  'package_content'],\n",
       " 'missing_in_file': [],\n",
       " 'extra_in_file': []}"
      ]
     },
     "execution_count": 2,
     "metadata": {},
     "output_type": "execute_result"
    }
   ],
   "source": [
    "# Check schema headers\n",
    "from src.validate_schema import validate_schema_against_file\n",
    "validate_schema_against_file(loader, logger)"
   ]
  },
  {
   "cell_type": "code",
   "execution_count": 3,
   "id": "9ec38515",
   "metadata": {},
   "outputs": [
    {
     "name": "stdout",
     "output_type": "stream",
     "text": [
      "{\"time\": \"2025-07-11 19:11:52,525\", \"pipeline\": \"pangenome\", \"schema\": \"pangenome\", \"table\": \"ncbi_env\", \"level\": \"DEBUG\", \"module\": \"config_loader\", \"msg\": \"Output file: {'output_file_path': 's3a://cdm-lake/pangenome-source/table_ncbi_env_V1.1.tsv', 'file_type': 'tsv', 'delimiter': '\\t', 'ignore_first_line': 'no'}\"}\n",
      "{\"time\": \"2025-07-11 19:11:52,526\", \"pipeline\": \"pangenome\", \"schema\": \"pangenome\", \"table\": \"ncbi_env\", \"level\": \"INFO\", \"module\": \"run_validations\", \"msg\": \"Starting validation on file: s3a://cdm-lake/pangenome-source/table_ncbi_env_V1.1.tsv\"}\n",
      "{\"time\": \"2025-07-11 19:11:52,527\", \"pipeline\": \"pangenome\", \"schema\": \"pangenome\", \"table\": \"ncbi_env\", \"level\": \"DEBUG\", \"module\": \"run_validations\", \"msg\": \"Delimiter: \t, Ignore first line: False\"}\n",
      "{\"time\": \"2025-07-11 19:11:52,527\", \"pipeline\": \"pangenome\", \"schema\": \"pangenome\", \"table\": \"ncbi_env\", \"level\": \"DEBUG\", \"module\": \"config_loader\", \"msg\": \"Validations: [{'column': 'accession', 'validation_type': 'not_null', 'error_message': 'Missing accession'}, {'column': 'accession', 'validation_type': 'regex_match', 'pattern': '^[A-Za-z0-9_.\\\\-]+$', 'error_message': 'Invalid accession format'}]\"}\n",
      "{\"time\": \"2025-07-11 19:11:52,528\", \"pipeline\": \"pangenome\", \"schema\": \"pangenome\", \"table\": \"ncbi_env\", \"level\": \"DEBUG\", \"module\": \"run_validations\", \"msg\": \"Validation rules: [{'column': 'accession', 'validation_type': 'not_null', 'error_message': 'Missing accession'}, {'column': 'accession', 'validation_type': 'regex_match', 'pattern': '^[A-Za-z0-9_.\\\\-]+$', 'error_message': 'Invalid accession format'}]\"}\n",
      "\n",
      "🔍 Running validations:\n",
      "\n",
      "{\"time\": \"2025-07-11 19:12:05,908\", \"pipeline\": \"pangenome\", \"schema\": \"pangenome\", \"table\": \"ncbi_env\", \"level\": \"INFO\", \"module\": \"run_validations\", \"msg\": \"Running validations...\"}\n",
      "{\"time\": \"2025-07-11 19:12:05,917\", \"pipeline\": \"pangenome\", \"schema\": \"pangenome\", \"table\": \"ncbi_env\", \"level\": \"DEBUG\", \"module\": \"run_validations\", \"msg\": \"Header columns: ['accession', 'attribute_name', 'content', 'display_name', 'harmonized_name', 'id', 'package_content']\"}\n",
      "\n",
      "📋 Validation Summary:\n",
      "{\"time\": \"2025-07-11 19:12:10,155\", \"pipeline\": \"pangenome\", \"schema\": \"pangenome\", \"table\": \"ncbi_env\", \"level\": \"INFO\", \"module\": \"run_validations\", \"msg\": \"Validation summary:\"}\n",
      "✅ All validation rules ran successfully. No issues found.\n",
      "{\"time\": \"2025-07-11 19:12:10,157\", \"pipeline\": \"pangenome\", \"schema\": \"pangenome\", \"table\": \"ncbi_env\", \"level\": \"INFO\", \"module\": \"run_validations\", \"msg\": \"All validation rules passed. No issues found.\"}\n",
      "\n",
      "✅ Passed Rules:\n",
      "✔️ accession - not_null\n",
      "{\"time\": \"2025-07-11 19:12:10,158\", \"pipeline\": \"pangenome\", \"schema\": \"pangenome\", \"table\": \"ncbi_env\", \"level\": \"INFO\", \"module\": \"run_validations\", \"msg\": \"Passed: accession - not_null\"}\n",
      "✔️ accession - regex_match\n",
      "{\"time\": \"2025-07-11 19:12:10,159\", \"pipeline\": \"pangenome\", \"schema\": \"pangenome\", \"table\": \"ncbi_env\", \"level\": \"INFO\", \"module\": \"run_validations\", \"msg\": \"Passed: accession - regex_match\"}\n"
     ]
    },
    {
     "data": {
      "text/plain": [
       "{'file_path': 's3a://cdm-lake/pangenome-source/table_ncbi_env_V1.1.tsv',\n",
       " 'validation_errors': [],\n",
       " 'success': True}"
      ]
     },
     "execution_count": 3,
     "metadata": {},
     "output_type": "execute_result"
    }
   ],
   "source": [
    "# Run validations\n",
    "from src.run_validations import run_validations_from_config\n",
    "run_validations_from_config(loader, logger)"
   ]
  },
  {
   "cell_type": "code",
   "execution_count": 4,
   "id": "bced3511",
   "metadata": {},
   "outputs": [
    {
     "name": "stdout",
     "output_type": "stream",
     "text": [
      "{\"time\": \"2025-07-11 19:12:15,849\", \"pipeline\": \"pangenome\", \"schema\": \"pangenome\", \"table\": \"ncbi_env\", \"level\": \"INFO\", \"module\": \"config_loader\", \"msg\": \"Loading config from MinIO: bucket=cdm-lake, key=config-json/ncbi_env.json\"}\n",
      "{\"time\": \"2025-07-11 19:12:15,872\", \"pipeline\": \"pangenome\", \"schema\": \"pangenome\", \"table\": \"ncbi_env\", \"level\": \"INFO\", \"module\": \"config_loader\", \"msg\": \"Config loaded successfully from MinIO\"}\n",
      "{\"time\": \"2025-07-11 19:12:15,873\", \"pipeline\": \"pangenome\", \"schema\": \"pangenome\", \"table\": \"ncbi_env\", \"level\": \"INFO\", \"module\": \"config_loader\", \"msg\": \"All required fields are present in the config\"}\n",
      "{\"time\": \"2025-07-11 19:12:15,874\", \"pipeline\": \"pangenome\", \"schema\": \"pangenome\", \"table\": \"ncbi_env\", \"level\": \"DEBUG\", \"module\": \"config_loader\", \"msg\": \"Referential integrity rules: []\"}\n",
      "{\"time\": \"2025-07-11 19:12:15,875\", \"pipeline\": \"pangenome\", \"schema\": \"pangenome\", \"table\": \"ncbi_env\", \"level\": \"DEBUG\", \"module\": \"config_loader\", \"msg\": \"Target table: pangenome.ncbi_env\"}\n",
      "{\"time\": \"2025-07-11 19:12:15,876\", \"pipeline\": \"pangenome\", \"schema\": \"pangenome\", \"table\": \"ncbi_env\", \"level\": \"WARNING\", \"module\": \"run_referential_integrity_checks\", \"msg\": \"No referential integrity rules defined for table: pangenome.ncbi_env\"}\n",
      "\n",
      "ℹ️ No referential integrity rules defined for table: pangenome.ncbi_env\n"
     ]
    },
    {
     "data": {
      "text/plain": [
       "False"
      ]
     },
     "execution_count": 4,
     "metadata": {},
     "output_type": "execute_result"
    }
   ],
   "source": [
    "# Referential integrity\n",
    "from src.run_referential_integrity_checks import run_referential_integrity_checks\n",
    "run_referential_integrity_checks(spark, loader, logger)"
   ]
  },
  {
   "cell_type": "code",
   "execution_count": null,
   "id": "a53b1850",
   "metadata": {
    "scrolled": false
   },
   "outputs": [],
   "source": [
    "\n",
    "# Check TSV format\n",
    "#from src.input_file_validator import validate_input_files\n",
    "#validate_input_files(loader)\n",
    "\n",
    "\n",
    "\n",
    "\n",
    "\n",
    "\n",
    "\n",
    "#import importlib\n",
    "#import src.run_great_expectations_validations\n",
    "\n",
    "#importlib.reload(src.run_great_expectations_validations)\n",
    "\n",
    "\n"
   ]
  },
  {
   "cell_type": "code",
   "execution_count": 5,
   "id": "8d8585bf",
   "metadata": {},
   "outputs": [
    {
     "name": "stdout",
     "output_type": "stream",
     "text": [
      "{\"time\": \"2025-07-11 19:12:30,132\", \"pipeline\": \"pangenome\", \"schema\": \"pangenome\", \"table\": \"ncbi_env\", \"level\": \"DEBUG\", \"module\": \"config_loader\", \"msg\": \"Target table: pangenome.ncbi_env\"}\n",
      "{\"time\": \"2025-07-11 19:12:30,133\", \"pipeline\": \"pangenome\", \"schema\": \"pangenome\", \"table\": \"ncbi_env\", \"level\": \"INFO\", \"module\": \"run_great_expectations_validations\", \"msg\": \"Starting Great Expectations validation for table: pangenome.ncbi_env with suite: default_suite\"}\n",
      "{\"time\": \"2025-07-11 19:12:37,662\", \"pipeline\": \"pangenome\", \"schema\": \"pangenome\", \"table\": \"ncbi_env\", \"level\": \"INFO\", \"module\": \"run_great_expectations_validations\", \"msg\": \"Loaded Spark table: pangenome.ncbi_env\"}\n",
      "{\"time\": \"2025-07-11 19:12:37,817\", \"pipeline\": \"pangenome\", \"schema\": \"pangenome\", \"table\": \"ncbi_env\", \"level\": \"INFO\", \"module\": \"run_great_expectations_validations\", \"msg\": \"Great Expectations context initialized.\"}\n",
      "{\"time\": \"2025-07-11 19:12:37,844\", \"pipeline\": \"pangenome\", \"schema\": \"pangenome\", \"table\": \"ncbi_env\", \"level\": \"INFO\", \"module\": \"run_great_expectations_validations\", \"msg\": \"Expectation suite 'default_suite' added or updated.\"}\n",
      "{\"time\": \"2025-07-11 19:12:37,944\", \"pipeline\": \"pangenome\", \"schema\": \"pangenome\", \"table\": \"ncbi_env\", \"level\": \"INFO\", \"module\": \"run_great_expectations_validations\", \"msg\": \"Spark datasource registered in GE context.\"}\n",
      "{\"time\": \"2025-07-11 19:12:37,945\", \"pipeline\": \"pangenome\", \"schema\": \"pangenome\", \"table\": \"ncbi_env\", \"level\": \"DEBUG\", \"module\": \"run_great_expectations_validations\", \"msg\": \"Batch request created for data asset: pangenome_ncbi_env\"}\n",
      "{\"time\": \"2025-07-11 19:12:41,543\", \"pipeline\": \"pangenome\", \"schema\": \"pangenome\", \"table\": \"ncbi_env\", \"level\": \"INFO\", \"module\": \"run_great_expectations_validations\", \"msg\": \"Validator initialized for batch request.\"}\n",
      "{\"time\": \"2025-07-11 19:12:41,547\", \"pipeline\": \"pangenome\", \"schema\": \"pangenome\", \"table\": \"ncbi_env\", \"level\": \"DEBUG\", \"module\": \"run_great_expectations_validations\", \"msg\": \"Found 2 expectations to apply.\"}\n",
      "{\"time\": \"2025-07-11 19:12:41,548\", \"pipeline\": \"pangenome\", \"schema\": \"pangenome\", \"table\": \"ncbi_env\", \"level\": \"DEBUG\", \"module\": \"run_great_expectations_validations\", \"msg\": \"Loaded GE validations config: [{'expectation_type': 'expect_column_values_to_not_be_null', 'params': {'column': 'accession'}}, {'expectation_type': 'expect_column_values_to_match_regex', 'params': {'column': 'accession', 'regex': '^[A-Za-z0-9_.\\\\-]+$'}}]\"}\n"
     ]
    },
    {
     "data": {
      "application/vnd.jupyter.widget-view+json": {
       "model_id": "9c824d2697434df9bab7aee8959dcfc7",
       "version_major": 2,
       "version_minor": 0
      },
      "text/plain": [
       "Calculating Metrics:   0%|          | 0/8 [00:00<?, ?it/s]"
      ]
     },
     "metadata": {},
     "output_type": "display_data"
    },
    {
     "name": "stdout",
     "output_type": "stream",
     "text": [
      "{\"time\": \"2025-07-11 19:12:44,669\", \"pipeline\": \"pangenome\", \"schema\": \"pangenome\", \"table\": \"ncbi_env\", \"level\": \"INFO\", \"module\": \"run_great_expectations_validations\", \"msg\": \"Applied GE expectation: expect_column_values_to_not_be_null with args {'column': 'accession'} → result: True\"}\n"
     ]
    },
    {
     "data": {
      "application/vnd.jupyter.widget-view+json": {
       "model_id": "1f1a11b4429f4708966ffbb0362b31c9",
       "version_major": 2,
       "version_minor": 0
      },
      "text/plain": [
       "Calculating Metrics:   0%|          | 0/11 [00:00<?, ?it/s]"
      ]
     },
     "metadata": {},
     "output_type": "display_data"
    },
    {
     "name": "stdout",
     "output_type": "stream",
     "text": [
      "{\"time\": \"2025-07-11 19:12:45,595\", \"pipeline\": \"pangenome\", \"schema\": \"pangenome\", \"table\": \"ncbi_env\", \"level\": \"INFO\", \"module\": \"run_great_expectations_validations\", \"msg\": \"Applied GE expectation: expect_column_values_to_match_regex with args {'column': 'accession', 'regex': '^[A-Za-z0-9_.\\\\-]+$'} → result: True\"}\n",
      "{\"time\": \"2025-07-11 19:12:45,632\", \"pipeline\": \"pangenome\", \"schema\": \"pangenome\", \"table\": \"ncbi_env\", \"level\": \"INFO\", \"module\": \"run_great_expectations_validations\", \"msg\": \"Expectations saved to suite.\"}\n"
     ]
    },
    {
     "data": {
      "application/vnd.jupyter.widget-view+json": {
       "model_id": "4e48f39a187c4354a2e84adc209fd9bf",
       "version_major": 2,
       "version_minor": 0
      },
      "text/plain": [
       "Calculating Metrics:   0%|          | 0/12 [00:00<?, ?it/s]"
      ]
     },
     "metadata": {},
     "output_type": "display_data"
    },
    {
     "name": "stdout",
     "output_type": "stream",
     "text": [
      "{\"time\": \"2025-07-11 19:12:46,447\", \"pipeline\": \"pangenome\", \"schema\": \"pangenome\", \"table\": \"ncbi_env\", \"level\": \"INFO\", \"module\": \"run_great_expectations_validations\", \"msg\": \"Validation run completed.\"}\n",
      "{\"time\": \"2025-07-11 19:12:46,450\", \"pipeline\": \"pangenome\", \"schema\": \"pangenome\", \"table\": \"ncbi_env\", \"level\": \"DEBUG\", \"module\": \"run_great_expectations_validations\", \"msg\": \"Validation summary: {'success': True, 'successful_expectations': 2, 'unsuccessful_expectations': 0, 'success_percent': 100.0}\"}\n",
      "{\"time\": \"2025-07-11 19:12:48,440\", \"pipeline\": \"pangenome\", \"schema\": \"pangenome\", \"table\": \"ncbi_env\", \"level\": \"INFO\", \"module\": \"run_great_expectations_validations\", \"msg\": \"Data Docs built after validation.\"}\n"
     ]
    },
    {
     "data": {
      "application/vnd.jupyter.widget-view+json": {
       "model_id": "173081cc97824cc7ba5b3529babd785f",
       "version_major": 2,
       "version_minor": 0
      },
      "text/plain": [
       "Calculating Metrics:   0%|          | 0/16 [00:00<?, ?it/s]"
      ]
     },
     "metadata": {},
     "output_type": "display_data"
    },
    {
     "name": "stdout",
     "output_type": "stream",
     "text": [
      "{\"time\": \"2025-07-11 19:12:50,726\", \"pipeline\": \"pangenome\", \"schema\": \"pangenome\", \"table\": \"ncbi_env\", \"level\": \"INFO\", \"module\": \"run_great_expectations_validations\", \"msg\": \"Checkpoint executed.\"}\n",
      "{\"time\": \"2025-07-11 19:12:52,989\", \"pipeline\": \"pangenome\", \"schema\": \"pangenome\", \"table\": \"ncbi_env\", \"level\": \"INFO\", \"module\": \"run_great_expectations_validations\", \"msg\": \"Data Docs rebuilt with checkpoint results.\"}\n",
      "✅ GE validation and checkpoint complete. Data Docs generated.\n",
      "✅ Uploaded log to MinIO at: s3://cdm-lake/logs/pangenome/pipeline_run_20250711_191137.log\n"
     ]
    }
   ],
   "source": [
    "# Great Expectations\n",
    "from src.run_great_expectations_validations import run_great_expectations_validation\n",
    "run_great_expectations_validation(spark, loader, logger)\n",
    "\n",
    "\n",
    "# Upload log file to MinIO\n",
    "upload_to_minio(logger.log_file_path)"
   ]
  },
  {
   "cell_type": "code",
   "execution_count": null,
   "id": "b89f5279",
   "metadata": {},
   "outputs": [],
   "source": []
  }
 ],
 "metadata": {
  "kernelspec": {
   "display_name": "Python 3 (ipykernel)",
   "language": "python",
   "name": "python3"
  },
  "language_info": {
   "codemirror_mode": {
    "name": "ipython",
    "version": 3
   },
   "file_extension": ".py",
   "mimetype": "text/x-python",
   "name": "python",
   "nbconvert_exporter": "python",
   "pygments_lexer": "ipython3",
   "version": "3.10.11"
  }
 },
 "nbformat": 4,
 "nbformat_minor": 5
}
