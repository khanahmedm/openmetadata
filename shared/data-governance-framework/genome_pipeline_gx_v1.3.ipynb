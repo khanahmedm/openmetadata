{
 "cells": [
  {
   "cell_type": "code",
   "execution_count": 1,
   "id": "a71ecb62",
   "metadata": {},
   "outputs": [
    {
     "name": "stdout",
     "output_type": "stream",
     "text": [
      "{\"time\": \"2025-07-10 05:29:06,896\", \"pipeline\": \"pangenome\", \"schema\": \"pangenome\", \"table\": \"genome\", \"level\": \"INFO\", \"module\": \"2161914337\", \"msg\": \"Notebook started\"}\n",
      "{\"time\": \"2025-07-10 05:29:06,909\", \"pipeline\": \"pangenome\", \"schema\": \"pangenome\", \"table\": \"genome\", \"level\": \"INFO\", \"module\": \"config_loader\", \"msg\": \"ConfigLoader initialized for target table: genome\"}\n",
      "{\"time\": \"2025-07-10 05:29:06,909\", \"pipeline\": \"pangenome\", \"schema\": \"pangenome\", \"table\": \"genome\", \"level\": \"INFO\", \"module\": \"config_loader\", \"msg\": \"Resolved config path: s3a://cdm-lake/config-json/genome.json\"}\n",
      "{\"time\": \"2025-07-10 05:29:06,910\", \"pipeline\": \"pangenome\", \"schema\": \"pangenome\", \"table\": \"genome\", \"level\": \"INFO\", \"module\": \"config_loader\", \"msg\": \"Loading config from MinIO: bucket=cdm-lake, key=config-json/genome.json\"}\n",
      "{\"time\": \"2025-07-10 05:29:07,064\", \"pipeline\": \"pangenome\", \"schema\": \"pangenome\", \"table\": \"genome\", \"level\": \"INFO\", \"module\": \"config_loader\", \"msg\": \"Config loaded successfully from MinIO\"}\n",
      "{\"time\": \"2025-07-10 05:29:07,065\", \"pipeline\": \"pangenome\", \"schema\": \"pangenome\", \"table\": \"genome\", \"level\": \"INFO\", \"module\": \"config_loader\", \"msg\": \"All required fields are present in the config\"}\n",
      "{\"time\": \"2025-07-10 05:29:07,066\", \"pipeline\": \"pangenome\", \"schema\": \"pangenome\", \"table\": \"genome\", \"level\": \"DEBUG\", \"module\": \"config_loader\", \"msg\": \"Target table: pangenome.genome\"}\n",
      "pangenome.genome\n",
      "{\"time\": \"2025-07-10 05:29:07,362\", \"pipeline\": \"pangenome\", \"schema\": \"pangenome\", \"table\": \"genome\", \"level\": \"INFO\", \"module\": \"spark_session\", \"msg\": \"Found 4 JARs in /home/jovyan/jars\"}\n",
      "{\"time\": \"2025-07-10 05:29:07,363\", \"pipeline\": \"pangenome\", \"schema\": \"pangenome\", \"table\": \"genome\", \"level\": \"DEBUG\", \"module\": \"spark_session\", \"msg\": \"JARs: ['/home/jovyan/jars/aws-java-sdk-bundle-1.12.367.jar', '/home/jovyan/jars/delta-core_2.12-2.4.0.jar', '/home/jovyan/jars/delta-storage-2.4.0.jar', '/home/jovyan/jars/hadoop-aws-3.3.4.jar']\"}\n",
      "{\"time\": \"2025-07-10 05:29:07,364\", \"pipeline\": \"pangenome\", \"schema\": \"pangenome\", \"table\": \"genome\", \"level\": \"INFO\", \"module\": \"spark_session\", \"msg\": \"Starting Spark session...\"}\n",
      "{\"time\": \"2025-07-10 05:29:11,561\", \"pipeline\": \"pangenome\", \"schema\": \"pangenome\", \"table\": \"genome\", \"level\": \"INFO\", \"module\": \"spark_session\", \"msg\": \"Spark session started successfully\"}\n"
     ]
    }
   ],
   "source": [
    "import boto3\n",
    "import yaml\n",
    "from src.logger import setup_logger\n",
    "from src.minio_uploader import upload_to_minio\n",
    "\n",
    "# Set up logger\n",
    "pipeline_name = \"pangenome\"\n",
    "target_table = \"genome\"\n",
    "schema = \"pangenome\"\n",
    "\n",
    "logger = setup_logger(\n",
    "    pipeline_name=pipeline_name,\n",
    "    target_table=target_table,\n",
    "    schema=schema\n",
    ")\n",
    "\n",
    "logger.info(\"Notebook started\")\n",
    "\n",
    "from config.config_loader import ConfigLoader\n",
    "\n",
    "# Path to config file in MinIO\n",
    "config_path = \"genome\"\n",
    "\n",
    "# Load config\n",
    "loader = ConfigLoader(config_path, logger)\n",
    "loader.load_and_validate()\n",
    "\n",
    "# (Optional) Print something\n",
    "print(loader.get_target_table())\n",
    "\n",
    "# Start Spark\n",
    "from src.spark_session import start_spark_session\n",
    "spark = start_spark_session(logger=logger)"
   ]
  },
  {
   "cell_type": "code",
   "execution_count": 2,
   "id": "a53b1850",
   "metadata": {
    "scrolled": false
   },
   "outputs": [
    {
     "name": "stdout",
     "output_type": "stream",
     "text": [
      "{\"time\": \"2025-07-10 05:29:11,579\", \"pipeline\": \"pangenome\", \"schema\": \"pangenome\", \"table\": \"genome\", \"level\": \"DEBUG\", \"module\": \"config_loader\", \"msg\": \"Input files: [{'source': 'GTDB', 'file_path': 's3a://cdm-lake/bronze/gtdb/sp_clusters_r214.tsv', 'file_type': 'tsv', 'delimiter': '\\t', 'ignore_first_line': 'no'}, {'source': 'NCBI', 'file_path': 's3a://cdm-lake/bronze/ncbi/assembly_summary_genbank.txt', 'file_type': 'tsv', 'delimiter': '\\t', 'ignore_first_line': 'yes'}]\"}\n",
      "{\"time\": \"2025-07-10 05:29:11,579\", \"pipeline\": \"pangenome\", \"schema\": \"pangenome\", \"table\": \"genome\", \"level\": \"INFO\", \"module\": \"input_file_validator\", \"msg\": \"Starting input file validation...\"}\n",
      "Validating input files...\n",
      "\n",
      "{\"time\": \"2025-07-10 05:29:11,584\", \"pipeline\": \"pangenome\", \"schema\": \"pangenome\", \"table\": \"genome\", \"level\": \"INFO\", \"module\": \"input_file_validator\", \"msg\": \"Checking file: s3a://cdm-lake/bronze/gtdb/sp_clusters_r214.tsv\"}\n",
      "🔍 Checking: s3a://cdm-lake/bronze/gtdb/sp_clusters_r214.tsv\n",
      "{\"time\": \"2025-07-10 05:29:11,593\", \"pipeline\": \"pangenome\", \"schema\": \"pangenome\", \"table\": \"genome\", \"level\": \"INFO\", \"module\": \"input_file_validator\", \"msg\": \"File exists: s3://cdm-lake/bronze/gtdb/sp_clusters_r214.tsv\"}\n",
      "✅ File exists\n",
      "{\"time\": \"2025-07-10 05:29:11,699\", \"pipeline\": \"pangenome\", \"schema\": \"pangenome\", \"table\": \"genome\", \"level\": \"DEBUG\", \"module\": \"input_file_validator\", \"msg\": \"Line 1: Tab-delimited\"}\n",
      "   ✅ Line 1: Tab-delimited\n",
      "{\"time\": \"2025-07-10 05:29:11,700\", \"pipeline\": \"pangenome\", \"schema\": \"pangenome\", \"table\": \"genome\", \"level\": \"DEBUG\", \"module\": \"input_file_validator\", \"msg\": \"Line 2: Tab-delimited\"}\n",
      "   ✅ Line 2: Tab-delimited\n",
      "{\"time\": \"2025-07-10 05:29:11,701\", \"pipeline\": \"pangenome\", \"schema\": \"pangenome\", \"table\": \"genome\", \"level\": \"DEBUG\", \"module\": \"input_file_validator\", \"msg\": \"Line 3: Tab-delimited\"}\n",
      "   ✅ Line 3: Tab-delimited\n",
      "{\"time\": \"2025-07-10 05:29:11,701\", \"pipeline\": \"pangenome\", \"schema\": \"pangenome\", \"table\": \"genome\", \"level\": \"DEBUG\", \"module\": \"input_file_validator\", \"msg\": \"Line 4: Tab-delimited\"}\n",
      "   ✅ Line 4: Tab-delimited\n",
      "{\"time\": \"2025-07-10 05:29:11,702\", \"pipeline\": \"pangenome\", \"schema\": \"pangenome\", \"table\": \"genome\", \"level\": \"DEBUG\", \"module\": \"input_file_validator\", \"msg\": \"Line 5: Tab-delimited\"}\n",
      "   ✅ Line 5: Tab-delimited\n",
      "\n",
      "{\"time\": \"2025-07-10 05:29:11,702\", \"pipeline\": \"pangenome\", \"schema\": \"pangenome\", \"table\": \"genome\", \"level\": \"INFO\", \"module\": \"input_file_validator\", \"msg\": \"Checking file: s3a://cdm-lake/bronze/ncbi/assembly_summary_genbank.txt\"}\n",
      "🔍 Checking: s3a://cdm-lake/bronze/ncbi/assembly_summary_genbank.txt\n",
      "{\"time\": \"2025-07-10 05:29:11,708\", \"pipeline\": \"pangenome\", \"schema\": \"pangenome\", \"table\": \"genome\", \"level\": \"INFO\", \"module\": \"input_file_validator\", \"msg\": \"File exists: s3://cdm-lake/bronze/ncbi/assembly_summary_genbank.txt\"}\n",
      "✅ File exists\n",
      "{\"time\": \"2025-07-10 05:30:01,817\", \"pipeline\": \"pangenome\", \"schema\": \"pangenome\", \"table\": \"genome\", \"level\": \"DEBUG\", \"module\": \"input_file_validator\", \"msg\": \"Line 2: Tab-delimited\"}\n",
      "   ✅ Line 2: Tab-delimited\n",
      "{\"time\": \"2025-07-10 05:30:01,906\", \"pipeline\": \"pangenome\", \"schema\": \"pangenome\", \"table\": \"genome\", \"level\": \"DEBUG\", \"module\": \"input_file_validator\", \"msg\": \"Line 3: Tab-delimited\"}\n",
      "   ✅ Line 3: Tab-delimited\n",
      "{\"time\": \"2025-07-10 05:30:01,912\", \"pipeline\": \"pangenome\", \"schema\": \"pangenome\", \"table\": \"genome\", \"level\": \"DEBUG\", \"module\": \"input_file_validator\", \"msg\": \"Line 4: Tab-delimited\"}\n",
      "   ✅ Line 4: Tab-delimited\n",
      "{\"time\": \"2025-07-10 05:30:01,913\", \"pipeline\": \"pangenome\", \"schema\": \"pangenome\", \"table\": \"genome\", \"level\": \"DEBUG\", \"module\": \"input_file_validator\", \"msg\": \"Line 5: Tab-delimited\"}\n",
      "   ✅ Line 5: Tab-delimited\n",
      "{\"time\": \"2025-07-10 05:30:01,914\", \"pipeline\": \"pangenome\", \"schema\": \"pangenome\", \"table\": \"genome\", \"level\": \"DEBUG\", \"module\": \"input_file_validator\", \"msg\": \"Line 6: Tab-delimited\"}\n",
      "   ✅ Line 6: Tab-delimited\n",
      "\n",
      "{\"time\": \"2025-07-10 05:30:12,178\", \"pipeline\": \"pangenome\", \"schema\": \"pangenome\", \"table\": \"genome\", \"level\": \"INFO\", \"module\": \"validate_schema\", \"msg\": \"Starting schema vs. file validation\"}\n",
      "{\"time\": \"2025-07-10 05:30:12,325\", \"pipeline\": \"pangenome\", \"schema\": \"pangenome\", \"table\": \"genome\", \"level\": \"DEBUG\", \"module\": \"config_loader\", \"msg\": \"Output file: {'output_file_path': 's3a://cdm-lake/pangenome-source/table_genome_V1.1.tsv', 'file_type': 'tsv', 'delimiter': '\\t', 'ignore_first_line': 'no'}\"}\n",
      "{\"time\": \"2025-07-10 05:30:12,326\", \"pipeline\": \"pangenome\", \"schema\": \"pangenome\", \"table\": \"genome\", \"level\": \"INFO\", \"module\": \"validate_schema\", \"msg\": \"Output file: s3a://cdm-lake/pangenome-source/table_genome_V1.1.tsv\"}\n",
      "{\"time\": \"2025-07-10 05:30:12,328\", \"pipeline\": \"pangenome\", \"schema\": \"pangenome\", \"table\": \"genome\", \"level\": \"DEBUG\", \"module\": \"validate_schema\", \"msg\": \"Delimiter: \t, Ignore first line: False\"}\n",
      "{\"time\": \"2025-07-10 05:30:13,084\", \"pipeline\": \"pangenome\", \"schema\": \"pangenome\", \"table\": \"genome\", \"level\": \"INFO\", \"module\": \"validate_schema\", \"msg\": \"Header columns successfully extracted from output file\"}\n",
      "{\"time\": \"2025-07-10 05:30:13,086\", \"pipeline\": \"pangenome\", \"schema\": \"pangenome\", \"table\": \"genome\", \"level\": \"DEBUG\", \"module\": \"validate_schema\", \"msg\": \"Header columns: ['genome_id', 'gtdb_species_clade_id', 'gtdb_taxonomy_id', 'ncbi_biosample_id', 'fna_file_path_nersc', 'faa_file_path_nersc']\"}\n",
      "{\"time\": \"2025-07-10 05:30:13,087\", \"pipeline\": \"pangenome\", \"schema\": \"pangenome\", \"table\": \"genome\", \"level\": \"DEBUG\", \"module\": \"config_loader\", \"msg\": \"Schema file path: s3a://cdm-lake/schemas/pangenome-schema.yaml\"}\n",
      "{\"time\": \"2025-07-10 05:30:13,087\", \"pipeline\": \"pangenome\", \"schema\": \"pangenome\", \"table\": \"genome\", \"level\": \"INFO\", \"module\": \"validate_schema\", \"msg\": \"Schema file: s3a://cdm-lake/schemas/pangenome-schema.yaml\"}\n",
      "{\"time\": \"2025-07-10 05:30:13,159\", \"pipeline\": \"pangenome\", \"schema\": \"pangenome\", \"table\": \"genome\", \"level\": \"DEBUG\", \"module\": \"config_loader\", \"msg\": \"Target table: pangenome.genome\"}\n",
      "{\"time\": \"2025-07-10 05:30:13,161\", \"pipeline\": \"pangenome\", \"schema\": \"pangenome\", \"table\": \"genome\", \"level\": \"INFO\", \"module\": \"validate_schema\", \"msg\": \"Derived schema class name: genome\"}\n",
      "{\"time\": \"2025-07-10 05:30:13,162\", \"pipeline\": \"pangenome\", \"schema\": \"pangenome\", \"table\": \"genome\", \"level\": \"INFO\", \"module\": \"validate_schema\", \"msg\": \"Schema loaded and class found successfully\"}\n",
      "{\"time\": \"2025-07-10 05:30:13,163\", \"pipeline\": \"pangenome\", \"schema\": \"pangenome\", \"table\": \"genome\", \"level\": \"DEBUG\", \"module\": \"validate_schema\", \"msg\": \"Schema columns: ['genome_id', 'gtdb_taxonomy_id', 'gtdb_species_clade_id', 'ncbi_biosample_id', 'fna_file_path_nersc', 'faa_file_path_nersc']\"}\n",
      "{\"time\": \"2025-07-10 05:30:13,164\", \"pipeline\": \"pangenome\", \"schema\": \"pangenome\", \"table\": \"genome\", \"level\": \"INFO\", \"module\": \"validate_schema\", \"msg\": \"Comparison between schema and file header completed\"}\n",
      "{\"time\": \"2025-07-10 05:30:13,164\", \"pipeline\": \"pangenome\", \"schema\": \"pangenome\", \"table\": \"genome\", \"level\": \"INFO\", \"module\": \"validate_schema\", \"msg\": \"All schema columns are present in the file\"}\n",
      "{\"time\": \"2025-07-10 05:30:13,165\", \"pipeline\": \"pangenome\", \"schema\": \"pangenome\", \"table\": \"genome\", \"level\": \"INFO\", \"module\": \"validate_schema\", \"msg\": \"No extra columns in the file\"}\n",
      "🔹 Header columns from file:\n",
      "['genome_id', 'gtdb_species_clade_id', 'gtdb_taxonomy_id', 'ncbi_biosample_id', 'fna_file_path_nersc', 'faa_file_path_nersc']\n",
      "\n",
      "✅ Columns in schema class 'genome':\n",
      "['genome_id', 'gtdb_taxonomy_id', 'gtdb_species_clade_id', 'ncbi_biosample_id', 'fna_file_path_nersc', 'faa_file_path_nersc']\n",
      "\n",
      "🔍 Comparison results:\n",
      "✅ All schema columns are present in file\n",
      "✅ No extra columns in file\n",
      "{\"time\": \"2025-07-10 05:30:13,187\", \"pipeline\": \"pangenome\", \"schema\": \"pangenome\", \"table\": \"genome\", \"level\": \"DEBUG\", \"module\": \"config_loader\", \"msg\": \"Output file: {'output_file_path': 's3a://cdm-lake/pangenome-source/table_genome_V1.1.tsv', 'file_type': 'tsv', 'delimiter': '\\t', 'ignore_first_line': 'no'}\"}\n",
      "{\"time\": \"2025-07-10 05:30:13,188\", \"pipeline\": \"pangenome\", \"schema\": \"pangenome\", \"table\": \"genome\", \"level\": \"INFO\", \"module\": \"run_validations\", \"msg\": \"Starting validation on file: s3a://cdm-lake/pangenome-source/table_genome_V1.1.tsv\"}\n"
     ]
    },
    {
     "name": "stdout",
     "output_type": "stream",
     "text": [
      "{\"time\": \"2025-07-10 05:30:13,188\", \"pipeline\": \"pangenome\", \"schema\": \"pangenome\", \"table\": \"genome\", \"level\": \"DEBUG\", \"module\": \"run_validations\", \"msg\": \"Delimiter: \t, Ignore first line: False\"}\n",
      "{\"time\": \"2025-07-10 05:30:13,189\", \"pipeline\": \"pangenome\", \"schema\": \"pangenome\", \"table\": \"genome\", \"level\": \"DEBUG\", \"module\": \"config_loader\", \"msg\": \"Validations: [{'column': 'genome_id', 'validation_type': 'not_null', 'error_message': 'Missing genome_id'}, {'column': 'genome_id', 'validation_type': 'regex_match', 'pattern': '^[A-Za-z0-9_.-]+$', 'error_message': 'Invalid genome_id format'}, {'column': 'gtdb_taxonomy_id', 'validation_type': 'not_null', 'error_message': 'Missing taxonomy ID'}, {'column': 'gtdb_species_clade_id', 'validation_type': 'not_null', 'error_message': 'Missing species clade ID'}]\"}\n",
      "{\"time\": \"2025-07-10 05:30:13,190\", \"pipeline\": \"pangenome\", \"schema\": \"pangenome\", \"table\": \"genome\", \"level\": \"DEBUG\", \"module\": \"run_validations\", \"msg\": \"Validation rules: [{'column': 'genome_id', 'validation_type': 'not_null', 'error_message': 'Missing genome_id'}, {'column': 'genome_id', 'validation_type': 'regex_match', 'pattern': '^[A-Za-z0-9_.-]+$', 'error_message': 'Invalid genome_id format'}, {'column': 'gtdb_taxonomy_id', 'validation_type': 'not_null', 'error_message': 'Missing taxonomy ID'}, {'column': 'gtdb_species_clade_id', 'validation_type': 'not_null', 'error_message': 'Missing species clade ID'}]\"}\n",
      "\n",
      "🔍 Running validations:\n",
      "\n",
      "{\"time\": \"2025-07-10 05:30:15,712\", \"pipeline\": \"pangenome\", \"schema\": \"pangenome\", \"table\": \"genome\", \"level\": \"INFO\", \"module\": \"run_validations\", \"msg\": \"Running validations...\"}\n",
      "{\"time\": \"2025-07-10 05:30:15,712\", \"pipeline\": \"pangenome\", \"schema\": \"pangenome\", \"table\": \"genome\", \"level\": \"DEBUG\", \"module\": \"run_validations\", \"msg\": \"Header columns: ['genome_id', 'gtdb_species_clade_id', 'gtdb_taxonomy_id', 'ncbi_biosample_id', 'fna_file_path_nersc', 'faa_file_path_nersc']\"}\n",
      "\n",
      "📋 Validation Summary:\n",
      "{\"time\": \"2025-07-10 05:30:16,217\", \"pipeline\": \"pangenome\", \"schema\": \"pangenome\", \"table\": \"genome\", \"level\": \"INFO\", \"module\": \"run_validations\", \"msg\": \"Validation summary:\"}\n",
      "✅ All validation rules ran successfully. No issues found.\n",
      "{\"time\": \"2025-07-10 05:30:16,218\", \"pipeline\": \"pangenome\", \"schema\": \"pangenome\", \"table\": \"genome\", \"level\": \"INFO\", \"module\": \"run_validations\", \"msg\": \"All validation rules passed. No issues found.\"}\n",
      "\n",
      "✅ Passed Rules:\n",
      "✔️ genome_id - not_null\n",
      "{\"time\": \"2025-07-10 05:30:16,219\", \"pipeline\": \"pangenome\", \"schema\": \"pangenome\", \"table\": \"genome\", \"level\": \"INFO\", \"module\": \"run_validations\", \"msg\": \"Passed: genome_id - not_null\"}\n",
      "✔️ genome_id - regex_match\n",
      "{\"time\": \"2025-07-10 05:30:16,220\", \"pipeline\": \"pangenome\", \"schema\": \"pangenome\", \"table\": \"genome\", \"level\": \"INFO\", \"module\": \"run_validations\", \"msg\": \"Passed: genome_id - regex_match\"}\n",
      "✔️ gtdb_species_clade_id - not_null\n",
      "{\"time\": \"2025-07-10 05:30:16,220\", \"pipeline\": \"pangenome\", \"schema\": \"pangenome\", \"table\": \"genome\", \"level\": \"INFO\", \"module\": \"run_validations\", \"msg\": \"Passed: gtdb_species_clade_id - not_null\"}\n",
      "✔️ gtdb_taxonomy_id - not_null\n",
      "{\"time\": \"2025-07-10 05:30:16,221\", \"pipeline\": \"pangenome\", \"schema\": \"pangenome\", \"table\": \"genome\", \"level\": \"INFO\", \"module\": \"run_validations\", \"msg\": \"Passed: gtdb_taxonomy_id - not_null\"}\n",
      "{\"time\": \"2025-07-10 05:30:16,309\", \"pipeline\": \"pangenome\", \"schema\": \"pangenome\", \"table\": \"genome\", \"level\": \"INFO\", \"module\": \"config_loader\", \"msg\": \"Loading config from MinIO: bucket=cdm-lake, key=config-json/genome.json\"}\n",
      "{\"time\": \"2025-07-10 05:30:16,319\", \"pipeline\": \"pangenome\", \"schema\": \"pangenome\", \"table\": \"genome\", \"level\": \"INFO\", \"module\": \"config_loader\", \"msg\": \"Config loaded successfully from MinIO\"}\n",
      "{\"time\": \"2025-07-10 05:30:16,321\", \"pipeline\": \"pangenome\", \"schema\": \"pangenome\", \"table\": \"genome\", \"level\": \"INFO\", \"module\": \"config_loader\", \"msg\": \"All required fields are present in the config\"}\n",
      "{\"time\": \"2025-07-10 05:30:16,322\", \"pipeline\": \"pangenome\", \"schema\": \"pangenome\", \"table\": \"genome\", \"level\": \"DEBUG\", \"module\": \"config_loader\", \"msg\": \"Referential integrity rules: [{'foreign_key': 'genome_id', 'reference_table': 'gtdb_metadata', 'reference_column': 'accession', 'database': 'pangenome', 'action': 'log'}, {'foreign_key': 'gtdb_species_clade_id', 'reference_table': 'gtdb_species_clade', 'reference_column': 'gtdb_species_clade_id', 'database': 'pangenome', 'action': 'log'}, {'foreign_key': 'gtdb_taxonomy_id', 'reference_table': 'gtdb_taxonomy_r214v1', 'reference_column': 'gtdb_taxonomy_id', 'database': 'pangenome', 'action': 'log'}]\"}\n",
      "{\"time\": \"2025-07-10 05:30:16,323\", \"pipeline\": \"pangenome\", \"schema\": \"pangenome\", \"table\": \"genome\", \"level\": \"DEBUG\", \"module\": \"config_loader\", \"msg\": \"Target table: pangenome.genome\"}\n",
      "{\"time\": \"2025-07-10 05:30:23,500\", \"pipeline\": \"pangenome\", \"schema\": \"pangenome\", \"table\": \"genome\", \"level\": \"INFO\", \"module\": \"run_referential_integrity_checks\", \"msg\": \"Starting referential integrity checks for table: pangenome.genome\"}\n",
      "{\"time\": \"2025-07-10 05:30:23,501\", \"pipeline\": \"pangenome\", \"schema\": \"pangenome\", \"table\": \"genome\", \"level\": \"INFO\", \"module\": \"run_referential_integrity_checks\", \"msg\": \"Checking foreign key: genome_id in pangenome.genome → accession in pangenome.gtdb_metadata\"}\n",
      "\n",
      "🔍 Checking FK `genome_id` in `pangenome.genome` → `accession` in `pangenome.gtdb_metadata`\n",
      "{\"time\": \"2025-07-10 05:30:29,917\", \"pipeline\": \"pangenome\", \"schema\": \"pangenome\", \"table\": \"genome\", \"level\": \"INFO\", \"module\": \"run_referential_integrity_checks\", \"msg\": \"Violations found: 0\"}\n",
      " → Violations found: 0\n",
      "{\"time\": \"2025-07-10 05:30:29,918\", \"pipeline\": \"pangenome\", \"schema\": \"pangenome\", \"table\": \"genome\", \"level\": \"INFO\", \"module\": \"run_referential_integrity_checks\", \"msg\": \"Checking foreign key: gtdb_species_clade_id in pangenome.genome → gtdb_species_clade_id in pangenome.gtdb_species_clade\"}\n",
      "\n",
      "🔍 Checking FK `gtdb_species_clade_id` in `pangenome.genome` → `gtdb_species_clade_id` in `pangenome.gtdb_species_clade`\n",
      "{\"time\": \"2025-07-10 05:30:31,391\", \"pipeline\": \"pangenome\", \"schema\": \"pangenome\", \"table\": \"genome\", \"level\": \"INFO\", \"module\": \"run_referential_integrity_checks\", \"msg\": \"Violations found: 0\"}\n",
      " → Violations found: 0\n",
      "{\"time\": \"2025-07-10 05:30:31,392\", \"pipeline\": \"pangenome\", \"schema\": \"pangenome\", \"table\": \"genome\", \"level\": \"INFO\", \"module\": \"run_referential_integrity_checks\", \"msg\": \"Checking foreign key: gtdb_taxonomy_id in pangenome.genome → gtdb_taxonomy_id in pangenome.gtdb_taxonomy_r214v1\"}\n",
      "\n",
      "🔍 Checking FK `gtdb_taxonomy_id` in `pangenome.genome` → `gtdb_taxonomy_id` in `pangenome.gtdb_taxonomy_r214v1`\n",
      "{\"time\": \"2025-07-10 05:30:32,838\", \"pipeline\": \"pangenome\", \"schema\": \"pangenome\", \"table\": \"genome\", \"level\": \"INFO\", \"module\": \"run_referential_integrity_checks\", \"msg\": \"Violations found: 293059\"}\n",
      " → Violations found: 293059\n",
      " → Sample violations:\n",
      "{\"time\": \"2025-07-10 05:30:32,840\", \"pipeline\": \"pangenome\", \"schema\": \"pangenome\", \"table\": \"genome\", \"level\": \"WARNING\", \"module\": \"run_referential_integrity_checks\", \"msg\": \"293059 violations found in referential integrity check for FK: gtdb_taxonomy_id → gtdb_taxonomy_id in pangenome.gtdb_taxonomy_r214v1\"}\n",
      "{\"time\": \"2025-07-10 05:30:33,904\", \"pipeline\": \"pangenome\", \"schema\": \"pangenome\", \"table\": \"genome\", \"level\": \"ERROR\", \"module\": \"run_referential_integrity_checks\", \"msg\": \"Sample violations for FK 'gtdb_taxonomy_id': [{'gtdb_taxonomy_id': 'd__Bacteria;p__Bacteroidota;c__Bacteroidia;o__Bacteroidales;f__Porphyromonadaceae;g__Porphyromonas_A'}, {'gtdb_taxonomy_id': 'd__Bacteria;p__Bacteroidota;c__Bacteroidia;o__Bacteroidales;f__Porphyromonadaceae;g__Porphyromonas_A'}, {'gtdb_taxonomy_id': 'd__Bacteria;p__Bacteroidota;c__Bacteroidia;o__Bacteroidales;f__Porphyromonadaceae;g__Porphyromonas_A'}, {'gtdb_taxonomy_id': 'd__Bacteria;p__Chloroflexota;c__Dehalococcoidia;o__Bin125;f__Bin125;g__Bin125'}, {'gtdb_taxonomy_id': 'd__Bacteria;p__Chloroflexota;c__Dehalococcoidia;o__Bin125;f__Bin125;g__Bin125'}]\"}\n",
      "{\"time\": \"2025-07-10 05:30:33,909\", \"pipeline\": \"pangenome\", \"schema\": \"pangenome\", \"table\": \"genome\", \"level\": \"DEBUG\", \"module\": \"config_loader\", \"msg\": \"Logging config: {'error_table': 'genome_errors', 'output_delta_path': 's3a://cdm-lake/logs/errors/genome'}\"}\n"
     ]
    },
    {
     "name": "stdout",
     "output_type": "stream",
     "text": [
      "{\"time\": \"2025-07-10 05:30:37,877\", \"pipeline\": \"pangenome\", \"schema\": \"pangenome\", \"table\": \"genome\", \"level\": \"ERROR\", \"module\": \"run_referential_integrity_checks\", \"msg\": \"Referential integrity violations written to Delta table: pangenome.genome_errors at s3a://cdm-lake/logs/errors/genome\"}\n",
      "\n",
      "🚨 All violations logged to: pangenome.genome_errors\n",
      "{\"time\": \"2025-07-10 05:30:37,878\", \"pipeline\": \"pangenome\", \"schema\": \"pangenome\", \"table\": \"genome\", \"level\": \"WARNING\", \"module\": \"run_referential_integrity_checks\", \"msg\": \"Referential integrity check(s) failed.\"}\n",
      "\n",
      "❌ Some referential integrity checks failed.\n"
     ]
    },
    {
     "data": {
      "text/plain": [
       "False"
      ]
     },
     "execution_count": 2,
     "metadata": {},
     "output_type": "execute_result"
    }
   ],
   "source": [
    "\n",
    "# Validate input files\n",
    "from src.input_file_validator import validate_input_files\n",
    "validate_input_files(loader, logger)\n",
    "\n",
    "\n",
    "# Check schema headers\n",
    "from src.validate_schema import validate_schema_against_file\n",
    "validate_schema_against_file(loader, logger)\n",
    "\n",
    "\n",
    "# Check TSV format\n",
    "#from src.input_file_validator import validate_input_files\n",
    "#validate_input_files(loader)\n",
    "\n",
    "# Run validations\n",
    "from src.run_validations import run_validations_from_config\n",
    "run_validations_from_config(loader, logger)\n",
    "\n",
    "\n",
    "# Referential integrity\n",
    "from src.run_referential_integrity_checks import run_referential_integrity_checks\n",
    "run_referential_integrity_checks(spark, loader, logger)\n",
    "\n",
    "\n",
    "#import importlib\n",
    "#import src.run_great_expectations_validations\n",
    "\n",
    "#importlib.reload(src.run_great_expectations_validations)\n",
    "\n",
    "\n"
   ]
  },
  {
   "cell_type": "code",
   "execution_count": 3,
   "id": "731c5f7e",
   "metadata": {},
   "outputs": [
    {
     "name": "stdout",
     "output_type": "stream",
     "text": [
      "{\"time\": \"2025-07-10 05:30:39,447\", \"pipeline\": \"pangenome\", \"schema\": \"pangenome\", \"table\": \"genome\", \"level\": \"DEBUG\", \"module\": \"config_loader\", \"msg\": \"Target table: pangenome.genome\"}\n",
      "{\"time\": \"2025-07-10 05:30:39,448\", \"pipeline\": \"pangenome\", \"schema\": \"pangenome\", \"table\": \"genome\", \"level\": \"INFO\", \"module\": \"run_great_expectations_validations\", \"msg\": \"Starting Great Expectations validation for table: pangenome.genome with suite: default_suite\"}\n",
      "{\"time\": \"2025-07-10 05:30:39,499\", \"pipeline\": \"pangenome\", \"schema\": \"pangenome\", \"table\": \"genome\", \"level\": \"INFO\", \"module\": \"run_great_expectations_validations\", \"msg\": \"Loaded Spark table: pangenome.genome\"}\n",
      "{\"time\": \"2025-07-10 05:30:39,648\", \"pipeline\": \"pangenome\", \"schema\": \"pangenome\", \"table\": \"genome\", \"level\": \"INFO\", \"module\": \"run_great_expectations_validations\", \"msg\": \"Great Expectations context initialized.\"}\n",
      "{\"time\": \"2025-07-10 05:30:39,673\", \"pipeline\": \"pangenome\", \"schema\": \"pangenome\", \"table\": \"genome\", \"level\": \"INFO\", \"module\": \"run_great_expectations_validations\", \"msg\": \"Expectation suite 'default_suite' added or updated.\"}\n",
      "{\"time\": \"2025-07-10 05:30:39,768\", \"pipeline\": \"pangenome\", \"schema\": \"pangenome\", \"table\": \"genome\", \"level\": \"INFO\", \"module\": \"run_great_expectations_validations\", \"msg\": \"Spark datasource registered in GE context.\"}\n",
      "{\"time\": \"2025-07-10 05:30:39,769\", \"pipeline\": \"pangenome\", \"schema\": \"pangenome\", \"table\": \"genome\", \"level\": \"DEBUG\", \"module\": \"run_great_expectations_validations\", \"msg\": \"Batch request created for data asset: pangenome_genome\"}\n",
      "{\"time\": \"2025-07-10 05:30:39,939\", \"pipeline\": \"pangenome\", \"schema\": \"pangenome\", \"table\": \"genome\", \"level\": \"INFO\", \"module\": \"run_great_expectations_validations\", \"msg\": \"Validator initialized for batch request.\"}\n",
      "{\"time\": \"2025-07-10 05:30:39,942\", \"pipeline\": \"pangenome\", \"schema\": \"pangenome\", \"table\": \"genome\", \"level\": \"DEBUG\", \"module\": \"run_great_expectations_validations\", \"msg\": \"Found 6 expectations to apply.\"}\n",
      "{\"time\": \"2025-07-10 05:30:39,944\", \"pipeline\": \"pangenome\", \"schema\": \"pangenome\", \"table\": \"genome\", \"level\": \"DEBUG\", \"module\": \"run_great_expectations_validations\", \"msg\": \"Loaded GE validations config: [{'expectation_type': 'expect_column_values_to_not_be_null', 'params': {'column': 'genome_id'}}, {'expectation_type': 'expect_column_values_to_match_regex', 'params': {'column': 'genome_id', 'regex': '^[A-Za-z0-9_.-]+$'}}, {'expectation_type': 'expect_column_values_to_not_be_null', 'params': {'column': 'gtdb_species_clade_id'}}, {'expectation_type': 'expect_column_values_to_not_be_null', 'params': {'column': 'gtdb_taxonomy_id'}}, {'expectation_type': 'expect_column_to_exist', 'params': {'column': 'ncbi_biosample_id'}}, {'expectation_type': 'expect_column_to_exist', 'params': {'column': 'sample_id'}}]\"}\n"
     ]
    },
    {
     "data": {
      "application/vnd.jupyter.widget-view+json": {
       "model_id": "280a03f0a82a4b0391e50f3694a4cf8d",
       "version_major": 2,
       "version_minor": 0
      },
      "text/plain": [
       "Calculating Metrics:   0%|          | 0/8 [00:00<?, ?it/s]"
      ]
     },
     "metadata": {},
     "output_type": "display_data"
    },
    {
     "name": "stdout",
     "output_type": "stream",
     "text": [
      "{\"time\": \"2025-07-10 05:30:40,727\", \"pipeline\": \"pangenome\", \"schema\": \"pangenome\", \"table\": \"genome\", \"level\": \"INFO\", \"module\": \"run_great_expectations_validations\", \"msg\": \"Applied GE expectation: expect_column_values_to_not_be_null with args {'column': 'genome_id'} → result: True\"}\n"
     ]
    },
    {
     "data": {
      "application/vnd.jupyter.widget-view+json": {
       "model_id": "03ac56a87729488dad2d34bfbd8aea1d",
       "version_major": 2,
       "version_minor": 0
      },
      "text/plain": [
       "Calculating Metrics:   0%|          | 0/11 [00:00<?, ?it/s]"
      ]
     },
     "metadata": {},
     "output_type": "display_data"
    },
    {
     "name": "stdout",
     "output_type": "stream",
     "text": [
      "{\"time\": \"2025-07-10 05:30:41,062\", \"pipeline\": \"pangenome\", \"schema\": \"pangenome\", \"table\": \"genome\", \"level\": \"INFO\", \"module\": \"run_great_expectations_validations\", \"msg\": \"Applied GE expectation: expect_column_values_to_match_regex with args {'column': 'genome_id', 'regex': '^[A-Za-z0-9_.-]+$'} → result: True\"}\n"
     ]
    },
    {
     "data": {
      "application/vnd.jupyter.widget-view+json": {
       "model_id": "dfb0875e03be43bb833b45d33aa298ff",
       "version_major": 2,
       "version_minor": 0
      },
      "text/plain": [
       "Calculating Metrics:   0%|          | 0/8 [00:00<?, ?it/s]"
      ]
     },
     "metadata": {},
     "output_type": "display_data"
    },
    {
     "name": "stdout",
     "output_type": "stream",
     "text": [
      "{\"time\": \"2025-07-10 05:30:41,289\", \"pipeline\": \"pangenome\", \"schema\": \"pangenome\", \"table\": \"genome\", \"level\": \"INFO\", \"module\": \"run_great_expectations_validations\", \"msg\": \"Applied GE expectation: expect_column_values_to_not_be_null with args {'column': 'gtdb_species_clade_id'} → result: True\"}\n"
     ]
    },
    {
     "data": {
      "application/vnd.jupyter.widget-view+json": {
       "model_id": "aa316c7c45144d27ae30b09e7df90137",
       "version_major": 2,
       "version_minor": 0
      },
      "text/plain": [
       "Calculating Metrics:   0%|          | 0/8 [00:00<?, ?it/s]"
      ]
     },
     "metadata": {},
     "output_type": "display_data"
    },
    {
     "name": "stdout",
     "output_type": "stream",
     "text": [
      "{\"time\": \"2025-07-10 05:30:41,501\", \"pipeline\": \"pangenome\", \"schema\": \"pangenome\", \"table\": \"genome\", \"level\": \"INFO\", \"module\": \"run_great_expectations_validations\", \"msg\": \"Applied GE expectation: expect_column_values_to_not_be_null with args {'column': 'gtdb_taxonomy_id'} → result: True\"}\n"
     ]
    },
    {
     "data": {
      "application/vnd.jupyter.widget-view+json": {
       "model_id": "347d5c0b6fd7482bbd8b0ee151275058",
       "version_major": 2,
       "version_minor": 0
      },
      "text/plain": [
       "Calculating Metrics:   0%|          | 0/2 [00:00<?, ?it/s]"
      ]
     },
     "metadata": {},
     "output_type": "display_data"
    },
    {
     "name": "stdout",
     "output_type": "stream",
     "text": [
      "{\"time\": \"2025-07-10 05:30:41,514\", \"pipeline\": \"pangenome\", \"schema\": \"pangenome\", \"table\": \"genome\", \"level\": \"INFO\", \"module\": \"run_great_expectations_validations\", \"msg\": \"Applied GE expectation: expect_column_to_exist with args {'column': 'ncbi_biosample_id'} → result: True\"}\n"
     ]
    },
    {
     "data": {
      "application/vnd.jupyter.widget-view+json": {
       "model_id": "7e37bb34f023491ba04ae84f1f2a56b0",
       "version_major": 2,
       "version_minor": 0
      },
      "text/plain": [
       "Calculating Metrics:   0%|          | 0/2 [00:00<?, ?it/s]"
      ]
     },
     "metadata": {},
     "output_type": "display_data"
    },
    {
     "name": "stdout",
     "output_type": "stream",
     "text": [
      "{\"time\": \"2025-07-10 05:30:41,529\", \"pipeline\": \"pangenome\", \"schema\": \"pangenome\", \"table\": \"genome\", \"level\": \"INFO\", \"module\": \"run_great_expectations_validations\", \"msg\": \"Applied GE expectation: expect_column_to_exist with args {'column': 'sample_id'} → result: False\"}\n",
      "{\"time\": \"2025-07-10 05:30:41,556\", \"pipeline\": \"pangenome\", \"schema\": \"pangenome\", \"table\": \"genome\", \"level\": \"INFO\", \"module\": \"run_great_expectations_validations\", \"msg\": \"Expectations saved to suite.\"}\n"
     ]
    },
    {
     "data": {
      "application/vnd.jupyter.widget-view+json": {
       "model_id": "6336a0d91bf541478f84955a8e11375c",
       "version_major": 2,
       "version_minor": 0
      },
      "text/plain": [
       "Calculating Metrics:   0%|          | 0/20 [00:00<?, ?it/s]"
      ]
     },
     "metadata": {},
     "output_type": "display_data"
    },
    {
     "name": "stdout",
     "output_type": "stream",
     "text": [
      "{\"time\": \"2025-07-10 05:30:42,122\", \"pipeline\": \"pangenome\", \"schema\": \"pangenome\", \"table\": \"genome\", \"level\": \"INFO\", \"module\": \"run_great_expectations_validations\", \"msg\": \"Validation run completed.\"}\n",
      "{\"time\": \"2025-07-10 05:30:42,125\", \"pipeline\": \"pangenome\", \"schema\": \"pangenome\", \"table\": \"genome\", \"level\": \"DEBUG\", \"module\": \"run_great_expectations_validations\", \"msg\": \"Validation summary: {'success': False, 'successful_expectations': 5, 'unsuccessful_expectations': 1, 'success_percent': 83.33333333333334}\"}\n",
      "{\"time\": \"2025-07-10 05:30:43,926\", \"pipeline\": \"pangenome\", \"schema\": \"pangenome\", \"table\": \"genome\", \"level\": \"INFO\", \"module\": \"run_great_expectations_validations\", \"msg\": \"Data Docs built after validation.\"}\n"
     ]
    },
    {
     "data": {
      "application/vnd.jupyter.widget-view+json": {
       "model_id": "291673f940804c118a9e14f2c111701f",
       "version_major": 2,
       "version_minor": 0
      },
      "text/plain": [
       "Calculating Metrics:   0%|          | 0/28 [00:00<?, ?it/s]"
      ]
     },
     "metadata": {},
     "output_type": "display_data"
    },
    {
     "name": "stdout",
     "output_type": "stream",
     "text": [
      "{\"time\": \"2025-07-10 05:30:45,659\", \"pipeline\": \"pangenome\", \"schema\": \"pangenome\", \"table\": \"genome\", \"level\": \"INFO\", \"module\": \"run_great_expectations_validations\", \"msg\": \"Checkpoint executed.\"}\n",
      "{\"time\": \"2025-07-10 05:30:47,567\", \"pipeline\": \"pangenome\", \"schema\": \"pangenome\", \"table\": \"genome\", \"level\": \"INFO\", \"module\": \"run_great_expectations_validations\", \"msg\": \"Data Docs rebuilt with checkpoint results.\"}\n",
      "✅ GE validation and checkpoint complete. Data Docs generated.\n",
      "✅ Uploaded log to MinIO at: s3://cdm-lake/logs/pangenome/pipeline_run_20250710_052906.log\n"
     ]
    }
   ],
   "source": [
    "# Great Expectations\n",
    "from src.run_great_expectations_validations import run_great_expectations_validation\n",
    "run_great_expectations_validation(spark, loader, logger)\n",
    "\n",
    "\n",
    "# Upload log file to MinIO\n",
    "upload_to_minio(logger.log_file_path)"
   ]
  },
  {
   "cell_type": "code",
   "execution_count": null,
   "id": "b89f5279",
   "metadata": {},
   "outputs": [],
   "source": [
    "df = spark.read.format(\"delta\").load(\"s3a://cdm-lake/logs/errors/genome\")\n",
    "df.show(truncate=False)\n"
   ]
  },
  {
   "cell_type": "code",
   "execution_count": null,
   "id": "4a789a4c",
   "metadata": {},
   "outputs": [],
   "source": [
    "spark.sql(\"\"\"\n",
    "SELECT count(1) \n",
    "FROM delta.`s3a://cdm-lake/logs/errors/genome`\n",
    "\"\"\").show(truncate=False)"
   ]
  },
  {
   "cell_type": "code",
   "execution_count": null,
   "id": "3dd3cc1b",
   "metadata": {},
   "outputs": [],
   "source": [
    "spark.catalog.listTables(\"pangenome\")"
   ]
  },
  {
   "cell_type": "code",
   "execution_count": null,
   "id": "b945c183",
   "metadata": {},
   "outputs": [],
   "source": [
    "tables = spark.catalog.listTables(\"pangenome\")\n",
    "\n",
    "for table in tables:\n",
    "    table_name = table.name\n",
    "    print(f\"\\n📄 Table: {table_name}\")\n",
    "    try:\n",
    "        location = spark.sql(f\"DESCRIBE DETAIL pangenome.{table_name}\").select(\"location\").collect()[0][\"location\"]\n",
    "        print(f\"   📍 Location: {location}\")\n",
    "    except Exception as e:\n",
    "        print(f\"   ⚠️ Could not get location: {e}\")\n"
   ]
  },
  {
   "cell_type": "code",
   "execution_count": null,
   "id": "0018fab7",
   "metadata": {},
   "outputs": [],
   "source": []
  }
 ],
 "metadata": {
  "kernelspec": {
   "display_name": "Python 3 (ipykernel)",
   "language": "python",
   "name": "python3"
  },
  "language_info": {
   "codemirror_mode": {
    "name": "ipython",
    "version": 3
   },
   "file_extension": ".py",
   "mimetype": "text/x-python",
   "name": "python",
   "nbconvert_exporter": "python",
   "pygments_lexer": "ipython3",
   "version": "3.10.11"
  }
 },
 "nbformat": 4,
 "nbformat_minor": 5
}
